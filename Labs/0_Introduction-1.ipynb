{
 "cells": [
  {
   "cell_type": "markdown",
   "metadata": {},
   "source": [
    "# <center>Lab 0: Python Setup and Introduction</center>\n",
    "<center>DATA 598, Winter 2023</center>\n",
    "<center>TA: Jillian Fisher</center>\n",
    "\n",
    "<center> Adapted from teaching material created by Alec Greaves-Tunnell and Ronak Mehta </center>"
   ]
  },
  {
   "cell_type": "markdown",
   "metadata": {},
   "source": [
    "## 0. Overview\n",
    "\n",
    "In this lab, we will cover:\n",
    "- How to install Python and configure a suitable coding environment for DATA 598\n",
    "- Basic data types and operations in Python\n",
    "- Basics of control flow in Python\n",
    "- How to import and use Python libraries, particularly Numpy and Pandas\n",
    "- How to define your own functions in Python\n",
    "- How to plot data with Matplotlib\n",
    "\n",
    "Some of you may already be familiar with Python and the libraries mentioned above. If so, we'd ask that you make sure that you have an environment suitable for this course (see Section 1)."
   ]
  },
  {
   "cell_type": "markdown",
   "metadata": {},
   "source": [
    "## 1. Installation and environment config\n",
    "The first objective is to set up your own Python environment for DATA 598. This will be required to run the labs interactively throughout the course, so it's important that this section is followed carefully. Even if you are already familiar with Python, please complete the checklist in \"__Before the first course__\".\n",
    "\n",
    "### 1.0 Visual Studio Code\n",
    "Visual Studio Code (VSCode) is a code editor that allows all machines (macOS or Windows) to use a terminal, easily display and edit .py and .ipynb files, and create new documents. Although other editors will work for this course, this is a *highly* recommended program for new python and pytorch users. To download follow the instruction [here](https://code.visualstudio.com). \n",
    "\n",
    "### 1.1 Environment setup with Conda\n",
    "\n",
    "#### Windows users\n",
    "\n",
    "Only needed if you are **NOT** using VSCode (above), otherwise you can follow the same instructions for macOS by opening VSCode and pressing \"ctrl + ~\" to open a terminal on the bottom of the screen. For Windows users (not using VSCode), please install [Ubuntu](https://ubuntu.com/tutorials/ubuntu-on-windows#1-overview) on the Windows Subsystem for Linux (WSL). Then, run the Ubuntu app to open a Linux terminal. This will allow you to follow the same instructions as macOS and Linux users, and will generally make it easier to run all of the software required for this course.\n",
    "\n",
    "#### Conda\n",
    "\n",
    "We *highly* recommend that you use [Conda](https://docs.conda.io/en/latest/) to manage your Python environments. Conda is an open-source system for configuration and management of coding environments on your machine. Please refer to the [installation page](https://conda.io/projects/conda/en/latest/user-guide/install/index.html) for detailed instructions on how to install Conda for macOS or Linux. It is perfectly fine to install `miniconda` instead of the full `Anaconda` installer. To do so, find the link address of the [installer](https://docs.conda.io/en/latest/miniconda.html#linux-installers) for your machine (use the .bash for the macOS). You can use the installer for the latest version of Python. You can copy the link by using \"ctr+c\" or \"command+c\" on the blue links. If you do not know the operating system that is correct for your machine, please use the following steps to find this information for a [Mac](https://support.apple.com/en-us/HT201260) or [Windows](https://www.intel.com/content/www/us/en/support/articles/000018246/emerging-technologies.html).\n",
    "\n",
    "\n",
    " In the terminal, navigate to the directory you will use for this course, and run\n",
    "\n",
    "`wget <link-address-of-installer>`\n",
    "\n",
    "* If you get the error \"zsh: command not found: wget\", this can be solved by first install [homebrew](https://brew.sh) using this comment:\n",
    "\n",
    "    `/bin/bash -c \"$(curl -fsSL https://raw.githubusercontent.com/Homebrew/install/HEAD/install.sh)\"`\n",
    "\n",
    "    and then install the command wget using the following command\n",
    "\n",
    "    `brew install wget`.\n",
    "\n",
    "    Now, you should be able to run the wget command above to downaload the installer.\n",
    "\n",
    "This will download the installation script for `miniconda`. Then run\n",
    "\n",
    "`./<installation-script>.sh`\n",
    "\n",
    "to install the software, and restart the terminal.\n",
    "\n",
    "* If you get the error \"zsh: permission denied:./<installation-script>.sh\", this can be solved by running the following commend. \n",
    "\n",
    "    `chmod +x ./<installation-script>.sh`\n",
    "\n",
    "    and then re-run the installation command above. \n",
    "\n",
    "__Please install a Python 3.x version__; the labs for this course have all been developed in Python 3.8. \n",
    "\n",
    "\n",
    "Once you have Conda installed, navigate to the directory in which you'd like to run the labs and make sure that it contains the file `environment-DATA598.yml` (avaliable on [Canvas](https://canvas.uw.edu/courses/1612183/pages/course-materials)). Install the environment by running\n",
    "\n",
    "`conda env create -f environment-DATA598.yml`\n",
    "\n",
    "in the command line. To test that this was installed correctly, run\n",
    "\n",
    "`source activate data598`\n"
   ]
  },
  {
   "cell_type": "markdown",
   "metadata": {},
   "source": [
    "### 1.2 Jupyter notebooks\n",
    "\n",
    "All labs in this course (including this one) will be presented as Jupyter notebooks. Jupyter notebooks are organized into cells that may contain (formatted) text or executable Python code. When a code block is run, its output is displayed immediately below that cell; notebooks thus allow for \"interactive\" code development in the sense that we can view results, change parameters, define new functions, and more, all within a running Python session. They are also a useful tool for reproducible coding and research.\n",
    "\n",
    "Python notebook files have the extension `.ipynb`. To start a notebook, run \n",
    "\n",
    "`jupyter notebook`\n",
    "\n",
    "or if you are using VSCode, you can create a new document using the folder symbol on the left side of the screen and using the extension `.ipynb` (such as \"test.ipynb\").\n"
   ]
  },
  {
   "cell_type": "markdown",
   "metadata": {},
   "source": [
    "### 1.3 Before the first class\n",
    "\n",
    "You should be running this lab as a Jupyter notebook, not viewing it as a static HTML file. In particular this means that you should be able to execute code blocks (indicated by input counter `In []:` to the left of the block) such as the one below. \n",
    "\n",
    "\n",
    "Run the code block below. If your environment is properly setup, it should print a collection of lines starting with `Requirement already satisfied: ...`"
   ]
  },
  {
   "cell_type": "code",
   "execution_count": 64,
   "metadata": {
    "scrolled": true
   },
   "outputs": [
    {
     "name": "stdout",
     "output_type": "stream",
     "text": [
      "Requirement already satisfied: numpy in /Users/jillianfisher/opt/miniconda3/envs/data598/lib/python3.8/site-packages (1.24.1)\n",
      "Requirement already satisfied: scikit-learn in /Users/jillianfisher/opt/miniconda3/envs/data598/lib/python3.8/site-packages (1.2.0)\n",
      "Requirement already satisfied: matplotlib in /Users/jillianfisher/opt/miniconda3/envs/data598/lib/python3.8/site-packages (3.6.2)\n",
      "Requirement already satisfied: pandas in /Users/jillianfisher/opt/miniconda3/envs/data598/lib/python3.8/site-packages (1.5.2)\n",
      "Requirement already satisfied: threadpoolctl>=2.0.0 in /Users/jillianfisher/opt/miniconda3/envs/data598/lib/python3.8/site-packages (from scikit-learn) (3.1.0)\n",
      "Requirement already satisfied: scipy>=1.3.2 in /Users/jillianfisher/opt/miniconda3/envs/data598/lib/python3.8/site-packages (from scikit-learn) (1.9.3)\n",
      "Requirement already satisfied: joblib>=1.1.1 in /Users/jillianfisher/opt/miniconda3/envs/data598/lib/python3.8/site-packages (from scikit-learn) (1.2.0)\n",
      "Requirement already satisfied: pyparsing>=2.2.1 in /Users/jillianfisher/opt/miniconda3/envs/data598/lib/python3.8/site-packages (from matplotlib) (3.0.9)\n",
      "Requirement already satisfied: fonttools>=4.22.0 in /Users/jillianfisher/opt/miniconda3/envs/data598/lib/python3.8/site-packages (from matplotlib) (4.38.0)\n",
      "Requirement already satisfied: pillow>=6.2.0 in /Users/jillianfisher/opt/miniconda3/envs/data598/lib/python3.8/site-packages (from matplotlib) (9.2.0)\n",
      "Requirement already satisfied: kiwisolver>=1.0.1 in /Users/jillianfisher/opt/miniconda3/envs/data598/lib/python3.8/site-packages (from matplotlib) (1.4.4)\n",
      "Requirement already satisfied: packaging>=20.0 in /Users/jillianfisher/opt/miniconda3/envs/data598/lib/python3.8/site-packages (from matplotlib) (22.0)\n",
      "Requirement already satisfied: python-dateutil>=2.7 in /Users/jillianfisher/opt/miniconda3/envs/data598/lib/python3.8/site-packages (from matplotlib) (2.8.2)\n",
      "Requirement already satisfied: cycler>=0.10 in /Users/jillianfisher/opt/miniconda3/envs/data598/lib/python3.8/site-packages (from matplotlib) (0.11.0)\n",
      "Requirement already satisfied: contourpy>=1.0.1 in /Users/jillianfisher/opt/miniconda3/envs/data598/lib/python3.8/site-packages (from matplotlib) (1.0.6)\n",
      "Requirement already satisfied: pytz>=2020.1 in /Users/jillianfisher/opt/miniconda3/envs/data598/lib/python3.8/site-packages (from pandas) (2022.7)\n",
      "Requirement already satisfied: six>=1.5 in /Users/jillianfisher/opt/miniconda3/envs/data598/lib/python3.8/site-packages (from python-dateutil>=2.7->matplotlib) (1.16.0)\n"
     ]
    }
   ],
   "source": [
    "!pip3 install numpy scikit-learn matplotlib pandas"
   ]
  },
  {
   "cell_type": "markdown",
   "metadata": {},
   "source": [
    "## 2. Basic data types and operations\n",
    "\n",
    "Now that we have the notebook up and running, let's cover some Python basics. If your experience thus far is mainly in `R`, much here should still be somewhat familiar. Where appropriate, we'll try to highlight the most important differences."
   ]
  },
  {
   "cell_type": "markdown",
   "metadata": {},
   "source": [
    "### 2.1 Basic types\n",
    "\n",
    "Python is equipped with a variety of basic data types, including integers (`int`), e.g. 2, 0, -10204:"
   ]
  },
  {
   "cell_type": "code",
   "execution_count": 65,
   "metadata": {},
   "outputs": [
    {
     "data": {
      "text/plain": [
       "int"
      ]
     },
     "execution_count": 65,
     "metadata": {},
     "output_type": "execute_result"
    }
   ],
   "source": [
    "type(2) # this is a comment"
   ]
  },
  {
   "cell_type": "markdown",
   "metadata": {},
   "source": [
    "floats (`float`), e.g. 0.5, 1/7, -$\\pi$:"
   ]
  },
  {
   "cell_type": "code",
   "execution_count": 66,
   "metadata": {},
   "outputs": [
    {
     "data": {
      "text/plain": [
       "float"
      ]
     },
     "execution_count": 66,
     "metadata": {},
     "output_type": "execute_result"
    }
   ],
   "source": [
    "type(0.5)"
   ]
  },
  {
   "cell_type": "markdown",
   "metadata": {},
   "source": [
    "strings (`str`), e.g. 'hello', '5', '':"
   ]
  },
  {
   "cell_type": "code",
   "execution_count": 67,
   "metadata": {},
   "outputs": [
    {
     "data": {
      "text/plain": [
       "str"
      ]
     },
     "execution_count": 67,
     "metadata": {},
     "output_type": "execute_result"
    }
   ],
   "source": [
    "type('hello')"
   ]
  },
  {
   "cell_type": "markdown",
   "metadata": {},
   "source": [
    "and booleans (`bool`), `True` / `False`"
   ]
  },
  {
   "cell_type": "code",
   "execution_count": 68,
   "metadata": {},
   "outputs": [
    {
     "data": {
      "text/plain": [
       "bool"
      ]
     },
     "execution_count": 68,
     "metadata": {},
     "output_type": "execute_result"
    }
   ],
   "source": [
    "type(True)"
   ]
  },
  {
   "cell_type": "markdown",
   "metadata": {},
   "source": [
    "We can do arithmetic with the numeric data types. Note that we write $a**b $ to compute the exponent $a^b $."
   ]
  },
  {
   "cell_type": "code",
   "execution_count": 69,
   "metadata": {},
   "outputs": [
    {
     "data": {
      "text/plain": [
       "2.5714285714285716"
      ]
     },
     "execution_count": 69,
     "metadata": {},
     "output_type": "execute_result"
    }
   ],
   "source": [
    "5**2 / 7 - 1"
   ]
  },
  {
   "cell_type": "markdown",
   "metadata": {},
   "source": [
    "The operator `%` computes the remainder:"
   ]
  },
  {
   "cell_type": "code",
   "execution_count": 70,
   "metadata": {},
   "outputs": [
    {
     "data": {
      "text/plain": [
       "3"
      ]
     },
     "execution_count": 70,
     "metadata": {},
     "output_type": "execute_result"
    }
   ],
   "source": [
    "15 % 6"
   ]
  },
  {
   "cell_type": "markdown",
   "metadata": {},
   "source": [
    "#### 2.1 Knowledge Check\n",
    "1. What type of variable is \"1\"? How would the variable change if it was just 1?\n",
    "2. What type of variable is 1.25?\n",
    "3. Write code to solve the following equation:\n",
    "    $\\frac{(2*6)^4}{4^3}$\n"
   ]
  },
  {
   "cell_type": "code",
   "execution_count": 71,
   "metadata": {},
   "outputs": [],
   "source": [
    "# Write code for 2.1 Knowledge Check"
   ]
  },
  {
   "cell_type": "markdown",
   "metadata": {},
   "source": [
    "### 2.1 Lists and dictionarites\n",
    "\n",
    "Lists are constructed by square brackets:"
   ]
  },
  {
   "cell_type": "code",
   "execution_count": 72,
   "metadata": {},
   "outputs": [
    {
     "data": {
      "text/plain": [
       "[5, 10, 20]"
      ]
     },
     "execution_count": 72,
     "metadata": {},
     "output_type": "execute_result"
    }
   ],
   "source": [
    "a = [5, 10, 20]\n",
    "a"
   ]
  },
  {
   "cell_type": "code",
   "execution_count": 73,
   "metadata": {},
   "outputs": [
    {
     "data": {
      "text/plain": [
       "[5, 10, 20, 3, 'text']"
      ]
     },
     "execution_count": 73,
     "metadata": {},
     "output_type": "execute_result"
    }
   ],
   "source": [
    "a.append(3) # lists can be extended with append\n",
    "a.append('text') # lists can contain data of different types\n",
    "a"
   ]
  },
  {
   "cell_type": "code",
   "execution_count": 74,
   "metadata": {},
   "outputs": [
    {
     "data": {
      "text/plain": [
       "[5, 10, 20, 3, 'text', -5, 'b', 0.3333333333333333]"
      ]
     },
     "execution_count": 74,
     "metadata": {},
     "output_type": "execute_result"
    }
   ],
   "source": [
    "a + [-5, 'b', 2/6] # adding lists concatenates them"
   ]
  },
  {
   "cell_type": "markdown",
   "metadata": {},
   "source": [
    "One major difference from `R` is that __Python uses zero-indexing__, i.e. indices begin at 0, not 1:"
   ]
  },
  {
   "cell_type": "code",
   "execution_count": 75,
   "metadata": {},
   "outputs": [
    {
     "name": "stdout",
     "output_type": "stream",
     "text": [
      "5\n",
      "10\n"
     ]
    }
   ],
   "source": [
    "print(a[0])\n",
    "print(a[1])"
   ]
  },
  {
   "cell_type": "markdown",
   "metadata": {},
   "source": [
    "Ranges of indices can be selected using `start:end`. Leaving either `start` or `end` blank extends the indexing to the corresponding end of the array."
   ]
  },
  {
   "cell_type": "code",
   "execution_count": 76,
   "metadata": {},
   "outputs": [
    {
     "data": {
      "text/plain": [
       "[20, 3, 'text']"
      ]
     },
     "execution_count": 76,
     "metadata": {},
     "output_type": "execute_result"
    }
   ],
   "source": [
    "a[2:5]"
   ]
  },
  {
   "cell_type": "markdown",
   "metadata": {},
   "source": [
    "Negative indexes count backwards from the end of the array."
   ]
  },
  {
   "cell_type": "code",
   "execution_count": 77,
   "metadata": {},
   "outputs": [
    {
     "data": {
      "text/plain": [
       "3"
      ]
     },
     "execution_count": 77,
     "metadata": {},
     "output_type": "execute_result"
    }
   ],
   "source": [
    "a[-2]"
   ]
  },
  {
   "cell_type": "code",
   "execution_count": 78,
   "metadata": {},
   "outputs": [
    {
     "data": {
      "text/plain": [
       "[10, 20]"
      ]
     },
     "execution_count": 78,
     "metadata": {},
     "output_type": "execute_result"
    }
   ],
   "source": [
    "a[1:-2] # the rules above can be combined"
   ]
  },
  {
   "cell_type": "markdown",
   "metadata": {},
   "source": [
    "Dictionaries (also called maps in other languages) are indexed by providing a *key*, for which the associated *value* is returned. They are instantiated with key-value pairs within curly brackets."
   ]
  },
  {
   "cell_type": "code",
   "execution_count": 79,
   "metadata": {},
   "outputs": [
    {
     "data": {
      "text/plain": [
       "'hello'"
      ]
     },
     "execution_count": 79,
     "metadata": {},
     "output_type": "execute_result"
    }
   ],
   "source": [
    "d = {'a': [1,2,3], 'b': 'hello', 3: -1}\n",
    "d[3] # access a dictionary item with its key\n",
    "d['b']"
   ]
  },
  {
   "cell_type": "code",
   "execution_count": 80,
   "metadata": {},
   "outputs": [
    {
     "name": "stdout",
     "output_type": "stream",
     "text": [
      "['a', 'b', 3]\n",
      "[[1, 2, 3], 'hello', -1]\n"
     ]
    }
   ],
   "source": [
    "# dict keys and values \n",
    "print(list(d.keys()))\n",
    "print(list(d.values()))"
   ]
  },
  {
   "cell_type": "markdown",
   "metadata": {},
   "source": [
    "#### 2.2 Knowledge Check\n",
    "1. Create a list called \"list1\" which contains the integers 1,2,3, and 4. \n",
    "2. Add the string \"stats\" to the list \"list1\"\n",
    "3. Create a second list called \"list2\" which contains the floats 0.5 and 0.2.\n",
    "4. Create a third list called \"list3\" which is the combination of list1 and list2 (try to do this only using \"list1\" and \"list2\" instead of manually)\n",
    "5. Write code that prints the third entry of list3?\n",
    "6. Create a dictionary called \"dictionary\" with the keys \"list1\", \"list2\", and \"list3\" which contain the values of the corresponding lists. \n",
    "7. Write code the prints the entrires of \"list1\" using the \"dictionary\". "
   ]
  },
  {
   "cell_type": "code",
   "execution_count": 81,
   "metadata": {},
   "outputs": [],
   "source": [
    "# Write code for 2.2 Knowledge Check"
   ]
  },
  {
   "cell_type": "markdown",
   "metadata": {},
   "source": [
    "## 3. Control flow\n",
    "\n",
    "Python has control flow tools like `if / else` statements, `for` loops, and `while` loops that should be familiar from other languages. The main difference from R is that __code within a control statement is indicated by indentation__, not enclosed within brackets."
   ]
  },
  {
   "cell_type": "code",
   "execution_count": 82,
   "metadata": {},
   "outputs": [
    {
     "name": "stdout",
     "output_type": "stream",
     "text": [
      "divisible by 5\n"
     ]
    }
   ],
   "source": [
    "if a[0]%10==0:\n",
    "    print('divisible by 10')\n",
    "elif a[0]%5==0: # `elif` == `else if` in Python\n",
    "    print('divisible by 5')\n",
    "else:\n",
    "    print('neither')"
   ]
  },
  {
   "cell_type": "code",
   "execution_count": 83,
   "metadata": {},
   "outputs": [
    {
     "data": {
      "text/plain": [
       "[0, 1, 2, 3, 4]"
      ]
     },
     "execution_count": 83,
     "metadata": {},
     "output_type": "execute_result"
    }
   ],
   "source": [
    "range(5) # the range function returns an iterable object containing all integers in a specified range\n",
    "list(range(5)) # convert it to a list to print"
   ]
  },
  {
   "cell_type": "code",
   "execution_count": 84,
   "metadata": {},
   "outputs": [
    {
     "name": "stdout",
     "output_type": "stream",
     "text": [
      "2\n",
      "1\n",
      "0\n",
      "1\n",
      "2\n",
      "3\n"
     ]
    }
   ],
   "source": [
    "for i in range(-2,4):\n",
    "    print(abs(i)) # abs() returns the absolute value"
   ]
  },
  {
   "cell_type": "code",
   "execution_count": 85,
   "metadata": {},
   "outputs": [
    {
     "name": "stdout",
     "output_type": "stream",
     "text": [
      "7 -9\n"
     ]
    }
   ],
   "source": [
    "i = 5\n",
    "j = -11\n",
    "while i%7!=0 or j%3!=0:\n",
    "    i += 1 # shorthand for i = i + 1\n",
    "    j += 1\n",
    "    \n",
    "print(i,j)"
   ]
  },
  {
   "cell_type": "markdown",
   "metadata": {},
   "source": [
    "Operations on all items in a list can be expressed compactly through _list comprehensions_, as an alternative to writing out a `for` loop over the list elements:"
   ]
  },
  {
   "cell_type": "code",
   "execution_count": 86,
   "metadata": {},
   "outputs": [
    {
     "data": {
      "text/plain": [
       "[0, 3, 6, 9, 12, 15]"
      ]
     },
     "execution_count": 86,
     "metadata": {},
     "output_type": "execute_result"
    }
   ],
   "source": [
    "a = list(range(0,16,3))\n",
    "a"
   ]
  },
  {
   "cell_type": "code",
   "execution_count": 87,
   "metadata": {},
   "outputs": [
    {
     "data": {
      "text/plain": [
       "[0, 3, 0, 3, 0, 3]"
      ]
     },
     "execution_count": 87,
     "metadata": {},
     "output_type": "execute_result"
    }
   ],
   "source": [
    "[x%6 for x in a]"
   ]
  },
  {
   "cell_type": "code",
   "execution_count": 88,
   "metadata": {},
   "outputs": [
    {
     "data": {
      "text/plain": [
       "[0, 3, 0, 3, 0, 3]"
      ]
     },
     "execution_count": 88,
     "metadata": {},
     "output_type": "execute_result"
    }
   ],
   "source": [
    "b = []\n",
    "for x in a:\n",
    "    b.append(x%6)\n",
    "    \n",
    "b"
   ]
  },
  {
   "cell_type": "markdown",
   "metadata": {},
   "source": [
    "#### 3 Knowledge Check\n",
    "1. Create a \"for\" loop, which sums the numbers from \"list1\" created in 2.2 Knowledge Check 2.2. Can you do this two ways (uisng an explicit \"for\" loop and using list comprehension)?\n",
    "2. Create a new list, \"list4\", which is composed of the numbers 0,1,2,3,4 using a \"while\" loop. "
   ]
  },
  {
   "cell_type": "code",
   "execution_count": 89,
   "metadata": {},
   "outputs": [],
   "source": [
    "# Write code for 3 Knowledge Check"
   ]
  },
  {
   "cell_type": "markdown",
   "metadata": {},
   "source": [
    "## 4. Intro to Numpy\n",
    "\n",
    "### 4.1 Importing packages\n",
    "\n",
    "Scientific coding in Python makes extensive use of libraries beyond the base language. The functions implemented in these libararies are imported to the namespace of the current session by `import` statements. The way they are subsequently called depends on the `import` statement. Here we will focus on the `numpy` library, which contains a great variety of tools for scientific computing."
   ]
  },
  {
   "cell_type": "code",
   "execution_count": 90,
   "metadata": {},
   "outputs": [
    {
     "data": {
      "text/plain": [
       "array([0., 0., 0., 0.])"
      ]
     },
     "execution_count": 90,
     "metadata": {},
     "output_type": "execute_result"
    }
   ],
   "source": [
    "import numpy \n",
    "numpy.zeros(4) # the function zeros() is called from the numpy namespace"
   ]
  },
  {
   "cell_type": "code",
   "execution_count": 91,
   "metadata": {},
   "outputs": [
    {
     "data": {
      "text/plain": [
       "array([0., 0., 0., 0.])"
      ]
     },
     "execution_count": 91,
     "metadata": {},
     "output_type": "execute_result"
    }
   ],
   "source": [
    "import numpy as np # import numpy and assign it a different / shorter name (recommended!)\n",
    "np.zeros(4)"
   ]
  },
  {
   "cell_type": "code",
   "execution_count": 92,
   "metadata": {},
   "outputs": [
    {
     "data": {
      "text/plain": [
       "array([0., 0., 0., 0.])"
      ]
     },
     "execution_count": 92,
     "metadata": {},
     "output_type": "execute_result"
    }
   ],
   "source": [
    "from numpy import zeros # import only the zeros function from numpy, directly into the notebook namespace\n",
    "zeros(4)"
   ]
  },
  {
   "cell_type": "code",
   "execution_count": 93,
   "metadata": {},
   "outputs": [],
   "source": [
    "from numpy import * # imports every function in the package (not recommended)"
   ]
  },
  {
   "cell_type": "markdown",
   "metadata": {},
   "source": [
    "Packages such as numpy may contain sub-packages that we wish to use. Examples include the linear algebra library `numpy.linalg`, the sampling library `numpy.random`, and the plotting library `matplotlib.pyplot`."
   ]
  },
  {
   "cell_type": "markdown",
   "metadata": {},
   "source": [
    "### 4.2 Numpy arrays\n",
    "\n",
    "Numpy implements its own data structure, the N-dimensional array or `ndarray`, on which most of its operations are defined. An `ndarray` arranges a collection of items, all of the same type, along $N$ dimensions of fixed but not necessarily equal size. We will typically work with 1- or 2-dimensional arrays."
   ]
  },
  {
   "cell_type": "code",
   "execution_count": 94,
   "metadata": {},
   "outputs": [
    {
     "data": {
      "text/plain": [
       "array([0., 0., 0., 0.])"
      ]
     },
     "execution_count": 94,
     "metadata": {},
     "output_type": "execute_result"
    }
   ],
   "source": [
    "np.zeros(4) # instantiate a 1-D array of length 4 filled with zeros"
   ]
  },
  {
   "cell_type": "code",
   "execution_count": 95,
   "metadata": {},
   "outputs": [
    {
     "data": {
      "text/plain": [
       "array([[1., 1., 1., 1.],\n",
       "       [1., 1., 1., 1.]])"
      ]
     },
     "execution_count": 95,
     "metadata": {},
     "output_type": "execute_result"
    }
   ],
   "source": [
    "np.ones((2,4)) # instantiate a 2-D array of size (2 x 4) full of ones"
   ]
  },
  {
   "cell_type": "code",
   "execution_count": 96,
   "metadata": {},
   "outputs": [
    {
     "data": {
      "text/plain": [
       "array([[1., 0., 0.],\n",
       "       [0., 1., 0.],\n",
       "       [0., 0., 1.]])"
      ]
     },
     "execution_count": 96,
     "metadata": {},
     "output_type": "execute_result"
    }
   ],
   "source": [
    "np.eye(3) # instantiate an identity matrix of size 3x3"
   ]
  },
  {
   "cell_type": "code",
   "execution_count": 97,
   "metadata": {},
   "outputs": [
    {
     "data": {
      "text/plain": [
       "(4, 5, 2)"
      ]
     },
     "execution_count": 97,
     "metadata": {},
     "output_type": "execute_result"
    }
   ],
   "source": [
    "a = np.zeros((4,5,2))\n",
    "a.shape # the shape attribute returns the dimensions of the array"
   ]
  },
  {
   "cell_type": "code",
   "execution_count": 98,
   "metadata": {},
   "outputs": [
    {
     "data": {
      "text/plain": [
       "array([[ 0.96870337,  1.75258522, -0.69856859,  0.71569902],\n",
       "       [-0.5038913 ,  1.04254577,  1.17796693, -0.46644633],\n",
       "       [ 1.51633096, -0.17559744,  0.57684056, -0.15130362],\n",
       "       [ 1.07385566,  0.70582233,  0.48750705, -0.10799331]])"
      ]
     },
     "execution_count": 98,
     "metadata": {},
     "output_type": "execute_result"
    }
   ],
   "source": [
    "# generate a matrix with random entries, drawn from a normal distribution with mean 0 and std. dev. 1\n",
    "r = np.random.normal(loc=0, scale=1.0, size=(4,4))\n",
    "r"
   ]
  },
  {
   "cell_type": "code",
   "execution_count": 99,
   "metadata": {},
   "outputs": [
    {
     "data": {
      "text/plain": [
       "array([[-0.69856859,  0.71569902],\n",
       "       [ 1.17796693, -0.46644633]])"
      ]
     },
     "execution_count": 99,
     "metadata": {},
     "output_type": "execute_result"
    }
   ],
   "source": [
    "r[:2, -2:] # numpy arrays can be indexed similarly to lists"
   ]
  },
  {
   "cell_type": "code",
   "execution_count": 100,
   "metadata": {},
   "outputs": [
    {
     "data": {
      "text/plain": [
       "array([[0.96870337, 1.75258522, 5.        , 0.71569902],\n",
       "       [5.        , 1.04254577, 1.17796693, 5.        ],\n",
       "       [1.51633096, 5.        , 0.57684056, 5.        ],\n",
       "       [1.07385566, 0.70582233, 0.48750705, 5.        ]])"
      ]
     },
     "execution_count": 100,
     "metadata": {},
     "output_type": "execute_result"
    }
   ],
   "source": [
    "# numpy arrays also allow for boolean indexing\n",
    "r[r<0] = 5 # boolean index addresses locations with value < 0. we assign those locations the new value of 5\n",
    "r"
   ]
  },
  {
   "cell_type": "markdown",
   "metadata": {},
   "source": [
    "#### 4.2 Knowledge Check\n",
    "1. Create a numpy array named \"array1\" which is matrix of zeros of size 2x3. \n",
    "2. Replace the value is row 1, column 2 with the integer 10. "
   ]
  },
  {
   "cell_type": "code",
   "execution_count": 101,
   "metadata": {},
   "outputs": [],
   "source": [
    "# Write code for 4.2 Knowledge Check"
   ]
  },
  {
   "cell_type": "markdown",
   "metadata": {},
   "source": [
    "### 4.3 Some operations in numpy\n",
    "\n",
    "Numpy contains efficient implementations of a vast number of numerical operations."
   ]
  },
  {
   "cell_type": "code",
   "execution_count": 102,
   "metadata": {},
   "outputs": [
    {
     "data": {
      "text/plain": [
       "2.23606797749979"
      ]
     },
     "execution_count": 102,
     "metadata": {},
     "output_type": "execute_result"
    }
   ],
   "source": [
    "np.sqrt(5) # square root"
   ]
  },
  {
   "cell_type": "markdown",
   "metadata": {},
   "source": [
    "The typical behavior is to __broadcast__ the operation to all values of an array."
   ]
  },
  {
   "cell_type": "code",
   "execution_count": 103,
   "metadata": {},
   "outputs": [
    {
     "data": {
      "text/plain": [
       "array([[ 1,  2,  3,  4],\n",
       "       [ 5,  6,  7,  8],\n",
       "       [ 9, 10, 11, 12],\n",
       "       [13, 14, 15, 16]])"
      ]
     },
     "execution_count": 103,
     "metadata": {},
     "output_type": "execute_result"
    }
   ],
   "source": [
    "m = np.reshape(np.arange(1,17), (4,4))\n",
    "m"
   ]
  },
  {
   "cell_type": "code",
   "execution_count": 104,
   "metadata": {},
   "outputs": [
    {
     "data": {
      "text/plain": [
       "array([[1.        , 1.41421356, 1.73205081, 2.        ],\n",
       "       [2.23606798, 2.44948974, 2.64575131, 2.82842712],\n",
       "       [3.        , 3.16227766, 3.31662479, 3.46410162],\n",
       "       [3.60555128, 3.74165739, 3.87298335, 4.        ]])"
      ]
     },
     "execution_count": 104,
     "metadata": {},
     "output_type": "execute_result"
    }
   ],
   "source": [
    "np.sqrt(m) # take the sqrt of every element"
   ]
  },
  {
   "cell_type": "code",
   "execution_count": 105,
   "metadata": {},
   "outputs": [
    {
     "data": {
      "text/plain": [
       "array([ 0.49565428, -0.69576526, -1.57090323,  0.26458822,  0.57041553,\n",
       "       -2.43623   , -0.92932734,  1.26971939, -1.37563672,  0.5853365 ])"
      ]
     },
     "execution_count": 105,
     "metadata": {},
     "output_type": "execute_result"
    }
   ],
   "source": [
    "a = np.random.normal(size=10)\n",
    "a"
   ]
  },
  {
   "cell_type": "code",
   "execution_count": 106,
   "metadata": {},
   "outputs": [
    {
     "data": {
      "text/plain": [
       "-2.4362299983085878"
      ]
     },
     "execution_count": 106,
     "metadata": {},
     "output_type": "execute_result"
    }
   ],
   "source": [
    "np.min(a) # get minimum element of an array"
   ]
  },
  {
   "cell_type": "code",
   "execution_count": 107,
   "metadata": {},
   "outputs": [
    {
     "data": {
      "text/plain": [
       "5"
      ]
     },
     "execution_count": 107,
     "metadata": {},
     "output_type": "execute_result"
    }
   ],
   "source": [
    "np.argmin(a) # get its index"
   ]
  },
  {
   "cell_type": "markdown",
   "metadata": {},
   "source": [
    "Some operations can be applied along a specified dimension (e.g. rows or columns) using the __axis__ keyword argument."
   ]
  },
  {
   "cell_type": "code",
   "execution_count": 108,
   "metadata": {},
   "outputs": [
    {
     "data": {
      "text/plain": [
       "8.5"
      ]
     },
     "execution_count": 108,
     "metadata": {},
     "output_type": "execute_result"
    }
   ],
   "source": [
    "np.mean(m) # average over all elements"
   ]
  },
  {
   "cell_type": "code",
   "execution_count": 109,
   "metadata": {},
   "outputs": [
    {
     "data": {
      "text/plain": [
       "array([ 7.,  8.,  9., 10.])"
      ]
     },
     "execution_count": 109,
     "metadata": {},
     "output_type": "execute_result"
    }
   ],
   "source": [
    "np.mean(m, axis=0) # average down rows (axis=0)"
   ]
  },
  {
   "cell_type": "code",
   "execution_count": 110,
   "metadata": {},
   "outputs": [
    {
     "data": {
      "text/plain": [
       "array([ 2.5,  6.5, 10.5, 14.5])"
      ]
     },
     "execution_count": 110,
     "metadata": {},
     "output_type": "execute_result"
    }
   ],
   "source": [
    "np.mean(m, axis=1) # average across columns (axis=1)"
   ]
  },
  {
   "cell_type": "markdown",
   "metadata": {},
   "source": [
    "Many matrix operations are implemented."
   ]
  },
  {
   "cell_type": "code",
   "execution_count": 111,
   "metadata": {},
   "outputs": [
    {
     "data": {
      "text/plain": [
       "array([[ 0.37576857,  0.60753339, -0.10353257],\n",
       "       [-1.5896485 ,  0.76029359,  0.89564446]])"
      ]
     },
     "execution_count": 111,
     "metadata": {},
     "output_type": "execute_result"
    }
   ],
   "source": [
    "a = np.random.normal(size=(2,3))\n",
    "a"
   ]
  },
  {
   "cell_type": "code",
   "execution_count": 112,
   "metadata": {},
   "outputs": [
    {
     "data": {
      "text/plain": [
       "array([[ 0.37576857, -1.5896485 ],\n",
       "       [ 0.60753339,  0.76029359],\n",
       "       [-0.10353257,  0.89564446]])"
      ]
     },
     "execution_count": 112,
     "metadata": {},
     "output_type": "execute_result"
    }
   ],
   "source": [
    "a.T # transpose"
   ]
  },
  {
   "cell_type": "code",
   "execution_count": 113,
   "metadata": {},
   "outputs": [
    {
     "data": {
      "text/plain": [
       "array([[ 0.6501904 , -0.17065002],\n",
       "       [-0.3884704 ,  0.5662526 ]])"
      ]
     },
     "execution_count": 113,
     "metadata": {},
     "output_type": "execute_result"
    }
   ],
   "source": [
    "b = np.random.normal(size=(3,2))\n",
    "np.dot(a, b) # matrix multiplication"
   ]
  },
  {
   "cell_type": "code",
   "execution_count": 114,
   "metadata": {},
   "outputs": [
    {
     "data": {
      "text/plain": [
       "array([[1.9696905 , 0.11502168],\n",
       "       [0.11502168, 0.26265404]])"
      ]
     },
     "execution_count": 114,
     "metadata": {},
     "output_type": "execute_result"
    }
   ],
   "source": [
    "np.linalg.inv(np.dot(a, a.T)) # inversion"
   ]
  },
  {
   "cell_type": "code",
   "execution_count": 115,
   "metadata": {},
   "outputs": [
    {
     "name": "stdout",
     "output_type": "stream",
     "text": [
      "[0.86909286 0.34735013]\n",
      "[[ 0.61482144  0.49092188]\n",
      " [-0.78866634  0.8712036 ]]\n"
     ]
    }
   ],
   "source": [
    "eigvals, eigvecs = np.linalg.eig(np.dot(a, b)) # eigenvalues and eigenvectors\n",
    "print(eigvals)\n",
    "print(eigvecs)"
   ]
  },
  {
   "cell_type": "markdown",
   "metadata": {},
   "source": [
    "If you're unsure of the specific syntax for a function, try using the `help` function:"
   ]
  },
  {
   "cell_type": "code",
   "execution_count": 116,
   "metadata": {},
   "outputs": [
    {
     "name": "stdout",
     "output_type": "stream",
     "text": [
      "Help on built-in function normal:\n",
      "\n",
      "normal(...) method of numpy.random.mtrand.RandomState instance\n",
      "    normal(loc=0.0, scale=1.0, size=None)\n",
      "    \n",
      "    Draw random samples from a normal (Gaussian) distribution.\n",
      "    \n",
      "    The probability density function of the normal distribution, first\n",
      "    derived by De Moivre and 200 years later by both Gauss and Laplace\n",
      "    independently [2]_, is often called the bell curve because of\n",
      "    its characteristic shape (see the example below).\n",
      "    \n",
      "    The normal distributions occurs often in nature.  For example, it\n",
      "    describes the commonly occurring distribution of samples influenced\n",
      "    by a large number of tiny, random disturbances, each with its own\n",
      "    unique distribution [2]_.\n",
      "    \n",
      "    .. note::\n",
      "        New code should use the `~numpy.random.Generator.normal`\n",
      "        method of a `~numpy.random.Generator` instance instead;\n",
      "        please see the :ref:`random-quick-start`.\n",
      "    \n",
      "    Parameters\n",
      "    ----------\n",
      "    loc : float or array_like of floats\n",
      "        Mean (\"centre\") of the distribution.\n",
      "    scale : float or array_like of floats\n",
      "        Standard deviation (spread or \"width\") of the distribution. Must be\n",
      "        non-negative.\n",
      "    size : int or tuple of ints, optional\n",
      "        Output shape.  If the given shape is, e.g., ``(m, n, k)``, then\n",
      "        ``m * n * k`` samples are drawn.  If size is ``None`` (default),\n",
      "        a single value is returned if ``loc`` and ``scale`` are both scalars.\n",
      "        Otherwise, ``np.broadcast(loc, scale).size`` samples are drawn.\n",
      "    \n",
      "    Returns\n",
      "    -------\n",
      "    out : ndarray or scalar\n",
      "        Drawn samples from the parameterized normal distribution.\n",
      "    \n",
      "    See Also\n",
      "    --------\n",
      "    scipy.stats.norm : probability density function, distribution or\n",
      "        cumulative density function, etc.\n",
      "    random.Generator.normal: which should be used for new code.\n",
      "    \n",
      "    Notes\n",
      "    -----\n",
      "    The probability density for the Gaussian distribution is\n",
      "    \n",
      "    .. math:: p(x) = \\frac{1}{\\sqrt{ 2 \\pi \\sigma^2 }}\n",
      "                     e^{ - \\frac{ (x - \\mu)^2 } {2 \\sigma^2} },\n",
      "    \n",
      "    where :math:`\\mu` is the mean and :math:`\\sigma` the standard\n",
      "    deviation. The square of the standard deviation, :math:`\\sigma^2`,\n",
      "    is called the variance.\n",
      "    \n",
      "    The function has its peak at the mean, and its \"spread\" increases with\n",
      "    the standard deviation (the function reaches 0.607 times its maximum at\n",
      "    :math:`x + \\sigma` and :math:`x - \\sigma` [2]_).  This implies that\n",
      "    normal is more likely to return samples lying close to the mean, rather\n",
      "    than those far away.\n",
      "    \n",
      "    References\n",
      "    ----------\n",
      "    .. [1] Wikipedia, \"Normal distribution\",\n",
      "           https://en.wikipedia.org/wiki/Normal_distribution\n",
      "    .. [2] P. R. Peebles Jr., \"Central Limit Theorem\" in \"Probability,\n",
      "           Random Variables and Random Signal Principles\", 4th ed., 2001,\n",
      "           pp. 51, 51, 125.\n",
      "    \n",
      "    Examples\n",
      "    --------\n",
      "    Draw samples from the distribution:\n",
      "    \n",
      "    >>> mu, sigma = 0, 0.1 # mean and standard deviation\n",
      "    >>> s = np.random.normal(mu, sigma, 1000)\n",
      "    \n",
      "    Verify the mean and the variance:\n",
      "    \n",
      "    >>> abs(mu - np.mean(s))\n",
      "    0.0  # may vary\n",
      "    \n",
      "    >>> abs(sigma - np.std(s, ddof=1))\n",
      "    0.1  # may vary\n",
      "    \n",
      "    Display the histogram of the samples, along with\n",
      "    the probability density function:\n",
      "    \n",
      "    >>> import matplotlib.pyplot as plt\n",
      "    >>> count, bins, ignored = plt.hist(s, 30, density=True)\n",
      "    >>> plt.plot(bins, 1/(sigma * np.sqrt(2 * np.pi)) *\n",
      "    ...                np.exp( - (bins - mu)**2 / (2 * sigma**2) ),\n",
      "    ...          linewidth=2, color='r')\n",
      "    >>> plt.show()\n",
      "    \n",
      "    Two-by-four array of samples from the normal distribution with\n",
      "    mean 3 and standard deviation 2.5:\n",
      "    \n",
      "    >>> np.random.normal(3, 2.5, size=(2, 4))\n",
      "    array([[-4.49401501,  4.00950034, -1.81814867,  7.29718677],   # random\n",
      "           [ 0.39924804,  4.68456316,  4.99394529,  4.84057254]])  # random\n",
      "\n"
     ]
    }
   ],
   "source": [
    "help(np.random.normal)"
   ]
  },
  {
   "cell_type": "markdown",
   "metadata": {},
   "source": [
    "#### 4.3 Knowledge Check\n",
    "1. Create a new array named \"array2\" of dimension 3x4 of random normal values. \n",
    "2. Take the square root of \"array2\" and print the minimum value. \n",
    "1. Find the dot product of \"array2\". Hint: you will need to use the transpose function. \n"
   ]
  },
  {
   "cell_type": "code",
   "execution_count": 117,
   "metadata": {},
   "outputs": [],
   "source": [
    "# Write code for 4.3 Knowledge Check"
   ]
  },
  {
   "cell_type": "markdown",
   "metadata": {},
   "source": [
    "## 5. Writing functions\n",
    "\n",
    "Functions are defined using `def` with definitions separated by indentation (again, as opposed to brackets). The object(s) returned by the function must be explicitly specified with a `return` statement."
   ]
  },
  {
   "cell_type": "code",
   "execution_count": 118,
   "metadata": {},
   "outputs": [],
   "source": [
    "'''\n",
    "Example: We define the function is_prime().\n",
    "The function takes a single argument n and returns a boolean indicating whether n is prime.\n",
    "\n",
    "(Also, this is how you write block-comments in Python)\n",
    "'''\n",
    "def is_prime(n):\n",
    "    if not isinstance(n, int) or n<=1: # n must be an integer greater than 1\n",
    "        return 'Only integers > 1 can be prime.'\n",
    "    \n",
    "    # idea: n is prime if it is not divisible by any factor in 2, ..., sqrt(n)\n",
    "    m = int(np.floor(np.sqrt(n))) \n",
    "    isprime = True\n",
    "    for i in range(2, m+1):\n",
    "        if n%i==0:\n",
    "            isprime = False\n",
    "            break # break the for loop as soon as we find n not prime\n",
    "    \n",
    "    return isprime"
   ]
  },
  {
   "cell_type": "code",
   "execution_count": 119,
   "metadata": {},
   "outputs": [
    {
     "data": {
      "text/plain": [
       "False"
      ]
     },
     "execution_count": 119,
     "metadata": {},
     "output_type": "execute_result"
    }
   ],
   "source": [
    "is_prime(385)"
   ]
  },
  {
   "cell_type": "code",
   "execution_count": 120,
   "metadata": {},
   "outputs": [
    {
     "data": {
      "text/plain": [
       "True"
      ]
     },
     "execution_count": 120,
     "metadata": {},
     "output_type": "execute_result"
    }
   ],
   "source": [
    "is_prime(2713)"
   ]
  },
  {
   "cell_type": "code",
   "execution_count": 121,
   "metadata": {},
   "outputs": [
    {
     "data": {
      "text/plain": [
       "'Only integers > 1 can be prime.'"
      ]
     },
     "execution_count": 121,
     "metadata": {},
     "output_type": "execute_result"
    }
   ],
   "source": [
    "is_prime(2.75)"
   ]
  },
  {
   "cell_type": "markdown",
   "metadata": {},
   "source": [
    "Python functions have _positional_ arguments and _keyword_ arguments. \n",
    "\n",
    "- Positional arguments are indicated by their position in the function definition; `n` is a positional argument in the function `is_prime()` defined above. \n",
    "\n",
    "- Keyword arguments are indicated by their name; they are often assigned a default value in the function definition."
   ]
  },
  {
   "cell_type": "code",
   "execution_count": 122,
   "metadata": {},
   "outputs": [],
   "source": [
    "'''\n",
    "Example. We modify is_prime() from above in two ways:\n",
    "1. Add the keyword argument return_factor, which specifies that the function also displays i, if n is divisible by i.\n",
    "2. Instead of returning a boolean, print the result and return nothing.\n",
    "'''\n",
    "def is_prime(n, return_factor=True):\n",
    "    if not isinstance(n, int) or n<=1: # n must be an integer greater than 1\n",
    "        return 'Only integers > 1 can be prime.'\n",
    "    \n",
    "    # idea: n is prime if it is not divisible by any factor in 2, ..., sqrt(n)\n",
    "    m = int(np.floor(np.sqrt(n))) \n",
    "    isprime = True\n",
    "    for i in range(2, m+1):\n",
    "        if n%i==0:\n",
    "            isprime = False\n",
    "            break # break the for loop as soon as we find n not prime\n",
    "    \n",
    "    if isprime:\n",
    "        print('{} is prime.'.format(n)) # format() inserts its argument at the location indicated by {} in the string\n",
    "    elif return_factor:\n",
    "        print('{} is not prime: {} is a factor'.format(n, i))\n",
    "    else:\n",
    "        print('{} is not prime.'.format(n))"
   ]
  },
  {
   "cell_type": "code",
   "execution_count": 123,
   "metadata": {},
   "outputs": [
    {
     "name": "stdout",
     "output_type": "stream",
     "text": [
      "385 is not prime: 5 is a factor\n"
     ]
    }
   ],
   "source": [
    "is_prime(385) # since a value for return_factor is not specified, the function uses the default (= True)"
   ]
  },
  {
   "cell_type": "code",
   "execution_count": 124,
   "metadata": {},
   "outputs": [
    {
     "name": "stdout",
     "output_type": "stream",
     "text": [
      "385 is not prime.\n"
     ]
    }
   ],
   "source": [
    "is_prime(385, return_factor=False)"
   ]
  },
  {
   "cell_type": "markdown",
   "metadata": {},
   "source": [
    "A note of caution: functions that you define have access to both their internal namespace (i.e. the function arguments and variables defined in the function) __and__ the global namespace of the notebook. Thus if you reference a variable that's not defined within your function but that exists in the global namespace, the function will simply use that variable. This can create issues when you modify code outside of the function."
   ]
  },
  {
   "cell_type": "code",
   "execution_count": 125,
   "metadata": {},
   "outputs": [],
   "source": [
    "'''\n",
    "Example: Suppose we \"forget\" to define m within the function. \n",
    "Then if m is defined in the global namespace of the notebook, the function will just use that instead.\n",
    "'''\n",
    "def is_prime(n, return_factor=True):\n",
    "    if not isinstance(n, int) or n<=1: \n",
    "        return 'Only integers > 1 can be prime.'\n",
    "    \n",
    "    #m = int(np.floor(np.sqrt(n))) # m no longer defined within function\n",
    "    isprime = True\n",
    "    for i in range(2, m+1):\n",
    "        if n%i==0:\n",
    "            isprime = False\n",
    "            break \n",
    "    \n",
    "    if isprime:\n",
    "        print('{} is prime.'.format(n)) \n",
    "    elif return_factor:\n",
    "        print('{} is not prime: {} is a factor'.format(n, i))\n",
    "    else:\n",
    "        print('{} is not prime'.format(n))"
   ]
  },
  {
   "cell_type": "code",
   "execution_count": 126,
   "metadata": {},
   "outputs": [
    {
     "ename": "TypeError",
     "evalue": "only integer scalar arrays can be converted to a scalar index",
     "output_type": "error",
     "traceback": [
      "\u001b[0;31m---------------------------------------------------------------------------\u001b[0m",
      "\u001b[0;31mTypeError\u001b[0m                                 Traceback (most recent call last)",
      "Cell \u001b[0;32mIn[126], line 2\u001b[0m\n\u001b[1;32m      1\u001b[0m \u001b[38;5;66;03m# if m is not already in the namespace, we get an error (good!)\u001b[39;00m\n\u001b[0;32m----> 2\u001b[0m \u001b[43mis_prime\u001b[49m\u001b[43m(\u001b[49m\u001b[38;5;241;43m385\u001b[39;49m\u001b[43m)\u001b[49m \n",
      "Cell \u001b[0;32mIn[125], line 11\u001b[0m, in \u001b[0;36mis_prime\u001b[0;34m(n, return_factor)\u001b[0m\n\u001b[1;32m      9\u001b[0m \u001b[38;5;66;03m#m = int(np.floor(np.sqrt(n))) # m no longer defined within function\u001b[39;00m\n\u001b[1;32m     10\u001b[0m isprime \u001b[38;5;241m=\u001b[39m \u001b[38;5;28;01mTrue\u001b[39;00m\n\u001b[0;32m---> 11\u001b[0m \u001b[38;5;28;01mfor\u001b[39;00m i \u001b[38;5;129;01min\u001b[39;00m \u001b[38;5;28;43mrange\u001b[39;49m\u001b[43m(\u001b[49m\u001b[38;5;241;43m2\u001b[39;49m\u001b[43m,\u001b[49m\u001b[43m \u001b[49m\u001b[43mm\u001b[49m\u001b[38;5;241;43m+\u001b[39;49m\u001b[38;5;241;43m1\u001b[39;49m\u001b[43m)\u001b[49m:\n\u001b[1;32m     12\u001b[0m     \u001b[38;5;28;01mif\u001b[39;00m n\u001b[38;5;241m%\u001b[39mi\u001b[38;5;241m==\u001b[39m\u001b[38;5;241m0\u001b[39m:\n\u001b[1;32m     13\u001b[0m         isprime \u001b[38;5;241m=\u001b[39m \u001b[38;5;28;01mFalse\u001b[39;00m\n",
      "\u001b[0;31mTypeError\u001b[0m: only integer scalar arrays can be converted to a scalar index"
     ]
    }
   ],
   "source": [
    "# if m is not already in the namespace, we get an error (good!)\n",
    "is_prime(385) "
   ]
  },
  {
   "cell_type": "code",
   "execution_count": 127,
   "metadata": {},
   "outputs": [
    {
     "name": "stdout",
     "output_type": "stream",
     "text": [
      "385 is prime.\n"
     ]
    }
   ],
   "source": [
    "# if m is in the global namespace, the function uses that instead\n",
    "m = 4\n",
    "is_prime(385) # this can lead to unexpected behavior "
   ]
  },
  {
   "cell_type": "markdown",
   "metadata": {},
   "source": [
    "#### 5 Knowledge Check\n",
    "1. Write a function to find the max of three numbers. \n",
    "2. Write a function which reverse a list. Challenge: can you reverse a string, like \"hello\", instead?\n",
    "3. Write a function that checks whether a number falls in a given range. If it does the function should output \"Yes, this number falls within the range\", and if it does not the function should output \"No, this number does not fall within the range\".\n"
   ]
  },
  {
   "cell_type": "code",
   "execution_count": null,
   "metadata": {},
   "outputs": [],
   "source": [
    "# Write code for 5 Knowledge Check"
   ]
  },
  {
   "cell_type": "markdown",
   "metadata": {},
   "source": [
    "## 6. Handling data with Pandas\n",
    "\n",
    "Pandas is a popular library that implements tools for data analysis in a data frame logic that should be familiar to `R` users. "
   ]
  },
  {
   "cell_type": "code",
   "execution_count": 128,
   "metadata": {},
   "outputs": [],
   "source": [
    "import pandas as pd"
   ]
  },
  {
   "cell_type": "code",
   "execution_count": 129,
   "metadata": {},
   "outputs": [
    {
     "data": {
      "text/html": [
       "<div>\n",
       "<style scoped>\n",
       "    .dataframe tbody tr th:only-of-type {\n",
       "        vertical-align: middle;\n",
       "    }\n",
       "\n",
       "    .dataframe tbody tr th {\n",
       "        vertical-align: top;\n",
       "    }\n",
       "\n",
       "    .dataframe thead th {\n",
       "        text-align: right;\n",
       "    }\n",
       "</style>\n",
       "<table border=\"1\" class=\"dataframe\">\n",
       "  <thead>\n",
       "    <tr style=\"text-align: right;\">\n",
       "      <th></th>\n",
       "      <th>Name</th>\n",
       "      <th>City</th>\n",
       "      <th>Country</th>\n",
       "      <th>Undergraduate</th>\n",
       "      <th>Graduate</th>\n",
       "    </tr>\n",
       "  </thead>\n",
       "  <tbody>\n",
       "    <tr>\n",
       "      <th>0</th>\n",
       "      <td>U. Washington</td>\n",
       "      <td>Seattle</td>\n",
       "      <td>USA</td>\n",
       "      <td>31041</td>\n",
       "      <td>16530</td>\n",
       "    </tr>\n",
       "    <tr>\n",
       "      <th>1</th>\n",
       "      <td>Univ. Grenoble Alpes</td>\n",
       "      <td>Grenoble</td>\n",
       "      <td>France</td>\n",
       "      <td>42200</td>\n",
       "      <td>3200</td>\n",
       "    </tr>\n",
       "    <tr>\n",
       "      <th>2</th>\n",
       "      <td>Univ. of Cambridge</td>\n",
       "      <td>Cambridge</td>\n",
       "      <td>UK</td>\n",
       "      <td>5615</td>\n",
       "      <td>20088</td>\n",
       "    </tr>\n",
       "    <tr>\n",
       "      <th>3</th>\n",
       "      <td>Johns Hopkins U.</td>\n",
       "      <td>Baltimore</td>\n",
       "      <td>USA</td>\n",
       "      <td>12354</td>\n",
       "      <td>10893</td>\n",
       "    </tr>\n",
       "  </tbody>\n",
       "</table>\n",
       "</div>"
      ],
      "text/plain": [
       "                   Name       City Country  Undergraduate  Graduate\n",
       "0         U. Washington    Seattle     USA          31041     16530\n",
       "1  Univ. Grenoble Alpes   Grenoble  France          42200      3200\n",
       "2    Univ. of Cambridge  Cambridge      UK           5615     20088\n",
       "3      Johns Hopkins U.  Baltimore     USA          12354     10893"
      ]
     },
     "execution_count": 129,
     "metadata": {},
     "output_type": "execute_result"
    }
   ],
   "source": [
    "# there are many ways to instantiate a dataframe. here we use a dict of column values.\n",
    "data = {'Name': ['U. Washington', 'Univ. Grenoble Alpes', 'Univ. of Cambridge', 'Johns Hopkins U.'], \n",
    "        'City': ['Seattle', 'Grenoble', 'Cambridge', 'Baltimore'], \n",
    "        'Country': ['USA', 'France', 'UK', 'USA'], \n",
    "        'Undergraduate': [31041,42200, 5615, 12354], \n",
    "        'Graduate': [16530, 3200, 20088, 10893 ]}\n",
    "\n",
    "df = pd.DataFrame(data)\n",
    "df"
   ]
  },
  {
   "cell_type": "markdown",
   "metadata": {},
   "source": [
    "DataFrames allow for many different types of indexing."
   ]
  },
  {
   "cell_type": "code",
   "execution_count": 130,
   "metadata": {},
   "outputs": [
    {
     "data": {
      "text/plain": [
       "0           U. Washington\n",
       "1    Univ. Grenoble Alpes\n",
       "2      Univ. of Cambridge\n",
       "3        Johns Hopkins U.\n",
       "Name: Name, dtype: object"
      ]
     },
     "execution_count": 130,
     "metadata": {},
     "output_type": "execute_result"
    }
   ],
   "source": [
    "df['Name']"
   ]
  },
  {
   "cell_type": "code",
   "execution_count": 131,
   "metadata": {},
   "outputs": [
    {
     "data": {
      "text/plain": [
       "0           U. Washington\n",
       "1    Univ. Grenoble Alpes\n",
       "2      Univ. of Cambridge\n",
       "3        Johns Hopkins U.\n",
       "Name: Name, dtype: object"
      ]
     },
     "execution_count": 131,
     "metadata": {},
     "output_type": "execute_result"
    }
   ],
   "source": [
    "df.Name"
   ]
  },
  {
   "cell_type": "code",
   "execution_count": 132,
   "metadata": {},
   "outputs": [
    {
     "data": {
      "text/html": [
       "<div>\n",
       "<style scoped>\n",
       "    .dataframe tbody tr th:only-of-type {\n",
       "        vertical-align: middle;\n",
       "    }\n",
       "\n",
       "    .dataframe tbody tr th {\n",
       "        vertical-align: top;\n",
       "    }\n",
       "\n",
       "    .dataframe thead th {\n",
       "        text-align: right;\n",
       "    }\n",
       "</style>\n",
       "<table border=\"1\" class=\"dataframe\">\n",
       "  <thead>\n",
       "    <tr style=\"text-align: right;\">\n",
       "      <th></th>\n",
       "      <th>Name</th>\n",
       "      <th>City</th>\n",
       "      <th>Country</th>\n",
       "      <th>Undergraduate</th>\n",
       "      <th>Graduate</th>\n",
       "    </tr>\n",
       "  </thead>\n",
       "  <tbody>\n",
       "    <tr>\n",
       "      <th>0</th>\n",
       "      <td>U. Washington</td>\n",
       "      <td>Seattle</td>\n",
       "      <td>USA</td>\n",
       "      <td>31041</td>\n",
       "      <td>16530</td>\n",
       "    </tr>\n",
       "    <tr>\n",
       "      <th>1</th>\n",
       "      <td>Univ. Grenoble Alpes</td>\n",
       "      <td>Grenoble</td>\n",
       "      <td>France</td>\n",
       "      <td>42200</td>\n",
       "      <td>3200</td>\n",
       "    </tr>\n",
       "    <tr>\n",
       "      <th>2</th>\n",
       "      <td>Univ. of Cambridge</td>\n",
       "      <td>Cambridge</td>\n",
       "      <td>UK</td>\n",
       "      <td>5615</td>\n",
       "      <td>20088</td>\n",
       "    </tr>\n",
       "    <tr>\n",
       "      <th>3</th>\n",
       "      <td>Johns Hopkins U.</td>\n",
       "      <td>Baltimore</td>\n",
       "      <td>USA</td>\n",
       "      <td>12354</td>\n",
       "      <td>10893</td>\n",
       "    </tr>\n",
       "  </tbody>\n",
       "</table>\n",
       "</div>"
      ],
      "text/plain": [
       "                   Name       City Country  Undergraduate  Graduate\n",
       "0         U. Washington    Seattle     USA          31041     16530\n",
       "1  Univ. Grenoble Alpes   Grenoble  France          42200      3200\n",
       "2    Univ. of Cambridge  Cambridge      UK           5615     20088\n",
       "3      Johns Hopkins U.  Baltimore     USA          12354     10893"
      ]
     },
     "execution_count": 132,
     "metadata": {},
     "output_type": "execute_result"
    }
   ],
   "source": [
    "df = df[['Name', 'City', 'Country', 'Undergraduate', 'Graduate']] # re-arrange columns\n",
    "df"
   ]
  },
  {
   "cell_type": "code",
   "execution_count": 133,
   "metadata": {},
   "outputs": [
    {
     "data": {
      "text/html": [
       "<div>\n",
       "<style scoped>\n",
       "    .dataframe tbody tr th:only-of-type {\n",
       "        vertical-align: middle;\n",
       "    }\n",
       "\n",
       "    .dataframe tbody tr th {\n",
       "        vertical-align: top;\n",
       "    }\n",
       "\n",
       "    .dataframe thead th {\n",
       "        text-align: right;\n",
       "    }\n",
       "</style>\n",
       "<table border=\"1\" class=\"dataframe\">\n",
       "  <thead>\n",
       "    <tr style=\"text-align: right;\">\n",
       "      <th></th>\n",
       "      <th>Name</th>\n",
       "      <th>City</th>\n",
       "      <th>Country</th>\n",
       "      <th>Undergraduate</th>\n",
       "      <th>Graduate</th>\n",
       "    </tr>\n",
       "  </thead>\n",
       "  <tbody>\n",
       "    <tr>\n",
       "      <th>0</th>\n",
       "      <td>U. Washington</td>\n",
       "      <td>Seattle</td>\n",
       "      <td>USA</td>\n",
       "      <td>31041</td>\n",
       "      <td>16530</td>\n",
       "    </tr>\n",
       "    <tr>\n",
       "      <th>2</th>\n",
       "      <td>Univ. of Cambridge</td>\n",
       "      <td>Cambridge</td>\n",
       "      <td>UK</td>\n",
       "      <td>5615</td>\n",
       "      <td>20088</td>\n",
       "    </tr>\n",
       "    <tr>\n",
       "      <th>3</th>\n",
       "      <td>Johns Hopkins U.</td>\n",
       "      <td>Baltimore</td>\n",
       "      <td>USA</td>\n",
       "      <td>12354</td>\n",
       "      <td>10893</td>\n",
       "    </tr>\n",
       "  </tbody>\n",
       "</table>\n",
       "</div>"
      ],
      "text/plain": [
       "                 Name       City Country  Undergraduate  Graduate\n",
       "0       U. Washington    Seattle     USA          31041     16530\n",
       "2  Univ. of Cambridge  Cambridge      UK           5615     20088\n",
       "3    Johns Hopkins U.  Baltimore     USA          12354     10893"
      ]
     },
     "execution_count": 133,
     "metadata": {},
     "output_type": "execute_result"
    }
   ],
   "source": [
    "df[df.Graduate>10000]"
   ]
  },
  {
   "cell_type": "code",
   "execution_count": 134,
   "metadata": {},
   "outputs": [
    {
     "data": {
      "text/plain": [
       "array(['USA', 'France', 'UK'], dtype=object)"
      ]
     },
     "execution_count": 134,
     "metadata": {},
     "output_type": "execute_result"
    }
   ],
   "source": [
    "df.Country.unique()"
   ]
  },
  {
   "cell_type": "code",
   "execution_count": 135,
   "metadata": {},
   "outputs": [
    {
     "data": {
      "image/png": "[encoded data removed]",
      "text/plain": [
       "<Figure size 640x480 with 1 Axes>"
      ]
     },
     "metadata": {},
     "output_type": "display_data"
    }
   ],
   "source": [
    "# also includes basic plotting functionality\n",
    "df.plot.bar(x='Name',stacked=True, rot=45);"
   ]
  },
  {
   "cell_type": "code",
   "execution_count": 136,
   "metadata": {},
   "outputs": [
    {
     "data": {
      "text/html": [
       "<div>\n",
       "<style scoped>\n",
       "    .dataframe tbody tr th:only-of-type {\n",
       "        vertical-align: middle;\n",
       "    }\n",
       "\n",
       "    .dataframe tbody tr th {\n",
       "        vertical-align: top;\n",
       "    }\n",
       "\n",
       "    .dataframe thead th {\n",
       "        text-align: right;\n",
       "    }\n",
       "</style>\n",
       "<table border=\"1\" class=\"dataframe\">\n",
       "  <thead>\n",
       "    <tr style=\"text-align: right;\">\n",
       "      <th></th>\n",
       "      <th>Unnamed: 0</th>\n",
       "      <th>Private</th>\n",
       "      <th>Apps</th>\n",
       "      <th>Accept</th>\n",
       "      <th>Enroll</th>\n",
       "      <th>Top10perc</th>\n",
       "      <th>Top25perc</th>\n",
       "      <th>F.Undergrad</th>\n",
       "      <th>P.Undergrad</th>\n",
       "      <th>Outstate</th>\n",
       "      <th>Room.Board</th>\n",
       "      <th>Books</th>\n",
       "      <th>Personal</th>\n",
       "      <th>PhD</th>\n",
       "      <th>Terminal</th>\n",
       "      <th>S.F.Ratio</th>\n",
       "      <th>perc.alumni</th>\n",
       "      <th>Expend</th>\n",
       "      <th>Grad.Rate</th>\n",
       "    </tr>\n",
       "  </thead>\n",
       "  <tbody>\n",
       "    <tr>\n",
       "      <th>0</th>\n",
       "      <td>Abilene Christian University</td>\n",
       "      <td>Yes</td>\n",
       "      <td>1660</td>\n",
       "      <td>1232</td>\n",
       "      <td>721</td>\n",
       "      <td>23</td>\n",
       "      <td>52</td>\n",
       "      <td>2885</td>\n",
       "      <td>537</td>\n",
       "      <td>7440</td>\n",
       "      <td>3300</td>\n",
       "      <td>450</td>\n",
       "      <td>2200</td>\n",
       "      <td>70</td>\n",
       "      <td>78</td>\n",
       "      <td>18.1</td>\n",
       "      <td>12</td>\n",
       "      <td>7041</td>\n",
       "      <td>60</td>\n",
       "    </tr>\n",
       "    <tr>\n",
       "      <th>1</th>\n",
       "      <td>Adelphi University</td>\n",
       "      <td>Yes</td>\n",
       "      <td>2186</td>\n",
       "      <td>1924</td>\n",
       "      <td>512</td>\n",
       "      <td>16</td>\n",
       "      <td>29</td>\n",
       "      <td>2683</td>\n",
       "      <td>1227</td>\n",
       "      <td>12280</td>\n",
       "      <td>6450</td>\n",
       "      <td>750</td>\n",
       "      <td>1500</td>\n",
       "      <td>29</td>\n",
       "      <td>30</td>\n",
       "      <td>12.2</td>\n",
       "      <td>16</td>\n",
       "      <td>10527</td>\n",
       "      <td>56</td>\n",
       "    </tr>\n",
       "    <tr>\n",
       "      <th>2</th>\n",
       "      <td>Adrian College</td>\n",
       "      <td>Yes</td>\n",
       "      <td>1428</td>\n",
       "      <td>1097</td>\n",
       "      <td>336</td>\n",
       "      <td>22</td>\n",
       "      <td>50</td>\n",
       "      <td>1036</td>\n",
       "      <td>99</td>\n",
       "      <td>11250</td>\n",
       "      <td>3750</td>\n",
       "      <td>400</td>\n",
       "      <td>1165</td>\n",
       "      <td>53</td>\n",
       "      <td>66</td>\n",
       "      <td>12.9</td>\n",
       "      <td>30</td>\n",
       "      <td>8735</td>\n",
       "      <td>54</td>\n",
       "    </tr>\n",
       "    <tr>\n",
       "      <th>3</th>\n",
       "      <td>Agnes Scott College</td>\n",
       "      <td>Yes</td>\n",
       "      <td>417</td>\n",
       "      <td>349</td>\n",
       "      <td>137</td>\n",
       "      <td>60</td>\n",
       "      <td>89</td>\n",
       "      <td>510</td>\n",
       "      <td>63</td>\n",
       "      <td>12960</td>\n",
       "      <td>5450</td>\n",
       "      <td>450</td>\n",
       "      <td>875</td>\n",
       "      <td>92</td>\n",
       "      <td>97</td>\n",
       "      <td>7.7</td>\n",
       "      <td>37</td>\n",
       "      <td>19016</td>\n",
       "      <td>59</td>\n",
       "    </tr>\n",
       "    <tr>\n",
       "      <th>4</th>\n",
       "      <td>Alaska Pacific University</td>\n",
       "      <td>Yes</td>\n",
       "      <td>193</td>\n",
       "      <td>146</td>\n",
       "      <td>55</td>\n",
       "      <td>16</td>\n",
       "      <td>44</td>\n",
       "      <td>249</td>\n",
       "      <td>869</td>\n",
       "      <td>7560</td>\n",
       "      <td>4120</td>\n",
       "      <td>800</td>\n",
       "      <td>1500</td>\n",
       "      <td>76</td>\n",
       "      <td>72</td>\n",
       "      <td>11.9</td>\n",
       "      <td>2</td>\n",
       "      <td>10922</td>\n",
       "      <td>15</td>\n",
       "    </tr>\n",
       "  </tbody>\n",
       "</table>\n",
       "</div>"
      ],
      "text/plain": [
       "                     Unnamed: 0 Private  Apps  Accept  Enroll  Top10perc  \\\n",
       "0  Abilene Christian University     Yes  1660    1232     721         23   \n",
       "1            Adelphi University     Yes  2186    1924     512         16   \n",
       "2                Adrian College     Yes  1428    1097     336         22   \n",
       "3           Agnes Scott College     Yes   417     349     137         60   \n",
       "4     Alaska Pacific University     Yes   193     146      55         16   \n",
       "\n",
       "   Top25perc  F.Undergrad  P.Undergrad  Outstate  Room.Board  Books  Personal  \\\n",
       "0         52         2885          537      7440        3300    450      2200   \n",
       "1         29         2683         1227     12280        6450    750      1500   \n",
       "2         50         1036           99     11250        3750    400      1165   \n",
       "3         89          510           63     12960        5450    450       875   \n",
       "4         44          249          869      7560        4120    800      1500   \n",
       "\n",
       "   PhD  Terminal  S.F.Ratio  perc.alumni  Expend  Grad.Rate  \n",
       "0   70        78       18.1           12    7041         60  \n",
       "1   29        30       12.2           16   10527         56  \n",
       "2   53        66       12.9           30    8735         54  \n",
       "3   92        97        7.7           37   19016         59  \n",
       "4   76        72       11.9            2   10922         15  "
      ]
     },
     "execution_count": 136,
     "metadata": {},
     "output_type": "execute_result"
    }
   ],
   "source": [
    "# pandas can import CSV data as a dataframe\n",
    "college = pd.read_csv('https://www.statlearning.com/s/College.csv', sep=',', header=0)\n",
    "college.head()"
   ]
  },
  {
   "cell_type": "code",
   "execution_count": null,
   "metadata": {},
   "outputs": [
    {
     "data": {
      "text/html": [
       "<div>\n",
       "<style scoped>\n",
       "    .dataframe tbody tr th:only-of-type {\n",
       "        vertical-align: middle;\n",
       "    }\n",
       "\n",
       "    .dataframe tbody tr th {\n",
       "        vertical-align: top;\n",
       "    }\n",
       "\n",
       "    .dataframe thead th {\n",
       "        text-align: right;\n",
       "    }\n",
       "</style>\n",
       "<table border=\"1\" class=\"dataframe\">\n",
       "  <thead>\n",
       "    <tr style=\"text-align: right;\">\n",
       "      <th></th>\n",
       "      <th>Unnamed: 0</th>\n",
       "      <th>Private</th>\n",
       "      <th>Apps</th>\n",
       "      <th>Accept</th>\n",
       "      <th>Enroll</th>\n",
       "      <th>Top10perc</th>\n",
       "      <th>Top25perc</th>\n",
       "      <th>F.Undergrad</th>\n",
       "      <th>P.Undergrad</th>\n",
       "      <th>Outstate</th>\n",
       "      <th>Room.Board</th>\n",
       "      <th>Books</th>\n",
       "      <th>Personal</th>\n",
       "      <th>PhD</th>\n",
       "      <th>Terminal</th>\n",
       "      <th>S.F.Ratio</th>\n",
       "      <th>perc.alumni</th>\n",
       "      <th>Expend</th>\n",
       "      <th>Grad.Rate</th>\n",
       "    </tr>\n",
       "  </thead>\n",
       "  <tbody>\n",
       "    <tr>\n",
       "      <th>582</th>\n",
       "      <td>Texas A&amp;M University at Galveston</td>\n",
       "      <td>No</td>\n",
       "      <td>529</td>\n",
       "      <td>481</td>\n",
       "      <td>243</td>\n",
       "      <td>22</td>\n",
       "      <td>47</td>\n",
       "      <td>1206</td>\n",
       "      <td>134</td>\n",
       "      <td>4860</td>\n",
       "      <td>3122</td>\n",
       "      <td>600</td>\n",
       "      <td>650</td>\n",
       "      <td>103</td>\n",
       "      <td>88</td>\n",
       "      <td>17.4</td>\n",
       "      <td>16</td>\n",
       "      <td>6415</td>\n",
       "      <td>43</td>\n",
       "    </tr>\n",
       "    <tr>\n",
       "      <th>406</th>\n",
       "      <td>New Mexico Institute of Mining and Tech.</td>\n",
       "      <td>No</td>\n",
       "      <td>787</td>\n",
       "      <td>601</td>\n",
       "      <td>233</td>\n",
       "      <td>40</td>\n",
       "      <td>73</td>\n",
       "      <td>1017</td>\n",
       "      <td>411</td>\n",
       "      <td>5376</td>\n",
       "      <td>3214</td>\n",
       "      <td>600</td>\n",
       "      <td>1100</td>\n",
       "      <td>99</td>\n",
       "      <td>100</td>\n",
       "      <td>13.7</td>\n",
       "      <td>11</td>\n",
       "      <td>9241</td>\n",
       "      <td>34</td>\n",
       "    </tr>\n",
       "    <tr>\n",
       "      <th>655</th>\n",
       "      <td>University of North Dakota</td>\n",
       "      <td>No</td>\n",
       "      <td>2777</td>\n",
       "      <td>2249</td>\n",
       "      <td>1652</td>\n",
       "      <td>20</td>\n",
       "      <td>54</td>\n",
       "      <td>8334</td>\n",
       "      <td>1435</td>\n",
       "      <td>5634</td>\n",
       "      <td>2703</td>\n",
       "      <td>450</td>\n",
       "      <td>1200</td>\n",
       "      <td>97</td>\n",
       "      <td>97</td>\n",
       "      <td>15.9</td>\n",
       "      <td>16</td>\n",
       "      <td>9424</td>\n",
       "      <td>49</td>\n",
       "    </tr>\n",
       "    <tr>\n",
       "      <th>606</th>\n",
       "      <td>University of California at Irvine</td>\n",
       "      <td>No</td>\n",
       "      <td>15698</td>\n",
       "      <td>10775</td>\n",
       "      <td>2478</td>\n",
       "      <td>85</td>\n",
       "      <td>100</td>\n",
       "      <td>12677</td>\n",
       "      <td>864</td>\n",
       "      <td>12024</td>\n",
       "      <td>5302</td>\n",
       "      <td>790</td>\n",
       "      <td>1818</td>\n",
       "      <td>96</td>\n",
       "      <td>96</td>\n",
       "      <td>16.1</td>\n",
       "      <td>11</td>\n",
       "      <td>15934</td>\n",
       "      <td>66</td>\n",
       "    </tr>\n",
       "    <tr>\n",
       "      <th>603</th>\n",
       "      <td>University of Alabama at Birmingham</td>\n",
       "      <td>No</td>\n",
       "      <td>1797</td>\n",
       "      <td>1260</td>\n",
       "      <td>938</td>\n",
       "      <td>24</td>\n",
       "      <td>35</td>\n",
       "      <td>6960</td>\n",
       "      <td>4698</td>\n",
       "      <td>4440</td>\n",
       "      <td>5175</td>\n",
       "      <td>750</td>\n",
       "      <td>2200</td>\n",
       "      <td>96</td>\n",
       "      <td>96</td>\n",
       "      <td>6.7</td>\n",
       "      <td>16</td>\n",
       "      <td>16352</td>\n",
       "      <td>33</td>\n",
       "    </tr>\n",
       "  </tbody>\n",
       "</table>\n",
       "</div>"
      ],
      "text/plain": [
       "                                   Unnamed: 0 Private   Apps  Accept  Enroll  \\\n",
       "582         Texas A&M University at Galveston      No    529     481     243   \n",
       "406  New Mexico Institute of Mining and Tech.      No    787     601     233   \n",
       "655                University of North Dakota      No   2777    2249    1652   \n",
       "606        University of California at Irvine      No  15698   10775    2478   \n",
       "603       University of Alabama at Birmingham      No   1797    1260     938   \n",
       "\n",
       "     Top10perc  Top25perc  F.Undergrad  P.Undergrad  Outstate  Room.Board  \\\n",
       "582         22         47         1206          134      4860        3122   \n",
       "406         40         73         1017          411      5376        3214   \n",
       "655         20         54         8334         1435      5634        2703   \n",
       "606         85        100        12677          864     12024        5302   \n",
       "603         24         35         6960         4698      4440        5175   \n",
       "\n",
       "     Books  Personal  PhD  Terminal  S.F.Ratio  perc.alumni  Expend  Grad.Rate  \n",
       "582    600       650  103        88       17.4           16    6415         43  \n",
       "406    600      1100   99       100       13.7           11    9241         34  \n",
       "655    450      1200   97        97       15.9           16    9424         49  \n",
       "606    790      1818   96        96       16.1           11   15934         66  \n",
       "603    750      2200   96        96        6.7           16   16352         33  "
      ]
     },
     "execution_count": 69,
     "metadata": {},
     "output_type": "execute_result"
    }
   ],
   "source": [
    "# public colleges in the dataset, sorted by PhD enrollment\n",
    "college[college.Private=='No'].sort_values(by='PhD', ascending=False).head()"
   ]
  },
  {
   "cell_type": "code",
   "execution_count": 137,
   "metadata": {},
   "outputs": [
    {
     "data": {
      "text/plain": [
       "array([[ 1660,  1232,   721],\n",
       "       [ 2186,  1924,   512],\n",
       "       [ 1428,  1097,   336],\n",
       "       ...,\n",
       "       [ 2097,  1915,   695],\n",
       "       [10705,  2453,  1317],\n",
       "       [ 2989,  1855,   691]])"
      ]
     },
     "execution_count": 137,
     "metadata": {},
     "output_type": "execute_result"
    }
   ],
   "source": [
    "# the values field of a pandas DataFrame can be used to access the data as a numpy array\n",
    "college[['Apps', 'Accept', 'Enroll']].values"
   ]
  },
  {
   "cell_type": "markdown",
   "metadata": {},
   "source": [
    "#### 6 Knowledge Check\n",
    "1. Create a new pandas dataframe named \"college_gradrate\" which includes the columns \"Grad.Rate\" and \"Enroll\". \n",
    "2. Filter \"college_gradrate\" to only the schools with enrollment higher than 1,500.\n",
    "2. Sort \"college_gradrate\" by enrollment in ascending order."
   ]
  },
  {
   "cell_type": "code",
   "execution_count": null,
   "metadata": {},
   "outputs": [],
   "source": [
    "# Write code for 6 Knowledge Check"
   ]
  },
  {
   "cell_type": "markdown",
   "metadata": {},
   "source": [
    "## 7. Data visualization with Matplotlib\n",
    "\n",
    "While Pandas itself implements many tools for plotting data specifically stored in DataFrames, the main tool for visualization in Python is the Matplotlib library."
   ]
  },
  {
   "cell_type": "code",
   "execution_count": 138,
   "metadata": {},
   "outputs": [],
   "source": [
    "import matplotlib.pyplot as plt\n",
    "%matplotlib inline"
   ]
  },
  {
   "cell_type": "code",
   "execution_count": 139,
   "metadata": {},
   "outputs": [
    {
     "data": {
      "image/png": "[encoded data removed]",
      "text/plain": [
       "<Figure size 640x480 with 1 Axes>"
      ]
     },
     "metadata": {},
     "output_type": "display_data"
    }
   ],
   "source": [
    "x = np.linspace(-np.pi, np.pi, 100)\n",
    "y = np.sin(x)\n",
    "y_noisy = y + np.random.normal(scale=0.5, size=len(y))\n",
    "\n",
    "plt.plot(x, y)\n",
    "plt.scatter(x, y_noisy, marker='x', color='black') # plot aesthetics controlled by keyword arguments\n",
    "\n",
    "plt.xlabel('x label here')\n",
    "plt.ylabel('y label here')\n",
    "\n",
    "plt.show()"
   ]
  },
  {
   "cell_type": "code",
   "execution_count": 140,
   "metadata": {},
   "outputs": [
    {
     "data": {
      "image/png": "[encoded data removed]",
      "text/plain": [
       "<Figure size 640x480 with 1 Axes>"
      ]
     },
     "metadata": {},
     "output_type": "display_data"
    }
   ],
   "source": [
    "x = np.random.normal(size=1000)\n",
    "\n",
    "plt.hist(x); # ; suppresses the output. typically this function would also return histogram bins and sizes."
   ]
  },
  {
   "cell_type": "markdown",
   "metadata": {},
   "source": [
    "#### 7 Knowledge Check\n",
    "1. Create any kind of plot to display the enrollment data in \"college_gradrate\" created in 6.3 Knowlede Check.  "
   ]
  },
  {
   "cell_type": "code",
   "execution_count": null,
   "metadata": {},
   "outputs": [],
   "source": [
    "# Write code for 7 Knowledge Check"
   ]
  }
 ],
 "metadata": {
  "kernelspec": {
   "display_name": "base",
   "language": "python",
   "name": "python3"
  },
  "language_info": {
   "codemirror_mode": {
    "name": "ipython",
    "version": 3
   },
   "file_extension": ".py",
   "mimetype": "text/x-python",
   "name": "python",
   "nbconvert_exporter": "python",
   "pygments_lexer": "ipython3",
   "version": "3.9.12 (main, Apr  5 2022, 01:52:34) \n[Clang 12.0.0 ]"
  },
  "vscode": {
   "interpreter": {
    "hash": "4d660cccac8868f582cce1165226b101da62e876645a12a7619ce413de84bef5"
   }
  }
 },
 "nbformat": 4,
 "nbformat_minor": 1
}
