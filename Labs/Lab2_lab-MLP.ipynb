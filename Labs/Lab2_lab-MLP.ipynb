{
 "cells": [
  {
   "cell_type": "markdown",
   "metadata": {},
   "source": [
    "<center><h1> Week 2: Multilayer Perceptrons and Stochastic Gradient Descent </h1></center>\n",
    "<center> Jillian Fisher, Zaid Harchaoui </center>\n",
    "    <center> Data 598 (Winter 2023), University of Washington </center>\n",
    "    <center>  </center>\n",
    "\n",
    "This notebook is inspired by the [D2L book](https://d2l.ai/) and adapted from lecture material created by Krishna Pillutla."
   ]
  },
  {
   "cell_type": "code",
   "execution_count": 1,
   "metadata": {},
   "outputs": [],
   "source": [
    "import numpy as np\n",
    "import torch\n",
    "from torchvision.datasets import FashionMNIST\n",
    "from torch.nn.functional import cross_entropy\n",
    "import time\n",
    "import copy\n",
    "\n",
    "import matplotlib.pyplot as plt \n",
    "%matplotlib inline \n",
    "\n",
    "torch.manual_seed(0)\n",
    "np.random.seed(1)"
   ]
  },
  {
   "cell_type": "markdown",
   "metadata": {},
   "source": [
    "## Part 0: PyTorch Preliminaries\n",
    "PyTorch's automatic differentiation works by building a \n",
    "\"computation graph\" of all operations on tensors with `requires_grad=True`. \n",
    "It then computes the requested gradients by performing \n",
    "reverse-mode automatic differentiation, a.k.a. backpropagation. \n",
    "\n",
    "![Computational graph](https://upload.wikimedia.org/wikipedia/commons/a/a0/ReverseaccumulationAD.png)\n",
    "\n",
    "There are number of caveats to keep in mind:\n",
    "\n",
    "- Automatic differentiation only works for floating point types (float32, float64). It does not work for integer types. (Think about why this is the case).\n",
    "- \"Building a computation graph\" takes up space. The memory usage increases proportional to the number of intermediate quantities stored.\n",
    "\n",
    "There are number of operations one might want to perform without building a computational graph. Examples include:\n",
    "\n",
    "- SGD updates\n",
    "- Accuracy computation (in general, logging utilies)\n",
    "\n",
    "PyTorch allows you to \"hide\" computations from autograd using\n",
    "`torch.no_grad()` (for example, see the accuracy computation functions below)."
   ]
  },
  {
   "cell_type": "markdown",
   "metadata": {},
   "source": [
    "### Part 0.1: Automatic Differentiation Practice\n",
    "\n",
    "Use PyTorch's automatic differentiation routines to compute the following derivatives/gradients and verify them on sample inputs. The solution to the first one is provided as an example.\n",
    "\n",
    "1. $f : \\mathbb{R}^3 \\to \\mathbb{R}$ defined by $f(x) = \\|x\\| = \\sqrt{x_1^2 + x_2^2 + x_3^2}$. Find $\\nabla_x f(x)$ for some $x\\neq 0$ (note that $f$ is not differentiable at $0$).\n",
    "1. $g: \\mathbb{R}^3 \\to \\mathbb{R}$ defined by $g(y) = \\frac{\\exp(y_1)}{\\exp(y_1) + \\exp(y_2) + \\exp(y_3)}$. Find $\\nabla_y g(y)$.\n",
    "1. $h: \\mathbb{R}^2 \\times \\mathbb{R}^3 \\to \\mathbb{R}$ with $h(a, b) = a^\\top M b$ and $M\\in \\mathbb{R}^{2 \\times 3}$ is the matrix of all ones (i.e., $M_{ij}=1$ for each $i, j$). Find $\\nabla_a h(a, b)$ and $\\nabla_b h(a, b)$."
   ]
  },
  {
   "cell_type": "code",
   "execution_count": 3,
   "metadata": {},
   "outputs": [
    {
     "name": "stdout",
     "output_type": "stream",
     "text": [
      "tensor([ 0.1820, -0.8567,  1.1006], requires_grad=True) tensor([ 0.1294, -0.6091,  0.7825]) tensor([ 0.1294, -0.6091,  0.7825], grad_fn=<DivBackward0>)\n",
      "tensor([ 0.1820, -0.8567,  1.1006], requires_grad=True) tensor([ 0.1294, -0.6091,  0.7825]) tensor([ 0.1294, -0.6091,  0.7825], grad_fn=<DivBackward0>)\n",
      "tensor([-1.0712,  0.1227, -0.5663], requires_grad=True) tensor([ 0.1397, -0.0930, -0.0467])\n",
      "tensor([ 0.3731, -0.8920], requires_grad=True) tensor([-1.5091,  0.3704,  1.4565], requires_grad=True) (tensor([0.3178, 0.3178]), tensor([-0.5189, -0.5189, -0.5189]))\n"
     ]
    }
   ],
   "source": [
    "## Solution to Part 1 in two ways:\n",
    "x = torch.randn(3, requires_grad=True)\n",
    "true_gradient = x / torch.norm(x)  # computed analytically for verification\n",
    "\n",
    "# (a) Using the `.backward()` call\n",
    "output = torch.norm(x)\n",
    "output.backward()\n",
    "gradient = x.grad \n",
    "print(x, gradient, true_gradient)\n",
    "\n",
    "# (b) Using the `torch.autograd.grad` call\n",
    "output = torch.norm(x)\n",
    "# `torch.autograd.grad` returns a list. It has only one entry in this example\n",
    "gradient = torch.autograd.grad(outputs=output, inputs=[x])[0]\n",
    "print(x, gradient, true_gradient)\n",
    "\n",
    "## Solution to Part 2\n",
    "# <Your code here>\n",
    "y = torch.randn(3, requires_grad=True)\n",
    "output = torch.exp(y[0])/torch.sum(torch.exp(y))\n",
    "output.backward()\n",
    "gradient = y.grad\n",
    "print(y, gradient)\n",
    "\n",
    "## Solution to Part 3\n",
    "# <Your code here>\n",
    "M = torch.ones(2, 3, requires_grad=False)\n",
    "a = torch.randn(2, requires_grad=True)\n",
    "b = torch.randn(3, requires_grad=True)\n",
    "\n",
    "output = torch.dot(a, torch.matmul(M,b))\n",
    "gradient = torch.autograd.grad(outputs=output, inputs=[a,b])\n",
    "print(a,b,gradient)"
   ]
  },
  {
   "cell_type": "markdown",
   "metadata": {},
   "source": [
    "Let us now generalize these examples to high dimensions.\n",
    "\n",
    "1. $f : \\mathbb{R}^n \\to \\mathbb{R}$ defined by $f(x) = \\|x\\| = \\sqrt{\\sum_{j=1}^n x_j^2}$. Find $\\nabla_x f(x)$ for some $x\\neq 0$ (note that $f$ is not differentiable at $0$).\n",
    "1. $g: \\mathbb{R}^3 \\to \\mathbb{R}$ defined by $g(y) = \\exp(y_1)/\\sum_{k=1}^n \\exp(y_k)$. Find $\\nabla_y g(y)$.\n",
    "1. $h: \\mathbb{R}^m \\times \\mathbb{R}^n \\to \\mathbb{R}$ with $h(a, b) = a^\\top M b$ and $M\\in \\mathbb{R}^{m \\times n}$ is the matrix of all ones (i.e., $M_{ij}=1$ for each $i\\in[m],j\\in[n]$). Find $\\nabla_a h(a, b)$ and $\\nabla_b h(a, b)$.\n",
    "\n",
    "For these examples, you may take $n = 100$ and $m = 50$."
   ]
  },
  {
   "cell_type": "code",
   "execution_count": null,
   "metadata": {},
   "outputs": [],
   "source": [
    "## Solution to Part 1 \n",
    "# <Your code here>\n",
    "\n",
    "## Solution to Part 2\n",
    "# <Your code here>\n",
    "\n",
    "## Solution to Part 3\n",
    "# <Your code here>"
   ]
  },
  {
   "cell_type": "markdown",
   "metadata": {},
   "source": [
    "## Part 1: SGD for logistic regression versus the learning rate\n",
    "\n",
    "We will run SGD on the same fashion MNIST dataset as in the demo. Our goal here is to study the effect of the learning rate on the train/test loss/accuracy.\n",
    "\n",
    "Your task is to fill in the SGD update (look for `# <Your code here>`) and make the requested plots."
   ]
  },
  {
   "cell_type": "code",
   "execution_count": 4,
   "metadata": {},
   "outputs": [
    {
     "name": "stdout",
     "output_type": "stream",
     "text": [
      "Downloading http://fashion-mnist.s3-website.eu-central-1.amazonaws.com/train-images-idx3-ubyte.gz\n",
      "Downloading http://fashion-mnist.s3-website.eu-central-1.amazonaws.com/train-images-idx3-ubyte.gz to ./data/FashionMNIST/raw/train-images-idx3-ubyte.gz\n"
     ]
    },
    {
     "name": "stderr",
     "output_type": "stream",
     "text": [
      "100.0%\n"
     ]
    },
    {
     "name": "stdout",
     "output_type": "stream",
     "text": [
      "Extracting ./data/FashionMNIST/raw/train-images-idx3-ubyte.gz to ./data/FashionMNIST/raw\n",
      "\n",
      "Downloading http://fashion-mnist.s3-website.eu-central-1.amazonaws.com/train-labels-idx1-ubyte.gz\n",
      "Downloading http://fashion-mnist.s3-website.eu-central-1.amazonaws.com/train-labels-idx1-ubyte.gz to ./data/FashionMNIST/raw/train-labels-idx1-ubyte.gz\n"
     ]
    },
    {
     "name": "stderr",
     "output_type": "stream",
     "text": [
      "100.0%\n"
     ]
    },
    {
     "name": "stdout",
     "output_type": "stream",
     "text": [
      "Extracting ./data/FashionMNIST/raw/train-labels-idx1-ubyte.gz to ./data/FashionMNIST/raw\n",
      "\n",
      "Downloading http://fashion-mnist.s3-website.eu-central-1.amazonaws.com/t10k-images-idx3-ubyte.gz\n",
      "Downloading http://fashion-mnist.s3-website.eu-central-1.amazonaws.com/t10k-images-idx3-ubyte.gz to ./data/FashionMNIST/raw/t10k-images-idx3-ubyte.gz\n"
     ]
    },
    {
     "name": "stderr",
     "output_type": "stream",
     "text": [
      "100.0%\n"
     ]
    },
    {
     "name": "stdout",
     "output_type": "stream",
     "text": [
      "Extracting ./data/FashionMNIST/raw/t10k-images-idx3-ubyte.gz to ./data/FashionMNIST/raw\n",
      "\n",
      "Downloading http://fashion-mnist.s3-website.eu-central-1.amazonaws.com/t10k-labels-idx1-ubyte.gz\n",
      "Downloading http://fashion-mnist.s3-website.eu-central-1.amazonaws.com/t10k-labels-idx1-ubyte.gz to ./data/FashionMNIST/raw/t10k-labels-idx1-ubyte.gz\n"
     ]
    },
    {
     "name": "stderr",
     "output_type": "stream",
     "text": [
      "100.0%"
     ]
    },
    {
     "name": "stdout",
     "output_type": "stream",
     "text": [
      "Extracting ./data/FashionMNIST/raw/t10k-labels-idx1-ubyte.gz to ./data/FashionMNIST/raw\n",
      "\n",
      "X_train.shape = torch.Size([6000, 28, 28])\n",
      "n_train: 6000, n_test: 10000\n",
      "Image size: torch.Size([28, 28])\n"
     ]
    },
    {
     "name": "stderr",
     "output_type": "stream",
     "text": [
      "\n"
     ]
    }
   ],
   "source": [
    "# download dataset (~117M in size)\n",
    "train_dataset = FashionMNIST('./data', train=True, download=True)\n",
    "X_train = train_dataset.data # torch tensor of type uint8\n",
    "y_train = train_dataset.targets # torch tensor of type Long\n",
    "test_dataset = FashionMNIST('./data', train=False, download=True)\n",
    "X_test = test_dataset.data\n",
    "y_test = test_dataset.targets\n",
    "\n",
    "# choose a subsample of 10% of the data:\n",
    "idxs_train = torch.from_numpy(\n",
    "    np.random.choice(X_train.shape[0], replace=False, size=X_train.shape[0]//10))\n",
    "X_train, y_train = X_train[idxs_train], y_train[idxs_train]\n",
    "\n",
    "\n",
    "print(f'X_train.shape = {X_train.shape}')\n",
    "print(f'n_train: {X_train.shape[0]}, n_test: {X_test.shape[0]}')\n",
    "print(f'Image size: {X_train.shape[1:]}')"
   ]
  },
  {
   "cell_type": "code",
   "execution_count": 5,
   "metadata": {},
   "outputs": [
    {
     "data": {
      "image/png": "[encoded data removed]",
      "text/plain": [
       "<Figure size 2000x400 with 5 Axes>"
      ]
     },
     "metadata": {},
     "output_type": "display_data"
    }
   ],
   "source": [
    "f, ax = plt.subplots(1, 5, figsize=(20, 4))\n",
    "for i, idx in enumerate(np.random.choice(X_train.shape[0], 5)):\n",
    "    ax[i].imshow(X_train[idx], cmap='gray', vmin=0, vmax=255)\n",
    "    ax[i].set_title(f'Label = {y_train[idx]}', fontsize=20)"
   ]
  },
  {
   "cell_type": "code",
   "execution_count": 6,
   "metadata": {},
   "outputs": [],
   "source": [
    "# Normalize dataset: pixel values lie between 0 and 255\n",
    "# Normalize them so the pixelwise mean is zero and standard deviation is 1\n",
    "\n",
    "X_train = X_train.float()  # convert to float32\n",
    "X_train = X_train.view(-1, 784)  # flatten into a (n, d) shape\n",
    "mean, std = X_train.mean(axis=0), X_train.std(axis=0)\n",
    "X_train = (X_train - mean[None, :]) / (std[None, :] + 1e-6)  # avoid divide by zero\n",
    "\n",
    "X_test = X_test.float()\n",
    "X_test = X_test.view(-1, 784)\n",
    "X_test = (X_test - mean[None, :]) / (std[None, :] + 1e-6)\n",
    "\n",
    "n_class = np.unique(y_train).shape[0]"
   ]
  },
  {
   "cell_type": "code",
   "execution_count": 7,
   "metadata": {},
   "outputs": [],
   "source": [
    "# Some utility functions to compute the objective and the accuracy\n",
    "def compute_objective(w, X, y, reg_param):\n",
    "    \"\"\" Compute the multinomial logistic loss. \n",
    "        Require w of shape (d,K), X of shape (n, d) and y of shape (n,)\n",
    "    \"\"\"\n",
    "    score = torch.matmul(X, w)\n",
    "    # PyTorch's function cross_entropy computes the multinomial logistic loss\n",
    "    return (\n",
    "        cross_entropy(input=score, target=y, reduction='mean') \n",
    "        + 0.5 * reg_param * torch.norm(w)**2\n",
    "    )\n",
    "\n",
    "@torch.no_grad()\n",
    "def compute_accuracy(w, X, y):\n",
    "    \"\"\" Compute the classification accuracy\n",
    "        Require w of shape (d,K), X of shape (n, d) and y of shape (n,)\n",
    "    \"\"\"\n",
    "    score = torch.matmul(X, w)\n",
    "    predictions = torch.argmax(score, axis=1)  # class with highest score is predicted\n",
    "    # <Your code here>: compute the accuracy from predictions and y\n",
    "    # Return the fraction of predictions that are correct\n",
    "\n",
    "@torch.no_grad()\n",
    "def compute_logs(w, reg_param, verbose=False):\n",
    "    train_loss = compute_objective(w, X_train, y_train, reg_param)\n",
    "    test_loss = compute_objective(w, X_test, y_test, reg_param)\n",
    "    train_accuracy = compute_accuracy(w, X_train, y_train)\n",
    "    test_accuracy = compute_accuracy(w, X_test, y_test)\n",
    "    if verbose:\n",
    "        print(('Train Loss = {:.3f}, Train Accuracy = {:.3f}, ' + \n",
    "               'Test Loss = {:.3f}, Test Accuracy = {:.3f}').format(\n",
    "                train_loss.item(), train_accuracy.item(), \n",
    "                test_loss.item(), test_accuracy.item())\n",
    "    )\n",
    "    return (train_loss, train_accuracy, test_loss, test_accuracy)"
   ]
  },
  {
   "cell_type": "code",
   "execution_count": 10,
   "metadata": {},
   "outputs": [],
   "source": [
    "def sgd_one_pass(w, X, y, reg_param, learning_rate, verbose=False):\n",
    "    num_examples = X.shape[0]\n",
    "    average_loss = 0.0\n",
    "    for i in range(num_examples):\n",
    "        idx = np.random.choice(X.shape[0])\n",
    "        # compute the objective. \n",
    "        # Note: This function requires X to be of shape (n,d). In this case, n=1    \n",
    "        objective = compute_objective(w, X[idx:idx+1], y[idx:idx+1], reg_param) \n",
    "        \n",
    "        average_loss = 0.99 * average_loss + 0.01 * objective.item()\n",
    "        if verbose and (i+1) % 100 == 0:\n",
    "            print(average_loss)\n",
    "        \n",
    "        # compute the gradient using automatic differentiation\n",
    "        gradient = torch.autograd.grad(outputs=objective, inputs=w)[0]\n",
    "        \n",
    "        # perform SGD update\n",
    "        with torch.no_grad():\n",
    "            # <Your code here>\n",
    "            \n",
    "    return w"
   ]
  },
  {
   "cell_type": "markdown",
   "metadata": {},
   "source": [
    "Find the divergent learning rate. \n",
    "\n",
    "Recall the definition of the divergent learning rate. We say 𝜂⋆ is the divergent learning rate if SGD with a learning rate of 2𝜂⋆ diverges, but SGD with a learning rate of 𝜂⋆ does not. \n",
    "\n",
    "Edit the code below to change the learning rate. \n",
    "\n",
    "*Hint 1*: Try different orders of magnitude. For instance, start with 1e-2. If it diverges, try 1e-6, if not, try 10.0. Once we establish a lower and upper bound on it, finding the divergent learning rate comes down to a binary search (on a logarithmic scale). \n",
    "\n",
    "*Hint 2*: A common strategy is to search in powers of 10 (as in hint 1), and then narrow the search down in powers of 2. For instance, if we end up with 1e-3 as an estimate of the divergent learning from hint 1, try out 2e-3 and 4e-3 as well in order to refine the estimate of the divergent learning rate.\n",
    "\n",
    "**Note**: the divergent learning rate is a heuristic which gives the right ballpark figure of the learning rate. \n",
    "A learning rate that satisfies the heuristic might still result in the loss diverging, in which case we would have redo the process with half that learning rate."
   ]
  },
  {
   "cell_type": "code",
   "execution_count": 8,
   "metadata": {
    "scrolled": true
   },
   "outputs": [
    {
     "ename": "AttributeError",
     "evalue": "'NoneType' object has no attribute 'item'",
     "output_type": "error",
     "traceback": [
      "\u001b[0;31m---------------------------------------------------------------------------\u001b[0m",
      "\u001b[0;31mAttributeError\u001b[0m                            Traceback (most recent call last)",
      "Cell \u001b[0;32mIn[8], line 5\u001b[0m\n\u001b[1;32m      2\u001b[0m reg_param \u001b[39m=\u001b[39m \u001b[39m0.0\u001b[39m\n\u001b[1;32m      4\u001b[0m w \u001b[39m=\u001b[39m torch\u001b[39m.\u001b[39mzeros(\u001b[39m784\u001b[39m, n_class, requires_grad\u001b[39m=\u001b[39m\u001b[39mTrue\u001b[39;00m)\n\u001b[0;32m----> 5\u001b[0m _ \u001b[39m=\u001b[39m compute_logs(w, reg_param, verbose\u001b[39m=\u001b[39;49m\u001b[39mTrue\u001b[39;49;00m)\n\u001b[1;32m      8\u001b[0m w \u001b[39m=\u001b[39m sgd_one_pass(w, X_train, y_train, reg_param, learning_rate, verbose\u001b[39m=\u001b[39m\u001b[39mTrue\u001b[39;00m)\n\u001b[1;32m      9\u001b[0m _ \u001b[39m=\u001b[39m compute_logs(w, reg_param, verbose\u001b[39m=\u001b[39m\u001b[39mTrue\u001b[39;00m)\n",
      "File \u001b[0;32m~/opt/miniconda3/envs/data598/lib/python3.8/site-packages/torch/autograd/grad_mode.py:28\u001b[0m, in \u001b[0;36m_DecoratorContextManager.__call__.<locals>.decorate_context\u001b[0;34m(*args, **kwargs)\u001b[0m\n\u001b[1;32m     25\u001b[0m \u001b[39m@functools\u001b[39m\u001b[39m.\u001b[39mwraps(func)\n\u001b[1;32m     26\u001b[0m \u001b[39mdef\u001b[39;00m \u001b[39mdecorate_context\u001b[39m(\u001b[39m*\u001b[39margs, \u001b[39m*\u001b[39m\u001b[39m*\u001b[39mkwargs):\n\u001b[1;32m     27\u001b[0m     \u001b[39mwith\u001b[39;00m \u001b[39mself\u001b[39m\u001b[39m.\u001b[39m\u001b[39m__class__\u001b[39m():\n\u001b[0;32m---> 28\u001b[0m         \u001b[39mreturn\u001b[39;00m func(\u001b[39m*\u001b[39;49margs, \u001b[39m*\u001b[39;49m\u001b[39m*\u001b[39;49mkwargs)\n",
      "Cell \u001b[0;32mIn[7], line 32\u001b[0m, in \u001b[0;36mcompute_logs\u001b[0;34m(w, reg_param, verbose)\u001b[0m\n\u001b[1;32m     28\u001b[0m test_accuracy \u001b[39m=\u001b[39m compute_accuracy(w, X_test, y_test)\n\u001b[1;32m     29\u001b[0m \u001b[39mif\u001b[39;00m verbose:\n\u001b[1;32m     30\u001b[0m     \u001b[39mprint\u001b[39m((\u001b[39m'\u001b[39m\u001b[39mTrain Loss = \u001b[39m\u001b[39m{:.3f}\u001b[39;00m\u001b[39m, Train Accuracy = \u001b[39m\u001b[39m{:.3f}\u001b[39;00m\u001b[39m, \u001b[39m\u001b[39m'\u001b[39m \u001b[39m+\u001b[39m \n\u001b[1;32m     31\u001b[0m            \u001b[39m'\u001b[39m\u001b[39mTest Loss = \u001b[39m\u001b[39m{:.3f}\u001b[39;00m\u001b[39m, Test Accuracy = \u001b[39m\u001b[39m{:.3f}\u001b[39;00m\u001b[39m'\u001b[39m)\u001b[39m.\u001b[39mformat(\n\u001b[0;32m---> 32\u001b[0m             train_loss\u001b[39m.\u001b[39mitem(), train_accuracy\u001b[39m.\u001b[39;49mitem(), \n\u001b[1;32m     33\u001b[0m             test_loss\u001b[39m.\u001b[39mitem(), test_accuracy\u001b[39m.\u001b[39mitem())\n\u001b[1;32m     34\u001b[0m )\n\u001b[1;32m     35\u001b[0m \u001b[39mreturn\u001b[39;00m (train_loss, train_accuracy, test_loss, test_accuracy)\n",
      "\u001b[0;31mAttributeError\u001b[0m: 'NoneType' object has no attribute 'item'"
     ]
    }
   ],
   "source": [
    "learning_rate = 1.0\n",
    "reg_param = 0.0\n",
    "\n",
    "w = torch.zeros(784, n_class, requires_grad=True)\n",
    "_ = compute_logs(w, reg_param, verbose=True)\n",
    "\n",
    "\n",
    "w = sgd_one_pass(w, X_train, y_train, reg_param, learning_rate, verbose=True)\n",
    "_ = compute_logs(w, reg_param, verbose=True)\n"
   ]
  },
  {
   "cell_type": "markdown",
   "metadata": {},
   "source": [
    "Now complete the following function which runs SGD for some number of passes through the data and tracks the test accuracy at the end of each pass. "
   ]
  },
  {
   "cell_type": "code",
   "execution_count": null,
   "metadata": {},
   "outputs": [],
   "source": [
    "# Note: X_train, y_train, X_test, y_test are global variables\n",
    "def run_sgd(w, reg_param, learning_rate, num_passes=20, verbose=True):\n",
    "    logs = []\n",
    "\n",
    "    log_statistics = # <Your code here>; \n",
    "    #call `compute_logs` and track the train/test loss/accuracy\n",
    "    logs.append(log_statistics)\n",
    "    for j in range(num_passes):\n",
    "        # <Your code here>. Hint: call sgd_one_pass\n",
    "        log_statistics = # <Your code here>; \n",
    "        #call `compute_logs` and track the train/test loss/accuracy\n",
    "        logs.append(log_statistics)\n",
    "    return w, logs"
   ]
  },
  {
   "cell_type": "markdown",
   "metadata": {},
   "source": [
    "Run SGD for the learning rates from the list `[1e-2, 1e-3, 1e-4, 1e-5]` for 10 epochs. \n",
    "Plot 4 curves:\n",
    "\n",
    " - Train loss vs number of passes,\n",
    " - Train accuracy vs number of passes,\n",
    " - Test loss vs number of passes,\n",
    " - Test accuracy vs number of passes.\n",
    " \n",
    " Each curve must contain multiple lines, each corresponding to a different learning rate. \n",
    " You may use `reg_param=1e-3`."
   ]
  },
  {
   "cell_type": "code",
   "execution_count": null,
   "metadata": {
    "scrolled": true
   },
   "outputs": [],
   "source": [
    "# <Your code here>"
   ]
  },
  {
   "cell_type": "markdown",
   "metadata": {},
   "source": [
    "## Part 2: The effect of initialization and learning rate on MLPs\n",
    "We will repeat the same experiment with MLPs.\n",
    "\n",
    "Start by filling in the blank in the `sgd_one_pass` function."
   ]
  },
  {
   "cell_type": "code",
   "execution_count": null,
   "metadata": {},
   "outputs": [],
   "source": [
    "# Some utility functions to compute the objective and the accuracy\n",
    "\n",
    "def mlp(X, ws, bs):\n",
    "    hidden = X # (n, d_0)\n",
    "    for w, b in zip(ws[:-1], bs[:-1]):\n",
    "        hidden = torch.matmul(hidden, w) + b[None, :]  # (n, d_{j-1}) * (d_{j-1}, d_j) = (n, d_j)\n",
    "        hidden = torch.nn.functional.relu(hidden)\n",
    "    return torch.matmul(hidden, ws[-1]) + bs[-1][None, :]\n",
    "\n",
    "def compute_objective_mlp(ws, bs, X, y, reg_param):\n",
    "    \"\"\" Compute the multinomial logistic loss. \n",
    "        ws is a list of tensors of consistent shapes,\n",
    "        X of shape (n, d) and y of shape (n,)\n",
    "    \"\"\"\n",
    "    score = mlp(X, ws, bs)\n",
    "    # PyTorch's function cross_entropy computes the multinomial logistic loss\n",
    "    return (\n",
    "        cross_entropy(input=score, target=y, reduction='mean') \n",
    "        + 0.5 * reg_param * sum([torch.norm(w)**2 for w in ws])\n",
    "    )\n",
    "\n",
    "@torch.no_grad()\n",
    "def compute_accuracy_mlp(ws, bs, X, y):\n",
    "    \"\"\" Compute the classification accuracy\n",
    "        ws is a list of tensors of consistent shapes \n",
    "        X of shape (n, d) and y of shape (n,)\n",
    "    \"\"\"\n",
    "    score = mlp(X, ws, bs)\n",
    "    predictions = torch.argmax(score, axis=1)  # class with highest score is predicted\n",
    "    return (predictions == y).sum() * 1.0 / y.shape[0]\n",
    "\n",
    "@torch.no_grad()\n",
    "def compute_logs_mlp(ws, bs, reg_param, verbose=False):\n",
    "    train_loss = compute_objective_mlp(ws, bs, X_train, y_train, reg_param)\n",
    "    test_loss = compute_objective_mlp(ws, bs, X_test, y_test, reg_param)\n",
    "    train_accuracy = compute_accuracy_mlp(ws, bs, X_train, y_train)\n",
    "    test_accuracy = compute_accuracy_mlp(ws, bs, X_test, y_test)\n",
    "    if verbose:\n",
    "        print(('Train Loss = {:.3f}, Train Accuracy = {:.3f}, ' + \n",
    "               'Test Loss = {:.3f}, Test Accuracy = {:.3f}').format(\n",
    "                train_loss.item(), train_accuracy.item(), \n",
    "                test_loss.item(), test_accuracy.item())\n",
    "    )\n",
    "    return (train_loss, train_accuracy, test_loss, test_accuracy)\n",
    "\n",
    "def sgd_one_pass_mlp(ws, bs, X, y, reg_param, learning_rate, verbose=False):\n",
    "    # Each pass through the data is called an `epoch`.\n",
    "    num_examples = X.shape[0]\n",
    "    average_loss = 0.0\n",
    "    for i in range(num_examples):\n",
    "        idx = np.random.choice(X.shape[0])\n",
    "        # compute the objective. \n",
    "        # Note: This function requires X to be of shape (n,d). In this case, n=1 \n",
    "        objective = compute_objective_mlp(ws, bs, X[idx:idx+1], y[idx:idx+1], reg_param) \n",
    "        average_loss = 0.99 * average_loss + 0.01 * objective.item()\n",
    "        if verbose and (i+1) % 100 == 0:\n",
    "            print(average_loss)\n",
    "        \n",
    "        # compute the gradient using automatic differentiation\n",
    "        all_parameters = [*ws, *bs]\n",
    "        gradients = torch.autograd.grad(outputs=objective, inputs=all_parameters)\n",
    "        \n",
    "        # perform SGD update. IMPORTANT: Make the update inplace!\n",
    "        with torch.no_grad():\n",
    "            # TODO: <Your code here>\n",
    "    return ws, bs"
   ]
  },
  {
   "cell_type": "markdown",
   "metadata": {},
   "source": [
    "Find the divergent learning rate. Edit the code below to change the learning rate and see what you observe. \n"
   ]
  },
  {
   "cell_type": "code",
   "execution_count": null,
   "metadata": {
    "scrolled": true
   },
   "outputs": [],
   "source": [
    "learning_rate = 1e-2\n",
    "\n",
    "hidden_size = 1024\n",
    "ws = [1e-6 * torch.randn(784, hidden_size, requires_grad=True),\n",
    "      1e-6 * torch.randn(hidden_size, n_class, requires_grad=True)]\n",
    "bs = [torch.zeros(hidden_size, requires_grad=True),\n",
    "      torch.zeros(n_class, requires_grad=True)]\n",
    "\n",
    "_ = compute_logs_mlp(ws, bs, reg_param, verbose=True)\n",
    "\n",
    "\n",
    "ws, bs = sgd_one_pass_mlp(ws, bs, X_train, y_train, reg_param, learning_rate, verbose=True)\n",
    "_ = compute_logs_mlp(ws, bs, reg_param, verbose=True)\n"
   ]
  },
  {
   "cell_type": "markdown",
   "metadata": {},
   "source": [
    "Next, we will play with the initialization.\n",
    "\n",
    "- Try initializing with every W_j, b_j be 0 everywhere. What happens?\n",
    "- Try W_j, b_j be 1 everywhere. What happens?\n",
    "\n",
    "For these two cases, compute the gradient $\\nabla f(w)$. What do you observe? Does this explain why these initializations are unsuitable for stochastic gradient optimization?\n",
    "\n",
    "- Try increasing the variance from 0 to 1e-20, 1e-10, 1e-6, 1e-3 and 1e-1. What do you observe?\n",
    "- Try out the so-called Glorot-Bengio initialization scheme, where $W_j \\in \\mathbb{R}^{d_{j-1}\\times d_j}$ is taken to be be normally distributed with variance $1/d_{j}$."
   ]
  },
  {
   "cell_type": "code",
   "execution_count": null,
   "metadata": {},
   "outputs": [],
   "source": [
    "learning_rate = 2.5e-3\n",
    "\n",
    "# TODO: change the initialization\n",
    "ws = [1e-6 * torch.randn(784, hidden_size, requires_grad=True),\n",
    "      1e-6 * torch.randn(hidden_size, n_class, requires_grad=True)]\n",
    "bs = [torch.zeros(hidden_size, requires_grad=True),\n",
    "      torch.zeros(n_class, requires_grad=True)]\n",
    "_ = compute_logs(ws, bs, reg_param, verbose=True)\n",
    "\n",
    "\n",
    "ws = sgd_one_pass(ws, bs, X_train, y_train, reg_param, learning_rate, verbose=True)\n",
    "_ = compute_logs(ws, bs, reg_param, verbose=True)\n"
   ]
  },
  {
   "cell_type": "markdown",
   "metadata": {},
   "source": [
    "Next, we write a function which makes a certain number of passes of SGD."
   ]
  },
  {
   "cell_type": "code",
   "execution_count": null,
   "metadata": {},
   "outputs": [],
   "source": [
    "def run_sgd_mlp(ws, bs, reg_param, learning_rate, num_passes=10, verbose=True):\n",
    "    logs = [compute_logs_mlp(ws, bs, reg_param, verbose=verbose)]\n",
    "    # We run training for multiple epochs. Each epoch is a pass through the data.\n",
    "    for j in range(num_passes):\n",
    "        ws, bs = sgd_one_pass_mlp(ws, bs, X_train, y_train, \n",
    "                          reg_param, learning_rate, verbose=False)\n",
    "        logs.append(compute_logs_mlp(ws, bs, reg_param, verbose=verbose))\n",
    "    return ws, bs, np.asarray(logs)"
   ]
  },
  {
   "cell_type": "markdown",
   "metadata": {},
   "source": [
    "Run SGD for the learning rates from the list `[1e-2, 1e-3, 1e-4, 1e-5]` for 10 epochs. \n",
    "Plot 4 curves:\n",
    "\n",
    " - Train loss vs number of passes,\n",
    " - Train accuracy vs number of passes,\n",
    " - Test loss vs number of passes,\n",
    " - Test accuracy vs number of passes.\n",
    " \n",
    " Each curve must contain multiple lines, each corresponding to a different learning rate. \n",
    " You may use `reg_param=0`. \n",
    " \n",
    " Note: This takes several minutes to run. It took me 15 min for everything to run."
   ]
  },
  {
   "cell_type": "code",
   "execution_count": null,
   "metadata": {},
   "outputs": [],
   "source": [
    "# TODO: <Your code here>"
   ]
  }
 ],
 "metadata": {
  "kernelspec": {
   "display_name": "data598",
   "language": "python",
   "name": "python3"
  },
  "language_info": {
   "codemirror_mode": {
    "name": "ipython",
    "version": 3
   },
   "file_extension": ".py",
   "mimetype": "text/x-python",
   "name": "python",
   "nbconvert_exporter": "python",
   "pygments_lexer": "ipython3",
   "version": "3.8.15"
  },
  "vscode": {
   "interpreter": {
    "hash": "86858d5f84902b050d54a6bd9c0fb878f86a1dbd7a1ae5d42a558ee921f88707"
   }
  }
 },
 "nbformat": 4,
 "nbformat_minor": 2
}
