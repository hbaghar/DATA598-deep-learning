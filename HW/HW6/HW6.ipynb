{
 "cells": [
  {
   "attachments": {},
   "cell_type": "markdown",
   "metadata": {},
   "source": [
    "# Homework 6: Transformers and RNNs"
   ]
  },
  {
   "attachments": {},
   "cell_type": "markdown",
   "metadata": {},
   "source": [
    "## Setup of modules/helper code"
   ]
  },
  {
   "cell_type": "code",
   "execution_count": 1,
   "metadata": {},
   "outputs": [],
   "source": [
    "# Model training related imports\n",
    "import numpy as np\n",
    "import torch\n",
    "from torch.nn import TransformerEncoderLayer\n",
    "from torch.nn.functional import softmax, relu\n",
    "import math\n",
    "from tqdm.auto import tqdm\n",
    "from torch.nn.functional import cross_entropy\n",
    "import time\n",
    "import matplotlib.pyplot as plt\n",
    "\n",
    "# Data loading and processing related imports\n",
    "from io import open\n",
    "import glob\n",
    "import os\n",
    "import unicodedata\n",
    "import string"
   ]
  },
  {
   "attachments": {},
   "cell_type": "markdown",
   "metadata": {},
   "source": [
    "Defining Transformer Model"
   ]
  },
  {
   "cell_type": "code",
   "execution_count": 2,
   "metadata": {},
   "outputs": [],
   "source": [
    "class TransformerModel(torch.nn.Module):\n",
    "    def __init__(self, vocab_size, num_languages=18, max_seq_len=25, input_dim=64, fc_hidden_dim=128,\n",
    "                 num_attn_heads=2, num_layers=1\n",
    "    ):\n",
    "        super().__init__()\n",
    "        self.vocab_size = vocab_size\n",
    "        self.dims = input_dim\n",
    "        self.position_tensor = torch.arange(max_seq_len, dtype=torch.long) # (0, 1, ..., max_seq_len - 1)\n",
    "\n",
    "        # Initialize embeddings\n",
    "        self.positional_embedding = torch.nn.Embedding(max_seq_len, input_dim)\n",
    "        self.token_embedding = torch.nn.Embedding(vocab_size, input_dim)\n",
    "        \n",
    "        # Handle category inputs\n",
    "        self.category_embedding = torch.nn.Embedding(num_languages, input_dim)\n",
    "        \n",
    "        # Initialize transformer layers\n",
    "        self.transformer = torch.nn.ModuleList()\n",
    "        for i in range(num_layers):\n",
    "            self.transformer.append(\n",
    "                TransformerEncoderLayer(input_dim, num_attn_heads, fc_hidden_dim, dropout=0,)\n",
    "            )\n",
    "        # Initialize final prediction layer\n",
    "        self.hidden_to_pred = torch.nn.Linear(input_dim, vocab_size)\n",
    "\n",
    "        # Initialize weights\n",
    "        with torch.no_grad():\n",
    "            for w in [self.positional_embedding.weight, self.token_embedding.weight, \n",
    "                      self.category_embedding.weight, self.hidden_to_pred.weight]:\n",
    "                rand_tensor = torch.randn_like(w)\n",
    "                w.copy_(rand_tensor)\n",
    "  \n",
    "    @staticmethod\n",
    "    def prepare_mask(seq_len):\n",
    "        # TODO: What does this code do? \n",
    "        mask = torch.triu(torch.ones(seq_len, seq_len))  # (seq_len, seq_len)\n",
    "        mask.masked_fill_(mask == 0, float('-inf')).masked_fill_(mask == 1, float(0.0))\n",
    "        mask = mask.transpose(0, 1)\n",
    "        return mask\n",
    "\n",
    "    def forward(self, inputs, category):\n",
    "        # inputs: (seq_len, batch_size); dtype = long (representing token ids)\n",
    "        # category: (batch_size, num_languages)\n",
    "        seq_len = inputs.shape[0]\n",
    "        \n",
    "        # Prepare mask and positions\n",
    "        mask = self.prepare_mask(seq_len)  # (seq_len, seq_len)\n",
    "        position_tensor = self.position_tensor[:seq_len]  # (0, 1, ..., seq_len - 1)\n",
    "\n",
    "        # Embedding\n",
    "        # TODO: what does this line of code do?\n",
    "        token_embedding = self.token_embedding(inputs) * math.sqrt(self.dims)  # (seq_len, batch_size, embed_dim)\n",
    "        \n",
    "        # TODO: what does this line of code do?\n",
    "        pos_embedding = self.positional_embedding(position_tensor) # (seq_len, embed_dim)\n",
    "        pos_embedding = pos_embedding[:, None, :]  # (seq_len, 1, embed_dim); broadcast across batch\n",
    "        \n",
    "        category_embedding = self.category_embedding(category)  # (batch_size, embed_dim)\n",
    "        category_embedding = category_embedding[None, :, :]  # (1, batch_size, embed_dim); broadcast across seq_len\n",
    "        \n",
    "        # TODO: what does this line of code do?\n",
    "        total_embedding = token_embedding + pos_embedding + category_embedding # (seq_len, batch_size, embed_dim)\n",
    "        hidden = relu(total_embedding)  # (seq_len, batch_size, embed_dim)\n",
    "        \n",
    "        # Apply transformer layers\n",
    "        for transformer_layer in self.transformer:\n",
    "            hidden = transformer_layer(hidden, mask)  # (seq_len, batch_size, embed_dim)\n",
    "\n",
    "        # Get the final scores\n",
    "        outputs = self.hidden_to_pred(hidden)  # (seq_len, batch_size, vocab_size)\n",
    "        return outputs \n"
   ]
  },
  {
   "attachments": {},
   "cell_type": "markdown",
   "metadata": {},
   "source": [
    "Loading data and processing it"
   ]
  },
  {
   "cell_type": "code",
   "execution_count": 3,
   "metadata": {},
   "outputs": [
    {
     "name": "stdout",
     "output_type": "stream",
     "text": [
      "# categories: 18 ['Czech', 'German', 'Arabic', 'Japanese', 'Chinese', 'Vietnamese', 'Russian', 'French', 'Irish', 'English', 'Spanish', 'Greek', 'Italian', 'Portuguese', 'Scottish', 'Dutch', 'Korean', 'Polish']\n",
      "59\n"
     ]
    }
   ],
   "source": [
    "all_letters = string.ascii_letters + \" .,;'-\"\n",
    "n_letters = len(all_letters) + 1 # Plus EOS marker\n",
    "\n",
    "# Turn a Unicode string to plain ASCII\n",
    "def unicode_to_ascii(s):\n",
    "    return ''.join(\n",
    "        c for c in unicodedata.normalize('NFD', s)\n",
    "        if unicodedata.category(c) != 'Mn'\n",
    "        and c in all_letters\n",
    "    )\n",
    "\n",
    "# Read a file and split into lines\n",
    "def read_lines(filename):\n",
    "    lines = open(filename, encoding='utf-8').read().strip().split('\\n')\n",
    "    return [unicode_to_ascii(line) for line in lines]\n",
    "\n",
    "# Build the category_lines dictionary, a list of lines per category\n",
    "category_lines = {}\n",
    "all_categories = []\n",
    "for filename in glob.glob('../../Labs/data/names/*.txt'):\n",
    "    category = os.path.splitext(os.path.basename(filename))[0]\n",
    "    all_categories.append(category)\n",
    "    lines = read_lines(filename)\n",
    "    category_lines[category] = lines\n",
    "\n",
    "n_categories = len(all_categories)\n",
    "\n",
    "if n_categories == 0:\n",
    "    raise RuntimeError('Data not found. Make sure that you downloaded data '\n",
    "        'from https://download.pytorch.org/tutorial/data.zip and extract it to '\n",
    "        'the current directory.')\n",
    "\n",
    "print('# categories:', n_categories, all_categories)\n",
    "\n",
    "print(n_letters)"
   ]
  },
  {
   "cell_type": "code",
   "execution_count": 4,
   "metadata": {},
   "outputs": [],
   "source": [
    "def input_to_indices(line):\n",
    "    letter_indexes = [all_letters.find(line[li]) for li in range(len(line))]\n",
    "    return torch.LongTensor([letter_indexes]).T  # (seq_len, batch_size); batch_size = 1 \n",
    "\n",
    "# LongTensor of second letter to end (EOS) for target\n",
    "def target_to_indices(line):\n",
    "    # Skip the first one and add EOS at the end\n",
    "    letter_indexes = [all_letters.find(line[li]) for li in range(1, len(line))]\n",
    "    letter_indexes.append(n_letters - 1) # EOS\n",
    "    return torch.LongTensor([letter_indexes]).T  # (seq_len, batch_size); batch_size = 1 \n"
   ]
  },
  {
   "cell_type": "markdown",
   "metadata": {},
   "source": [
    "This is how we sample a single random example."
   ]
  },
  {
   "cell_type": "code",
   "execution_count": 5,
   "metadata": {},
   "outputs": [],
   "source": [
    "# Make category, input, and target tensors from a random category, line pair\n",
    "def sample_one_example():\n",
    "    # sample category\n",
    "    category = np.random.choice(all_categories)\n",
    "    category_tensor = torch.LongTensor([all_categories.index(category)])\n",
    "    # sample line from category\n",
    "    line = np.random.choice(category_lines[category]) \n",
    "    input_line_tensor = input_to_indices(line)\n",
    "    target_line_tensor = target_to_indices(line)\n",
    "    return category_tensor, input_line_tensor, target_line_tensor"
   ]
  },
  {
   "cell_type": "code",
   "execution_count": 6,
   "metadata": {},
   "outputs": [],
   "source": [
    "def train_sgd_one_pass(model, model2, total_num_examples, learning_rate, gamma):\n",
    "    avg_loss = 0.0\n",
    "    for i in tqdm(np.arange(total_num_examples)):  # ~2 min per epoch\n",
    "        # sample a random training example\n",
    "        category, input_line, target_line = sample_one_example()\n",
    "        # Obtain predictions\n",
    "        predictions = model(input_line, category)  # (seq_len, batch_size, vocab_size)\n",
    "        \n",
    "        # Compute the loss\n",
    "        flattened_predictions = predictions.view(-1, predictions.shape[-1])  # (seq_len * batch_size, vocab_size)\n",
    "        flattened_targets = target_line.view(-1)  # (seq_len * batch_size)\n",
    "        loss = cross_entropy(flattened_predictions, flattened_targets)\n",
    "        \n",
    "        # Gradients and SGD update\n",
    "        gradients = torch.autograd.grad(outputs=loss, inputs=model.parameters())\n",
    "        \n",
    "        # TODO: your code for the Gradients and SGD update\n",
    "        with torch.no_grad():\n",
    "            for param, grad in zip(model.parameters(), gradients):\n",
    "                param -= learning_rate * grad\n",
    "        \n",
    "        # Adding exponential moving average\n",
    "        with torch.no_grad():\n",
    "            for p1, p2 in zip(model.parameters(), model2.parameters()):\n",
    "                p2*= (1-gamma)\n",
    "                p2+= gamma*p1\n",
    "                \n",
    "        avg_loss = i / (i+1) * avg_loss + loss.item() / (i+1)\n",
    "        if i % 5000 == 0:\n",
    "            print('\\t\\t', i, avg_loss)\n",
    "    return avg_loss, model, model2"
   ]
  },
  {
   "cell_type": "code",
   "execution_count": 7,
   "metadata": {},
   "outputs": [
    {
     "name": "stdout",
     "output_type": "stream",
     "text": [
      "20074\n"
     ]
    }
   ],
   "source": [
    "total_num_examples = sum([len(category_lines[c]) for c in all_categories])\n",
    "print(total_num_examples)"
   ]
  },
  {
   "cell_type": "markdown",
   "metadata": {},
   "source": [
    "# Bonus 1: Preform averaged SGD using transformer architecture\n",
    "Using the exact transformer model from Part 4 (\"TransformerModel\"), we will implement averaged SGD with an exponentially moving average. \n",
    "In addition to the model parameters $w_t$, we \n",
    "also maintain a separate set of parameters $\\bar w_t$ to serve as an average. The updates of averaged SGD are\n",
    "$$\n",
    "    w_{t+1} = w_t - \\eta g_t \\\\\n",
    "    \\bar w_{t+1} = (1 - \\gamma) \\bar w_t + \\gamma w_{t+1},\n",
    "$$\n",
    "where $\\eta$ is a learning rate, $g_t$ is a stochastic gradient at $w_t$ and $\\gamma \\in (0, 1)$ is an average weight. \n",
    "\n",
    "Some notes:\n",
    "- the update of $w_t$ is identical to the regular SGD method. That is, the averaged parameter $\\bar w_t$ is *not* used during the stochastic gradient updates. \n",
    "- The averaged parameter $\\bar w_t$ is updated on the side and never to be used in model updates. We use $\\bar w_t$ for logging only. \n",
    "\n",
    "Your task is to train the model for $10$ epochs and plot the train/test loss for both the unaveraged model $w_t$ as well as the averaged_model $\\bar w_t$ in the same plot. You can use the function \"compute_logs\" below to calculate the loss. Use a learning_rate = 0.05 and do full SGD (not minibatch). We will use the average weight as $\\gamma = 10^{-3}$.\n",
    "\n",
    "\n",
    "**NOTE**: Do not include the logs of the first two passes through the data in the plot. This is because the inital loss is always very large and this tends to drown out the more interesting patterns we observe later on during training. \n",
    " \n",
    "    \n"
   ]
  },
  {
   "cell_type": "code",
   "execution_count": 8,
   "metadata": {},
   "outputs": [],
   "source": [
    "def compute_loss(net):\n",
    "    # Compute the loss\n",
    "    category, input_line, target_line = sample_one_example()\n",
    "    predictions = net(input_line, category)  # (seq_len, batch_size, vocab_size)\n",
    "    flattened_predictions = predictions.view(-1, predictions.shape[-1])  # (seq_len * batch_size, vocab_size)\n",
    "    flattened_targets = target_line.view(-1)  # (seq_len * batch_size)\n",
    "    loss = cross_entropy(flattened_predictions, flattened_targets)\n",
    "    return loss\n",
    "    \n",
    "def compute_logs(net, verbose=False):\n",
    "    train_loss = compute_loss(net)\n",
    "    test_loss = compute_loss(net)\n",
    "    if verbose:\n",
    "        print(('Train Loss = {:.3f}, ' + \n",
    "               'Test Loss = {:.3f},').format(\n",
    "                train_loss.item(), \n",
    "                test_loss.item())\n",
    "    )\n",
    "    return (train_loss.item(), test_loss.item())"
   ]
  },
  {
   "cell_type": "code",
   "execution_count": 9,
   "metadata": {},
   "outputs": [
    {
     "name": "stdout",
     "output_type": "stream",
     "text": [
      "Starting epoch 0\n"
     ]
    },
    {
     "data": {
      "application/vnd.jupyter.widget-view+json": {
       "model_id": "a517f2d91c154b13a7d35b09d2ec461e",
       "version_major": 2,
       "version_minor": 0
      },
      "text/plain": [
       "  0%|          | 0/20074 [00:00<?, ?it/s]"
      ]
     },
     "metadata": {},
     "output_type": "display_data"
    },
    {
     "name": "stdout",
     "output_type": "stream",
     "text": [
      "\t\t 0 13.39545726776123\n",
      "\t\t 5000 2.904272829477971\n",
      "\t\t 10000 2.723519685104268\n",
      "\t\t 15000 2.6300678524813694\n",
      "\t\t 20000 2.5637694315954076\n",
      "1 \t 2.563 \t32.78sec\n",
      "Starting epoch 1\n"
     ]
    },
    {
     "data": {
      "application/vnd.jupyter.widget-view+json": {
       "model_id": "c1844cba2b2d4407b04fcc9f9956a387",
       "version_major": 2,
       "version_minor": 0
      },
      "text/plain": [
       "  0%|          | 0/20074 [00:00<?, ?it/s]"
      ]
     },
     "metadata": {},
     "output_type": "display_data"
    },
    {
     "name": "stdout",
     "output_type": "stream",
     "text": [
      "\t\t 0 2.0728180408477783\n",
      "\t\t 5000 2.297369935427439\n",
      "\t\t 10000 2.2726129614246724\n",
      "\t\t 15000 2.246889731027321\n",
      "\t\t 20000 2.2276492894051882\n",
      "2 \t 2.228 \t32.84sec\n",
      "Starting epoch 2\n"
     ]
    },
    {
     "data": {
      "application/vnd.jupyter.widget-view+json": {
       "model_id": "0189104f81984ed88827417134c6f43f",
       "version_major": 2,
       "version_minor": 0
      },
      "text/plain": [
       "  0%|          | 0/20074 [00:00<?, ?it/s]"
      ]
     },
     "metadata": {},
     "output_type": "display_data"
    },
    {
     "name": "stdout",
     "output_type": "stream",
     "text": [
      "\t\t 0 2.120163679122925\n",
      "\t\t 5000 2.1460845661840144\n",
      "\t\t 10000 2.1458125664104615\n",
      "\t\t 15000 2.132243941089843\n",
      "\t\t 20000 2.1214371543768715\n",
      "3 \t 2.121 \t32.88sec\n",
      "Starting epoch 3\n"
     ]
    },
    {
     "data": {
      "application/vnd.jupyter.widget-view+json": {
       "model_id": "e789f51ed7aa445d8b6d654124f03d96",
       "version_major": 2,
       "version_minor": 0
      },
      "text/plain": [
       "  0%|          | 0/20074 [00:00<?, ?it/s]"
      ]
     },
     "metadata": {},
     "output_type": "display_data"
    },
    {
     "name": "stdout",
     "output_type": "stream",
     "text": [
      "\t\t 0 1.7792447805404663\n",
      "\t\t 5000 2.0801743962089585\n",
      "\t\t 10000 2.080957362036996\n",
      "\t\t 15000 2.075985700918177\n",
      "\t\t 20000 2.074694060781182\n",
      "4 \t 2.075 \t32.3sec\n",
      "Starting epoch 4\n"
     ]
    },
    {
     "data": {
      "application/vnd.jupyter.widget-view+json": {
       "model_id": "72d2b20f906646f084f59242f28d7540",
       "version_major": 2,
       "version_minor": 0
      },
      "text/plain": [
       "  0%|          | 0/20074 [00:00<?, ?it/s]"
      ]
     },
     "metadata": {},
     "output_type": "display_data"
    },
    {
     "name": "stdout",
     "output_type": "stream",
     "text": [
      "\t\t 0 4.628005504608154\n",
      "\t\t 5000 2.0983071057015965\n",
      "\t\t 10000 2.0728228754066778\n",
      "\t\t 15000 2.066354898129564\n",
      "\t\t 20000 2.054149458749441\n",
      "5 \t 2.055 \t32.66sec\n",
      "Starting epoch 5\n"
     ]
    },
    {
     "data": {
      "application/vnd.jupyter.widget-view+json": {
       "model_id": "8ccc5331c06646b59b5ec99b61f0a9ef",
       "version_major": 2,
       "version_minor": 0
      },
      "text/plain": [
       "  0%|          | 0/20074 [00:00<?, ?it/s]"
      ]
     },
     "metadata": {},
     "output_type": "display_data"
    },
    {
     "name": "stdout",
     "output_type": "stream",
     "text": [
      "\t\t 0 2.92445707321167\n",
      "\t\t 5000 2.0130298227798686\n",
      "\t\t 10000 2.0397722359737984\n",
      "\t\t 15000 2.0353313453500825\n",
      "\t\t 20000 2.0374969291393805\n",
      "6 \t 2.038 \t32.51sec\n",
      "Starting epoch 6\n"
     ]
    },
    {
     "data": {
      "application/vnd.jupyter.widget-view+json": {
       "model_id": "3cc68754136841fabbcc163d1fed038a",
       "version_major": 2,
       "version_minor": 0
      },
      "text/plain": [
       "  0%|          | 0/20074 [00:00<?, ?it/s]"
      ]
     },
     "metadata": {},
     "output_type": "display_data"
    },
    {
     "name": "stdout",
     "output_type": "stream",
     "text": [
      "\t\t 0 2.0742552280426025\n",
      "\t\t 5000 2.055081816583449\n",
      "\t\t 10000 2.077854049422114\n",
      "\t\t 15000 2.0669071451579333\n",
      "\t\t 20000 2.057421458526794\n",
      "7 \t 2.057 \t32.82sec\n",
      "Starting epoch 7\n"
     ]
    },
    {
     "data": {
      "application/vnd.jupyter.widget-view+json": {
       "model_id": "b504bbd70b1b4a67b652d0806568269d",
       "version_major": 2,
       "version_minor": 0
      },
      "text/plain": [
       "  0%|          | 0/20074 [00:00<?, ?it/s]"
      ]
     },
     "metadata": {},
     "output_type": "display_data"
    },
    {
     "name": "stdout",
     "output_type": "stream",
     "text": [
      "\t\t 0 2.1432576179504395\n",
      "\t\t 5000 2.0027576613857425\n",
      "\t\t 10000 1.9973300662639935\n",
      "\t\t 15000 2.017365138088963\n",
      "\t\t 20000 2.0312881837908066\n",
      "8 \t 2.031 \t32.91sec\n",
      "Starting epoch 8\n"
     ]
    },
    {
     "data": {
      "application/vnd.jupyter.widget-view+json": {
       "model_id": "8cf01b1698cc4a948997773d3651b08e",
       "version_major": 2,
       "version_minor": 0
      },
      "text/plain": [
       "  0%|          | 0/20074 [00:00<?, ?it/s]"
      ]
     },
     "metadata": {},
     "output_type": "display_data"
    },
    {
     "name": "stdout",
     "output_type": "stream",
     "text": [
      "\t\t 0 2.05690336227417\n",
      "\t\t 5000 2.030286839326074\n",
      "\t\t 10000 2.015617758393267\n",
      "\t\t 15000 2.007064145876676\n",
      "\t\t 20000 2.004639763837456\n",
      "9 \t 2.005 \t32.71sec\n",
      "Starting epoch 9\n"
     ]
    },
    {
     "data": {
      "application/vnd.jupyter.widget-view+json": {
       "model_id": "c3080f5687b740b095ed347ac160508a",
       "version_major": 2,
       "version_minor": 0
      },
      "text/plain": [
       "  0%|          | 0/20074 [00:00<?, ?it/s]"
      ]
     },
     "metadata": {},
     "output_type": "display_data"
    },
    {
     "name": "stdout",
     "output_type": "stream",
     "text": [
      "\t\t 0 2.211400032043457\n",
      "\t\t 5000 2.0126718722225716\n",
      "\t\t 10000 2.00341491526054\n",
      "\t\t 15000 1.9901348065842366\n",
      "\t\t 20000 1.9901112088334032\n",
      "10 \t 1.99 \t32.76sec\n"
     ]
    }
   ],
   "source": [
    "model = TransformerModel(vocab_size=n_letters)\n",
    "learning_rate = 0.05\n",
    "\n",
    "from copy import deepcopy\n",
    "model_avg = deepcopy(model)\n",
    "\n",
    "gamma = 1e-3\n",
    "start = time.time()\n",
    "\n",
    "logs = []\n",
    "logs_avg = []\n",
    "\n",
    "for epoch in range(10):\n",
    "    t1 = time.time()\n",
    "    print(f'Starting epoch {epoch}')\n",
    "    avg_loss, model, model_avg = train_sgd_one_pass(model, model_avg, total_num_examples, learning_rate, gamma)\n",
    "    logs.append(compute_logs(model))\n",
    "    logs_avg.append(compute_logs(model_avg))\n",
    "    print(epoch+1, '\\t', round(avg_loss, 3), \n",
    "          f'\\t{round(time.time()-t1, 2)}sec')\n",
    "    \n"
   ]
  },
  {
   "cell_type": "code",
   "execution_count": 10,
   "metadata": {},
   "outputs": [
    {
     "data": {
      "text/plain": [
       "<matplotlib.legend.Legend at 0x124819160>"
      ]
     },
     "execution_count": 10,
     "metadata": {},
     "output_type": "execute_result"
    },
    {
     "data": {
      "image/png": "[encoded data removed]",
      "text/plain": [
       "<Figure size 1000x500 with 2 Axes>"
      ]
     },
     "metadata": {},
     "output_type": "display_data"
    }
   ],
   "source": [
    "logs = np.asarray(logs)\n",
    "logs_avg = np.asarray(logs_avg)\n",
    "\n",
    "plt.subplots(1, 2, figsize=(10, 5))\n",
    "\n",
    "plt.subplot(1, 2, 1)\n",
    "# Plot training loss\n",
    "plt.plot(logs[2:, 0], label='SGD')\n",
    "plt.plot(logs_avg[2:, 0], label='SGD with EMA')\n",
    "plt.title('Training loss')\n",
    "plt.legend()\n",
    "\n",
    "plt.subplot(1, 2, 2)\n",
    "# Plot test loss\n",
    "plt.plot(logs[2:, 1], label='SGD')\n",
    "plt.plot(logs_avg[2:, 1], label='SGD with EMA')\n",
    "plt.title('Test loss')\n",
    "plt.legend()"
   ]
  },
  {
   "cell_type": "markdown",
   "metadata": {},
   "source": [
    "# Bonus 2: Find divergent learning rate for this RNN model below. \n",
    "You do NOT need to know or understand RNN's for this problem, but if you are interested please check out the *optional* demo on Canvas on RNN's. In this exercise, we are just asking that you find the divergent learning rate for this model. The code created for you below, you will only need to use the code in the labeled code chunk to find the divergent learning rate and then use that learning rate to train the  model. No graphs are needed at the end. \n"
   ]
  },
  {
   "cell_type": "code",
   "execution_count": 11,
   "metadata": {},
   "outputs": [
    {
     "name": "stdout",
     "output_type": "stream",
     "text": [
      "tensor([[0., 0., 0., 0., 0., 0., 0., 0., 0., 0., 0., 0., 0., 0., 0., 0., 0., 0.,\n",
      "         0., 0., 0., 0., 0., 0., 0., 0., 0., 0., 0., 0., 0., 0., 0., 0., 0., 1.,\n",
      "         0., 0., 0., 0., 0., 0., 0., 0., 0., 0., 0., 0., 0., 0., 0., 0., 0., 0.,\n",
      "         0., 0., 0., 0., 0.]])\n",
      "torch.Size([5, 1, 59])\n"
     ]
    }
   ],
   "source": [
    "# Find letter index from all_letters, e.g. \"a\" = 0\n",
    "def letterToIndex(letter):\n",
    "    return all_letters.find(letter)\n",
    "\n",
    "# Just for demonstration, turn a letter into a <1 x n_letters> Tensor\n",
    "def letterToTensor(letter):\n",
    "    tensor = torch.zeros(1, n_letters)\n",
    "    tensor[0][letterToIndex(letter)] = 1\n",
    "    return tensor\n",
    "\n",
    "# Turn a line into a <line_length x 1 x n_letters>,\n",
    "# or an array of one-hot letter vectors\n",
    "def lineToTensor(line):\n",
    "    tensor = torch.zeros(len(line), 1, n_letters)\n",
    "    for li, letter in enumerate(line):\n",
    "        tensor[li][0][letterToIndex(letter)] = 1\n",
    "    return tensor\n",
    "\n",
    "print(letterToTensor('J'))\n",
    "\n",
    "print(lineToTensor('Jones').size())"
   ]
  },
  {
   "cell_type": "code",
   "execution_count": 12,
   "metadata": {},
   "outputs": [],
   "source": [
    "class RNN(torch.nn.Module):\n",
    "    def __init__(self, input_size, hidden_size, output_size):\n",
    "        super(RNN, self).__init__()\n",
    "\n",
    "        self.hidden_size = hidden_size\n",
    "\n",
    "        self.i2h = torch.nn.Linear(input_size + hidden_size, hidden_size)\n",
    "        self.i2o = torch.nn.Linear(input_size + hidden_size, output_size)\n",
    "        self.softmax = torch.nn.LogSoftmax(dim=1)\n",
    "\n",
    "    def forward(self, input, hidden):\n",
    "        combined = torch.cat((input, hidden), 1)\n",
    "        hidden = self.i2h(combined)\n",
    "        output = self.i2o(combined)\n",
    "        output = self.softmax(output)\n",
    "        return output, hidden\n",
    "\n",
    "    def initHidden(self):\n",
    "        return torch.zeros(1, self.hidden_size)\n",
    "\n",
    "n_hidden = 128\n",
    "rnn = RNN(n_letters, n_hidden, n_categories)"
   ]
  },
  {
   "cell_type": "code",
   "execution_count": 13,
   "metadata": {},
   "outputs": [],
   "source": [
    "def categoryFromOutput(output):\n",
    "    top_n, top_i = output.topk(1)\n",
    "    category_i = top_i[0].item()\n",
    "    return all_categories[category_i], category_i\n",
    "\n"
   ]
  },
  {
   "cell_type": "code",
   "execution_count": 14,
   "metadata": {},
   "outputs": [
    {
     "name": "stdout",
     "output_type": "stream",
     "text": [
      "category = Polish / line = Szewc\n",
      "category = Czech / line = Kofron\n",
      "category = Irish / line = Taidhg\n",
      "category = Scottish / line = Gordon\n",
      "category = Japanese / line = Taguchi\n",
      "category = German / line = Strobel\n",
      "category = Greek / line = Malihoudis\n",
      "category = Irish / line = Mohan\n",
      "category = Russian / line = Beh\n",
      "category = Korean / line = Sung\n"
     ]
    }
   ],
   "source": [
    "import random\n",
    "def randomChoice(l):\n",
    "    return l[random.randint(0, len(l) - 1)]\n",
    "\n",
    "def randomTrainingExample():\n",
    "    category = randomChoice(all_categories)\n",
    "    line = randomChoice(category_lines[category])\n",
    "    category_tensor = torch.tensor([all_categories.index(category)], dtype=torch.long)\n",
    "    line_tensor = lineToTensor(line)\n",
    "    return category, line, category_tensor, line_tensor\n",
    "\n",
    "for i in range(10):\n",
    "    category, line, category_tensor, line_tensor = randomTrainingExample()\n",
    "    print('category =', category, '/ line =', line)"
   ]
  },
  {
   "cell_type": "markdown",
   "metadata": {},
   "source": [
    "# Use this code to find divergent learning rate!"
   ]
  },
  {
   "cell_type": "code",
   "execution_count": 15,
   "metadata": {},
   "outputs": [
    {
     "name": "stdout",
     "output_type": "stream",
     "text": [
      "Iteration 1: 2.893557548522949\n",
      "Iteration 2: 3.003159523010254\n",
      "Iteration 3: 2.934823751449585\n",
      "Iteration 4: 2.833251953125\n",
      "Iteration 5: 2.928950309753418\n",
      "Iteration 6: 2.9080727100372314\n",
      "Iteration 7: 2.8792552947998047\n",
      "Iteration 8: 2.8127939701080322\n",
      "Iteration 9: 2.9635565280914307\n",
      "Iteration 10: 2.9390127658843994\n",
      "Iteration 11: 2.792665958404541\n",
      "Iteration 12: 2.8479859828948975\n",
      "Iteration 13: 2.993556022644043\n",
      "Iteration 14: 2.95658278465271\n",
      "Iteration 15: 2.942656993865967\n",
      "Iteration 16: 2.9069480895996094\n",
      "Iteration 17: 3.0185205936431885\n",
      "Iteration 18: 2.921698570251465\n",
      "Iteration 19: 2.768618106842041\n"
     ]
    }
   ],
   "source": [
    "criterion = torch.nn.NLLLoss()\n",
    "rnn = RNN(n_letters, n_hidden, n_categories)\n",
    "\n",
    "def train(category_tensor, line_tensor):\n",
    "    hidden = rnn.initHidden()\n",
    "\n",
    "    rnn.zero_grad()\n",
    "\n",
    "    for i in range(line_tensor.size()[0]):\n",
    "        output, hidden = rnn(line_tensor[i], hidden)\n",
    "\n",
    "    loss = criterion(output, category_tensor)\n",
    "    loss.backward()\n",
    "\n",
    "    # Add parameters' gradients to their values, multiplied by learning rate\n",
    "    for p in rnn.parameters():\n",
    "        p.data.add_(p.grad.data, alpha=-learning_rate)\n",
    "\n",
    "    return output, loss.item()\n",
    "div_learning_rate = 0.02#TODO: Find the learning rate\n",
    "learning_rate = 0.01\n",
    "for iter in range(1, 20):\n",
    "    category, line, category_tensor, line_tensor = randomTrainingExample()\n",
    "    output, loss = train(category_tensor, line_tensor)\n",
    "    print(f\"Iteration {iter}: {loss}\")\n"
   ]
  },
  {
   "cell_type": "code",
   "execution_count": 16,
   "metadata": {},
   "outputs": [
    {
     "name": "stdout",
     "output_type": "stream",
     "text": [
      "5000 5% (0m 2s) 2.2005 Bonnet / Dutch ✗ (French)\n",
      "10000 10% (0m 5s) 2.5575 Cote / Korean ✗ (French)\n",
      "15000 15% (0m 7s) 0.8297 Wehner / German ✓\n",
      "20000 20% (0m 10s) 1.7053 Murphy / Irish ✗ (Scottish)\n",
      "25000 25% (0m 12s) 0.0857 Ryzhikov / Russian ✓\n",
      "30000 30% (0m 15s) 1.6413 Walker / Scottish ✓\n",
      "35000 35% (0m 18s) 0.8997 Capello / Spanish ✓\n",
      "40000 40% (0m 20s) 1.9551 Han / Chinese ✗ (Korean)\n",
      "45000 45% (0m 23s) 0.5695 Portelli / Italian ✓\n",
      "50000 50% (0m 26s) 0.0262 Yamakawa / Japanese ✓\n",
      "55000 55% (0m 28s) 0.8693 Ola / Spanish ✓\n",
      "60000 60% (0m 31s) 0.3735 Gianakopulos / Greek ✓\n",
      "65000 65% (0m 35s) 0.1595 Zhelaev / Russian ✓\n",
      "70000 70% (0m 37s) 3.0344 Yasmin / German ✗ (English)\n",
      "75000 75% (0m 40s) 0.3023 Sokolowski / Polish ✓\n",
      "80000 80% (0m 43s) 0.1863 Moon / Korean ✓\n",
      "85000 85% (0m 46s) 0.7995 Huan / Chinese ✓\n",
      "90000 90% (0m 48s) 0.0065 Bouloukos / Greek ✓\n",
      "95000 95% (0m 51s) 1.2403 Michaud / Irish ✗ (French)\n",
      "100000 100% (0m 54s) 0.4454 Melo / Portuguese ✓\n"
     ]
    }
   ],
   "source": [
    "import time\n",
    "import math\n",
    "rnn = RNN(n_letters, n_hidden, n_categories)\n",
    "learning_rate = 0.01\n",
    "n_iters = 100000\n",
    "print_every = 5000\n",
    "plot_every = 1000\n",
    "\n",
    "# Keep track of losses for plotting\n",
    "current_loss = 0\n",
    "all_losses = []\n",
    "\n",
    "def timeSince(since):\n",
    "    now = time.time()\n",
    "    s = now - since\n",
    "    m = math.floor(s / 60)\n",
    "    s -= m * 60\n",
    "    return '%dm %ds' % (m, s)\n",
    "\n",
    "start = time.time()\n",
    "\n",
    "for iter in range(1, n_iters + 1):\n",
    "    category, line, category_tensor, line_tensor = randomTrainingExample()\n",
    "    output, loss = train(category_tensor, line_tensor)\n",
    "    current_loss += loss\n",
    "\n",
    "    # Print iter number, loss, name and guess\n",
    "    if iter % print_every == 0:\n",
    "        guess, guess_i = categoryFromOutput(output)\n",
    "        correct = '✓' if guess == category else '✗ (%s)' % category\n",
    "        print('%d %d%% (%s) %.4f %s / %s %s' % (iter, iter / n_iters * 100, timeSince(start), loss, line, guess, correct))\n",
    "\n",
    "    # Add current loss avg to list of losses\n",
    "    if iter % plot_every == 0:\n",
    "        all_losses.append(current_loss / plot_every)\n",
    "        current_loss = 0"
   ]
  }
 ],
 "metadata": {
  "kernelspec": {
   "display_name": "data598",
   "language": "python",
   "name": "python3"
  },
  "language_info": {
   "codemirror_mode": {
    "name": "ipython",
    "version": 3
   },
   "file_extension": ".py",
   "mimetype": "text/x-python",
   "name": "python",
   "nbconvert_exporter": "python",
   "pygments_lexer": "ipython3",
   "version": "3.8.15"
  },
  "orig_nbformat": 4,
  "vscode": {
   "interpreter": {
    "hash": "86858d5f84902b050d54a6bd9c0fb878f86a1dbd7a1ae5d42a558ee921f88707"
   }
  }
 },
 "nbformat": 4,
 "nbformat_minor": 2
}
