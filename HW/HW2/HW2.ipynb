{
 "cells": [
  {
   "attachments": {},
   "cell_type": "markdown",
   "metadata": {},
   "source": [
    "# Homework 2: Multiple Layer Perceptron"
   ]
  },
  {
   "attachments": {},
   "cell_type": "markdown",
   "metadata": {},
   "source": [
    "# 1. Performance vs. Width\n",
    "\n",
    "In this exercise, we will experiment with the number of hidden units in a multilayer perceptron (MLP) with a single hidden layer. The number of hidden units is also referred to the width of the hidden layer.\n",
    "\n",
    "Here are the details:\n",
    "- The setup is identical to the demo/lab and you may reuse that code. Take the FashionMNIST dataset and randomly subsample 12% of its training set to work with. As a test set, we will use the full test set of FashionMNIST.\n",
    "- Define a MLP with one hidden layer of width h = 16. Find the divergent learning rate η∗ for this model and use a fixed learning rate of η∗/2, as we discussed in class.\n",
    "- Train the model for 120 passes over the data.\n",
    "- Repeat this procedure for widths h = 8, 32, 128, 512 with the same learning rate η∗/2 as above (i.e., you do not need to find the divergent learning rate of each model for this exercise).\n",
    "\n",
    "\n",
    "The deliverables for this exercise are:\n",
    "1. Make 4 plots, one each for the train loss, train accuracy, test loss and test accuracy over the course of training (i.e., the metric on the y-axis and number of effective passes on the x-axis). Plot all 4 lines, one for each value of h on the same plot.\n",
    "2. When the training accuracy is 100%, the model is said to interpolate the training data. What is the smallest width at which we observe perfect interpolation of the training data?\n",
    "3. As we vary the width of the network, at which training epoch do we observe perfect interpolation of the data? That is, make a plot with h on the x-axis and number of passes over the data required for interpolation on the y axis."
   ]
  },
  {
   "cell_type": "code",
   "execution_count": 1,
   "metadata": {},
   "outputs": [],
   "source": [
    "import numpy as np\n",
    "import pandas as pd\n",
    "import torch\n",
    "from torchvision.datasets import FashionMNIST\n",
    "from torch.nn.functional import cross_entropy\n",
    "import time\n",
    "\n",
    "import matplotlib.pyplot as plt \n",
    "%matplotlib inline \n",
    "\n",
    "# Fix the random seeds for reproducibility\n",
    "torch.manual_seed(0)\n",
    "np.random.seed(1)"
   ]
  },
  {
   "attachments": {},
   "cell_type": "markdown",
   "metadata": {},
   "source": [
    "### 1.1 Loading the MNIST dataset\n",
    "\n",
    "We load the MNIST dataset and set up some helper functions to preprocess the data"
   ]
  },
  {
   "cell_type": "code",
   "execution_count": 2,
   "metadata": {},
   "outputs": [
    {
     "name": "stdout",
     "output_type": "stream",
     "text": [
      "X_train.shape = torch.Size([7200, 28, 28])\n",
      "n_train: 7200, n_test: 10000\n",
      "Image size: torch.Size([28, 28])\n"
     ]
    }
   ],
   "source": [
    "# download dataset (~117M in size)\n",
    "train_dataset = FashionMNIST('../../data', train=True, download=False)\n",
    "X_train = train_dataset.data # torch tensor of type uint8 of shape (n, 28, 28)\n",
    "y_train = train_dataset.targets.long() # torch tensor of type Long of shape (n,)\n",
    "test_dataset = FashionMNIST('../../data', train=False, download=False)\n",
    "X_test = test_dataset.data\n",
    "y_test = test_dataset.targets.long()\n",
    "\n",
    "# choose a subsample of 10% of the data:\n",
    "idxs_train = torch.from_numpy(\n",
    "    np.random.choice(X_train.shape[0], replace=False, size=int(X_train.shape[0]*0.12)))\n",
    "X_train, y_train = X_train[idxs_train], y_train[idxs_train]\n",
    "idxs_test = torch.from_numpy(\n",
    "    np.random.choice(X_test.shape[0], replace=False, size=X_test.shape[0]))\n",
    "X_test, y_test = X_test[idxs_test], y_test[idxs_test]\n",
    "\n",
    "print(f'X_train.shape = {X_train.shape}')\n",
    "print(f'n_train: {X_train.shape[0]}, n_test: {X_test.shape[0]}')\n",
    "print(f'Image size: {X_train.shape[1:]}')"
   ]
  },
  {
   "cell_type": "code",
   "execution_count": 3,
   "metadata": {},
   "outputs": [
    {
     "name": "stdout",
     "output_type": "stream",
     "text": [
      "One Row of Pixels: tensor([ 0,  0,  0,  0,  0,  0,  0,  1,  1,  0,  0,  0, 69, 98,  0, 95, 37,  0,\n",
      "         0,  1,  1,  0,  0,  0,  0,  0,  0,  0], dtype=torch.uint8)\n"
     ]
    },
    {
     "data": {
      "image/png": "[encoded data removed]",
      "text/plain": [
       "<Figure size 2000x400 with 5 Axes>"
      ]
     },
     "metadata": {},
     "output_type": "display_data"
    }
   ],
   "source": [
    "f, ax = plt.subplots(1, 5, figsize=(20, 4))\n",
    "for i, idx in enumerate(np.random.choice(X_train.shape[0], 5)):\n",
    "    ax[i].imshow(X_train[idx], cmap='gray', vmin=0, vmax=255)\n",
    "    ax[i].set_title(f'Label = {y_train[idx]}', fontsize=20)\n",
    "# Each number represents the grayscale intensity [0, 255]\n",
    "print(\"One Row of Pixels:\", X_train[0][0])"
   ]
  },
  {
   "cell_type": "markdown",
   "metadata": {},
   "source": [
    "Let us normalize the data and define some utility functions. We start by flattening the $28 \\times 28$ image into a vector of size $784$."
   ]
  },
  {
   "cell_type": "code",
   "execution_count": 4,
   "metadata": {},
   "outputs": [
    {
     "name": "stdout",
     "output_type": "stream",
     "text": [
      "Original Shape: torch.Size([7200, 28, 28])\n",
      "Flatten Shape: torch.Size([7200, 784])\n"
     ]
    }
   ],
   "source": [
    "print(\"Original Shape:\", X_train.shape)\n",
    "X_train = X_train.float()  # convert to float32. Shape: (n, 28, 28)\n",
    "X_train = X_train.view(-1, 784)  # Shape: (n, 784)\n",
    "print(\"Flatten Shape:\", X_train.shape)\n",
    "mean, std = X_train.mean(axis=0), X_train.std(axis=0)  # Shape: (784,)"
   ]
  },
  {
   "cell_type": "code",
   "execution_count": 5,
   "metadata": {},
   "outputs": [
    {
     "name": "stdout",
     "output_type": "stream",
     "text": [
      "Number of Classes:  10\n"
     ]
    }
   ],
   "source": [
    "# Normalize dataset: pixel values lie between 0 and 255\n",
    "# Normalize them so the pixelwise mean is zero and standard deviation is 1\n",
    "# Normalize: add a small number to avoid divide by zero\n",
    "X_train = (X_train - mean[None, :]) / (std[None, :] + 1e-6) # Shape: (n, 784)\n",
    "\n",
    "X_test = X_test.float()  # Shape: (n', 28, 28)\n",
    "X_test = X_test.view(-1, 784)  # Shape: (n', 784)\n",
    "X_test = (X_test - mean[None, :]) / (std[None, :] + 1e-6)  # Shape: (n', 784)\n",
    "\n",
    "n_class = np.unique(y_train).shape[0]  # We have K=10 classes numbered (0, 1, ..., 9)\n",
    "print(\"Number of Classes: \", n_class)\n"
   ]
  },
  {
   "attachments": {},
   "cell_type": "markdown",
   "metadata": {},
   "source": [
    "### 1.2 Setup Code for Multilayer Perceptron"
   ]
  },
  {
   "cell_type": "code",
   "execution_count": 6,
   "metadata": {},
   "outputs": [],
   "source": [
    "# Some utility functions to compute the objective and the accuracy\n",
    "\n",
    "def mlp(X, ws, bs):\n",
    "    hidden = X # Shape: (n, d_0)\n",
    "    for w, b in zip(ws[:-1], bs[:-1]):\n",
    "        # hidden = relu(W_(r<j)x + b_(r<j))\n",
    "        hidden = torch.matmul(hidden, w) + b[None, :]  # Shape: (n, d_{j-1}) * (d_{j-1}, d_j) = (n, d_j)\n",
    "        hidden = torch.nn.functional.relu(hidden)\n",
    "    # return W_j(hidden)+ b_j\n",
    "    return torch.matmul(hidden, ws[-1]) + bs[-1][None, :]\n",
    "\n",
    "def compute_objective(ws, bs, X, y, reg_param):\n",
    "    \"\"\" Compute the multinomial logistic loss. \n",
    "        ws is a list of tensors of consistent shapes,\n",
    "        X of shape (n, d) and y of shape (n,)\n",
    "    \"\"\"\n",
    "    score = mlp(X, ws, bs)  # Shape: (n, K)\n",
    "    # PyTorch's function cross_entropy computes the multinomial logistic loss\n",
    "    # Adding L2 penalization\n",
    "    return (\n",
    "        cross_entropy(input=score, target=y, reduction='mean') \n",
    "        + 0.5 * reg_param * sum([torch.norm(w)**2 for w in ws])\n",
    "    )\n",
    "\n",
    "@torch.no_grad()\n",
    "def compute_accuracy(ws, bs, X, y):\n",
    "    \"\"\" Compute the classification accuracy\n",
    "        ws is a list of tensors of consistent shapes \n",
    "        X of shape (n, d) and y of shape (n,)\n",
    "    \"\"\"\n",
    "    score = mlp(X, ws, bs)  # shape: (n, K`)\n",
    "    predictions = torch.argmax(score, axis=1)  # class with highest score is predicted\n",
    "    return (predictions == y).sum() * 1.0 / y.shape[0]\n",
    "\n",
    "@torch.no_grad()\n",
    "def compute_logs(ws, bs, reg_param, verbose=False):\n",
    "    train_loss = compute_objective(ws, bs, X_train, y_train, reg_param)\n",
    "    test_loss = compute_objective(ws, bs, X_test, y_test, reg_param)\n",
    "    train_accuracy = compute_accuracy(ws, bs, X_train, y_train)\n",
    "    test_accuracy = compute_accuracy(ws, bs, X_test, y_test)\n",
    "    if verbose:\n",
    "        print(('Train Loss = {:.3f}, Train Accuracy = {:.3f}, ' + \n",
    "               'Test Loss = {:.3f}, Test Accuracy = {:.3f}').format(\n",
    "                train_loss.item(), train_accuracy.item(), \n",
    "                test_loss.item(), test_accuracy.item())\n",
    "    )\n",
    "    return (train_loss, train_accuracy, test_loss, test_accuracy)"
   ]
  },
  {
   "cell_type": "markdown",
   "metadata": {},
   "source": [
    "Let us again write the analogous function to make a pass of SGD."
   ]
  },
  {
   "cell_type": "code",
   "execution_count": 7,
   "metadata": {},
   "outputs": [],
   "source": [
    "def sgd_one_pass(ws, bs, X, y, reg_param, learning_rate, verbose=False):\n",
    "    num_examples = X.shape[0]\n",
    "    average_loss = 0.0\n",
    "    for i in range(num_examples):\n",
    "        idx = np.random.choice(X.shape[0])\n",
    "        # compute the objective. \n",
    "        # Note: This function requires X to be of shape (n,d). In this case, n=1 \n",
    "        objective = compute_objective(ws, bs, X[idx:idx+1], y[idx:idx+1], reg_param)\n",
    "  \n",
    "        average_loss = 0.99 * average_loss + 0.01 * objective.item()\n",
    "        if verbose and (i+1) % 100 == 0:\n",
    "            print(average_loss)\n",
    "        \n",
    "        # compute the gradient using automatic differentiation\n",
    "        all_parameters = [*ws, *bs]\n",
    "        gradients = torch.autograd.grad(outputs=objective, inputs=all_parameters)\n",
    "        \n",
    "        # perform SGD update. IMPORTANT: Make the update inplace!\n",
    "        with torch.no_grad():\n",
    "            for (var, g) in zip(all_parameters, gradients):\n",
    "                var -= learning_rate * g\n",
    "    return ws, bs"
   ]
  },
  {
   "attachments": {},
   "cell_type": "markdown",
   "metadata": {},
   "source": [
    "### 1.3 Finding divergent learning rate"
   ]
  },
  {
   "attachments": {},
   "cell_type": "markdown",
   "metadata": {},
   "source": [
    "As we change the learning rate, there are two extreme regimes:\n",
    "\n",
    "- If the learning rate is too large, the weights diverge to infinity (that is, the coordinates of $w$ increase without bound to $\\pm\\infty$).\n",
    "- On the other hand, if the learning rate is too small, the optimization takes a very large number of iterations to converge (the per iteration cost is quite high for complex model). \n",
    "\n",
    "In order to balance these two, we look for the *divergent learning rate*. We say $\\eta^\\star$ is the divergent learning rate if SGD with a learning rate of $2\\eta^\\star$ diverges, but SGD with a learning rate of $\\eta^\\star$ does not. \n",
    "\n",
    "**Divergent LR Heuristic**: A good starting learning rate is $\\eta^\\star/2$. "
   ]
  },
  {
   "cell_type": "markdown",
   "metadata": {},
   "source": [
    "Find the divergent learning rate. Edit the code below to change the learning rate. \n",
    "\n",
    "*Hint 1*: Try different orders of magnitude. For instance, start with 1e-2. If it diverges, try 1e-6, if not, try 10.0. Once we establish a lower and upper bound on it, finding the divergent learning rate comes down to a binary search (on a logarithmic scale). \n",
    "\n",
    "*Hint 2*: A common strategy is to search in powers of 10 (as in hint 1), and then narrow the search down in powers of 2. For instance, if we end up with 1e-3 as an estimate of the divergent learning from hint 1, try out 2e-3 and 4e-3 as well in order to refine the estimate of the divergent learning rate. \n",
    "\n",
    "**Note**: the divergent learning rate is a heuristic which gives the right ballpark figure of the learning rate. \n",
    "A learning rate that satisfies the heuristic might still result in the loss diverging, in which case we would have redo the process with half that learning rate."
   ]
  },
  {
   "cell_type": "code",
   "execution_count": 8,
   "metadata": {
    "scrolled": true
   },
   "outputs": [
    {
     "name": "stdout",
     "output_type": "stream",
     "text": [
      "Train Loss = 2.303, Train Accuracy = 0.083, Test Loss = 2.303, Test Accuracy = 0.081\n",
      "1.4602855443442406\n",
      "1.9914672689465307\n",
      "2.190249587064884\n",
      "2.2543304791256853\n",
      "2.2815595363116805\n",
      "2.268722927783318\n",
      "2.0477432164231826\n",
      "1.8871491136353395\n",
      "1.7258144618411517\n",
      "1.4211583909763912\n",
      "1.3216764810278707\n",
      "1.1953618297129833\n",
      "1.1780433892492583\n",
      "1.2165141571048008\n",
      "1.2429606947069363\n",
      "1.0701868445613216\n",
      "0.9928330581930458\n",
      "1.0052379314686888\n",
      "0.9065293018627636\n",
      "0.9522599300567698\n",
      "0.9371706918958739\n",
      "0.8844464047107415\n",
      "0.8186165748104676\n",
      "0.8131910642676007\n",
      "0.8910933124048723\n",
      "0.8200543628503526\n",
      "0.9334232478382668\n",
      "0.7642089777075686\n",
      "0.650189653181696\n",
      "0.6489457886698646\n",
      "0.7759334043294583\n",
      "0.7804062333521101\n",
      "0.9015311581392766\n",
      "0.8129594256155092\n",
      "0.8368987538751619\n",
      "0.6919538223494238\n",
      "0.7223510477588927\n",
      "0.6676960985486641\n",
      "0.6605225315076836\n",
      "0.7412658207629533\n",
      "0.8203499294539082\n",
      "0.7624322808985978\n",
      "0.7810924214862878\n",
      "0.6893410518388317\n",
      "0.6973349653142915\n",
      "0.6238743659006077\n",
      "0.6435956339308255\n",
      "0.633609955069441\n",
      "0.8002047081346144\n",
      "0.755556123095075\n",
      "0.5969362112088401\n",
      "0.5658492787839247\n",
      "0.5909313073362173\n",
      "0.6712739861581054\n",
      "0.7109988064693719\n",
      "0.6685898460763496\n",
      "0.7099173359528407\n",
      "0.639970397406344\n",
      "0.5937950771711328\n",
      "0.5130658735496751\n",
      "0.4953790882396444\n",
      "0.66833910657603\n",
      "0.7533657263543933\n",
      "0.5234708547870955\n",
      "0.6130652360085569\n",
      "0.6659628303003039\n",
      "0.6722318569255501\n",
      "0.6409586049258713\n",
      "0.6373700019075005\n",
      "0.5688513994205417\n",
      "0.7498187797506184\n",
      "0.642787887548577\n",
      "Train Loss = 0.671, Train Accuracy = 0.733, Test Loss = 0.771, Test Accuracy = 0.711\n"
     ]
    }
   ],
   "source": [
    "torch.manual_seed(0)\n",
    "np.random.seed(1)\n",
    "reg_param = 0.0\n",
    "\n",
    "learning_rate = 1e-2\n",
    "\n",
    "hidden_size = 16 # Specifying hidden layer size as required by the assignment\n",
    "ws = [1e-6 * torch.randn(784, hidden_size, requires_grad=True),\n",
    "      1e-6 * torch.randn(hidden_size, n_class, requires_grad=True)]\n",
    "bs = [torch.zeros(hidden_size, requires_grad=True),\n",
    "      torch.zeros(n_class, requires_grad=True)]\n",
    "\n",
    "_ = compute_logs(ws, bs, reg_param, verbose=True)\n",
    "\n",
    "\n",
    "ws, bs = sgd_one_pass(ws, bs, X_train, y_train, reg_param, learning_rate, verbose=True)\n",
    "_ = compute_logs(ws, bs, reg_param, verbose=True)\n"
   ]
  },
  {
   "cell_type": "code",
   "execution_count": 9,
   "metadata": {},
   "outputs": [
    {
     "name": "stdout",
     "output_type": "stream",
     "text": [
      "Train Loss = 2.303, Train Accuracy = 0.083, Test Loss = 2.303, Test Accuracy = 0.081\n",
      "1.46107600713891\n",
      "1.9903788106504632\n",
      "2.1612076340990174\n",
      "1.9793689601488735\n",
      "1.7811635875949923\n",
      "1.5341314154628456\n",
      "1.4288282150399647\n",
      "1.412291846771766\n",
      "1.4106128901755381\n",
      "1.1217416641903128\n",
      "1.2703717094377363\n",
      "1.1799129702774596\n",
      "1.3621871539763537\n",
      "1.6740801074301304\n",
      "1.4542208034664188\n",
      "1.1532732592158481\n",
      "1.0485062337958628\n",
      "1.2559974061789503\n",
      "1.2824544304436545\n",
      "1.3945337291726343\n",
      "1.4107607037666101\n",
      "1.3300449729007322\n",
      "0.9975905290909645\n",
      "0.8951120629321635\n",
      "1.0454754343215547\n",
      "1.1647457756272408\n",
      "1.4036739032697207\n",
      "1.0555314466596313\n",
      "1.1789548197238717\n",
      "0.9281729026506668\n",
      "1.3315724068343913\n",
      "1.5850403038775536\n",
      "1.9947450036530174\n",
      "1.8620281309683102\n",
      "1.7296919596206553\n",
      "1.4583310664808136\n",
      "1.3468045906955213\n",
      "1.2060831757322303\n",
      "1.4546425622405261\n",
      "1.5589335158620128\n",
      "1.7397043393621117\n",
      "1.7013752774986235\n",
      "3.0924652363484966\n",
      "2.476016932195362\n",
      "2.1601350411275555\n",
      "2.4111813762807186\n",
      "2.339921457806841\n",
      "2.102219867115858\n",
      "2.4719179254424244\n",
      "2.150868589662649\n",
      "1.7561205382123706\n",
      "1.9294680310044408\n",
      "2.150975084080452\n",
      "2.7943645596333724\n",
      "2.883261322319477\n",
      "2.4629320557790577\n",
      "2.545210042577001\n",
      "2.3635181545705\n",
      "1.7437778179350607\n",
      "1.2638710950583811\n",
      "1.3131687119599011\n",
      "2.1009874078271196\n",
      "2.2185395290492287\n",
      "1.604422349191954\n",
      "2.308956091799301\n",
      "2.4592823300571363\n",
      "2.5758821191424004\n",
      "2.1162605321879187\n",
      "2.5574454924476377\n",
      "2.6318039339728094\n",
      "2.6172578215363824\n",
      "2.7741527894550178\n",
      "Train Loss = 2.745, Train Accuracy = 0.608, Test Loss = 2.939, Test Accuracy = 0.599\n"
     ]
    }
   ],
   "source": [
    "# We find that 1e-2 is a good candidate for the divergent learning rate. We show this by running the code with 2*1e-2\n",
    "\n",
    "torch.manual_seed(0)\n",
    "np.random.seed(1)\n",
    "reg_param = 0.0\n",
    "\n",
    "learning_rate = 2e-2\n",
    "\n",
    "hidden_size = 16 # Specifying hidden layer size as required by the assignment\n",
    "ws = [1e-6 * torch.randn(784, hidden_size, requires_grad=True),\n",
    "      1e-6 * torch.randn(hidden_size, n_class, requires_grad=True)]\n",
    "bs = [torch.zeros(hidden_size, requires_grad=True),\n",
    "      torch.zeros(n_class, requires_grad=True)]\n",
    "\n",
    "_ = compute_logs(ws, bs, reg_param, verbose=True)\n",
    "\n",
    "\n",
    "ws, bs = sgd_one_pass(ws, bs, X_train, y_train, reg_param, learning_rate, verbose=True)\n",
    "_ = compute_logs(ws, bs, reg_param, verbose=True)"
   ]
  },
  {
   "attachments": {},
   "cell_type": "markdown",
   "metadata": {},
   "source": [
    "We see that the loss diverges with 2e-2. So 1e-2 is a good candidate for the divergent learning rate ($\\eta^\\star$). We will use 5e-3 as the learning rate ($\\eta^\\star/2$)"
   ]
  },
  {
   "attachments": {},
   "cell_type": "markdown",
   "metadata": {},
   "source": [
    "### 1.4 Train the model for 120 passes over the training data for h=16"
   ]
  },
  {
   "cell_type": "code",
   "execution_count": 12,
   "metadata": {
    "scrolled": true
   },
   "outputs": [],
   "source": [
    "divergent_learning_rate = 5e-3\n",
    "\n",
    "def train_model(learning_rate=divergent_learning_rate, hidden_size=16):\n",
    "\n",
    "      logs = []\n",
    "\n",
    "      ws = [1e-6 * torch.randn(784, hidden_size, requires_grad=True),\n",
    "            1e-6 * torch.randn(hidden_size, n_class, requires_grad=True)]\n",
    "      bs = [torch.zeros(hidden_size, requires_grad=True),\n",
    "            torch.zeros(n_class, requires_grad=True)]\n",
    "      logs.append(compute_logs(ws, bs, reg_param, verbose=True))\n",
    "\n",
    "      for j in range(120):\n",
    "            ws, bs = sgd_one_pass(ws, bs, X_train, y_train, reg_param, learning_rate, verbose=False)\n",
    "            logs.append(compute_logs(ws, bs, reg_param, verbose=False))\n",
    "\n",
    "      logs = np.asarray(logs)\n",
    "      logs = np.hstack((np.ones((logs.shape[0], 1))*hidden_size, logs))\n",
    "\n",
    "      return logs\n"
   ]
  },
  {
   "cell_type": "code",
   "execution_count": 13,
   "metadata": {},
   "outputs": [
    {
     "name": "stdout",
     "output_type": "stream",
     "text": [
      "Train Loss = 2.303, Train Accuracy = 0.113, Test Loss = 2.303, Test Accuracy = 0.110\n"
     ]
    }
   ],
   "source": [
    "df_cols = ['hidden_size', 'train_loss', 'train_accuracy', 'test_loss', 'test_accuracy']\n",
    "results_16 = pd.DataFrame(columns=df_cols, data=train_model())"
   ]
  },
  {
   "attachments": {},
   "cell_type": "markdown",
   "metadata": {},
   "source": [
    "### 1.5 Repeat for different values of hidden layer size"
   ]
  },
  {
   "attachments": {},
   "cell_type": "markdown",
   "metadata": {},
   "source": [
    "#### 1.5.1 h=8"
   ]
  },
  {
   "cell_type": "code",
   "execution_count": 14,
   "metadata": {},
   "outputs": [
    {
     "name": "stdout",
     "output_type": "stream",
     "text": [
      "Train Loss = 2.303, Train Accuracy = 0.143, Test Loss = 2.303, Test Accuracy = 0.144\n"
     ]
    }
   ],
   "source": [
    "results_8 = pd.DataFrame(columns=df_cols, data=train_model(hidden_size=8))"
   ]
  },
  {
   "attachments": {},
   "cell_type": "markdown",
   "metadata": {},
   "source": [
    "#### 1.5.2 h=32"
   ]
  },
  {
   "cell_type": "code",
   "execution_count": 15,
   "metadata": {},
   "outputs": [
    {
     "name": "stdout",
     "output_type": "stream",
     "text": [
      "Train Loss = 2.303, Train Accuracy = 0.114, Test Loss = 2.303, Test Accuracy = 0.112\n"
     ]
    }
   ],
   "source": [
    "results_32  = pd.DataFrame(columns=df_cols, data=train_model(hidden_size=32))"
   ]
  },
  {
   "attachments": {},
   "cell_type": "markdown",
   "metadata": {},
   "source": [
    "#### 1.5.3 h=128"
   ]
  },
  {
   "cell_type": "code",
   "execution_count": 16,
   "metadata": {},
   "outputs": [
    {
     "name": "stdout",
     "output_type": "stream",
     "text": [
      "Train Loss = 2.303, Train Accuracy = 0.137, Test Loss = 2.303, Test Accuracy = 0.135\n"
     ]
    }
   ],
   "source": [
    "results_128 = pd.DataFrame(columns=df_cols, data=train_model(hidden_size=128))"
   ]
  },
  {
   "attachments": {},
   "cell_type": "markdown",
   "metadata": {},
   "source": [
    "#### 1.5.4 h=512"
   ]
  },
  {
   "cell_type": "code",
   "execution_count": 17,
   "metadata": {},
   "outputs": [
    {
     "name": "stdout",
     "output_type": "stream",
     "text": [
      "Train Loss = 2.303, Train Accuracy = 0.079, Test Loss = 2.303, Test Accuracy = 0.071\n"
     ]
    }
   ],
   "source": [
    "results_512 = pd.DataFrame(columns=df_cols, data=train_model(hidden_size=512))"
   ]
  },
  {
   "attachments": {},
   "cell_type": "markdown",
   "metadata": {},
   "source": [
    "### 1.6 Assignment Deliverables"
   ]
  },
  {
   "cell_type": "code",
   "execution_count": 18,
   "metadata": {},
   "outputs": [],
   "source": [
    "# Appending results to a single dataframe\n",
    "results = pd.concat([results_16, results_8, results_32, results_128, results_512], axis=0)"
   ]
  },
  {
   "cell_type": "code",
   "execution_count": 19,
   "metadata": {},
   "outputs": [],
   "source": [
    "# Find first occurernce of train_accuracy = 1.0 for each hidden size\n",
    "results['iter'] = results.index+1"
   ]
  },
  {
   "cell_type": "code",
   "execution_count": 20,
   "metadata": {},
   "outputs": [],
   "source": [
    "# Write to csv\n",
    "results.to_csv('results.csv', index=False)"
   ]
  },
  {
   "attachments": {},
   "cell_type": "markdown",
   "metadata": {},
   "source": [
    "#### 1.6.1 Make 4 plots, one each for the train loss, train accuracy, test loss and test accuracy over the course of training (i.e., the metric on the y-axis and number of effective passes on the x-axis). Plot all 4 lines, one for each value of h on the same plot."
   ]
  },
  {
   "attachments": {},
   "cell_type": "markdown",
   "metadata": {},
   "source": [
    "#### 1.6.2. When the training accuracy is 100%, the model is said to interpolate the training data. What is the smallest width at which we observe perfect interpolation of the training data?"
   ]
  },
  {
   "attachments": {},
   "cell_type": "markdown",
   "metadata": {},
   "source": [
    "#### 1.6.3. As we vary the width of the network, at which training epoch do we observe perfect interpolation of the data? That is, make a plot with h on the x-axis and number of passes over the data required for interpolation on the y axis."
   ]
  }
 ],
 "metadata": {
  "kernelspec": {
   "display_name": "data598",
   "language": "python",
   "name": "python3"
  },
  "language_info": {
   "codemirror_mode": {
    "name": "ipython",
    "version": 3
   },
   "file_extension": ".py",
   "mimetype": "text/x-python",
   "name": "python",
   "nbconvert_exporter": "python",
   "pygments_lexer": "ipython3",
   "version": "3.8.15"
  },
  "orig_nbformat": 4,
  "vscode": {
   "interpreter": {
    "hash": "86858d5f84902b050d54a6bd9c0fb878f86a1dbd7a1ae5d42a558ee921f88707"
   }
  }
 },
 "nbformat": 4,
 "nbformat_minor": 2
}
