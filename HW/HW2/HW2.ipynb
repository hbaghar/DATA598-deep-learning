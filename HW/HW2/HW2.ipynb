{
 "cells": [
  {
   "attachments": {},
   "cell_type": "markdown",
   "metadata": {},
   "source": [
    "# Homework 2: Multiple Layer Perceptron"
   ]
  },
  {
   "attachments": {},
   "cell_type": "markdown",
   "metadata": {},
   "source": [
    "## 1. Performance vs. Width\n",
    "\n",
    "In this exercise, we will experiment with the number of hidden units in a multilayer perceptron (MLP) with a single hidden layer. The number of hidden units is also referred to the width of the hidden layer.\n",
    "\n",
    "Here are the details:\n",
    "- The setup is identical to the demo/lab and you may reuse that code. Take the FashionMNIST dataset and randomly subsample 12% of its training set to work with. As a test set, we will use the full test set of FashionMNIST.\n",
    "- Define a MLP with one hidden layer of width h = 16. Find the divergent learning rate η∗ for this model and use a fixed learning rate of η∗/2, as we discussed in class.\n",
    "- Train the model for 120 passes over the data.\n",
    "- Repeat this procedure for widths h = 8, 32, 128, 512 with the same learning rate η∗/2 as above (i.e., you do not need to find the divergent learning rate of each model for this exercise).\n"
   ]
  },
  {
   "cell_type": "code",
   "execution_count": 1,
   "metadata": {},
   "outputs": [],
   "source": [
    "import numpy as np\n",
    "import torch\n",
    "from torchvision.datasets import FashionMNIST\n",
    "from torch.nn.functional import cross_entropy\n",
    "import time\n",
    "\n",
    "import matplotlib.pyplot as plt \n",
    "%matplotlib inline \n",
    "\n",
    "# Fix the random seeds for reproducibility\n",
    "torch.manual_seed(0)\n",
    "np.random.seed(1)"
   ]
  },
  {
   "attachments": {},
   "cell_type": "markdown",
   "metadata": {},
   "source": [
    "### 1.1 Loading the MNIST dataset\n",
    "\n",
    "We load the MNIST dataset and set up some helper functions to preprocess the data"
   ]
  },
  {
   "cell_type": "code",
   "execution_count": 2,
   "metadata": {},
   "outputs": [
    {
     "name": "stdout",
     "output_type": "stream",
     "text": [
      "X_train.shape = torch.Size([7200, 28, 28])\n",
      "n_train: 7200, n_test: 10000\n",
      "Image size: torch.Size([28, 28])\n"
     ]
    }
   ],
   "source": [
    "# download dataset (~117M in size)\n",
    "train_dataset = FashionMNIST('../../data', train=True, download=False)\n",
    "X_train = train_dataset.data # torch tensor of type uint8 of shape (n, 28, 28)\n",
    "y_train = train_dataset.targets.long() # torch tensor of type Long of shape (n,)\n",
    "test_dataset = FashionMNIST('../../data', train=False, download=False)\n",
    "X_test = test_dataset.data\n",
    "y_test = test_dataset.targets.long()\n",
    "\n",
    "# choose a subsample of 10% of the data:\n",
    "idxs_train = torch.from_numpy(\n",
    "    np.random.choice(X_train.shape[0], replace=False, size=int(X_train.shape[0]*0.12)))\n",
    "X_train, y_train = X_train[idxs_train], y_train[idxs_train]\n",
    "idxs_test = torch.from_numpy(\n",
    "    np.random.choice(X_test.shape[0], replace=False, size=X_test.shape[0]))\n",
    "X_test, y_test = X_test[idxs_test], y_test[idxs_test]\n",
    "\n",
    "print(f'X_train.shape = {X_train.shape}')\n",
    "print(f'n_train: {X_train.shape[0]}, n_test: {X_test.shape[0]}')\n",
    "print(f'Image size: {X_train.shape[1:]}')"
   ]
  },
  {
   "cell_type": "code",
   "execution_count": 3,
   "metadata": {},
   "outputs": [
    {
     "name": "stdout",
     "output_type": "stream",
     "text": [
      "One Row of Pixels: tensor([ 0,  0,  0,  0,  0,  0,  0,  1,  1,  0,  0,  0, 69, 98,  0, 95, 37,  0,\n",
      "         0,  1,  1,  0,  0,  0,  0,  0,  0,  0], dtype=torch.uint8)\n"
     ]
    },
    {
     "data": {
      "image/png": "[encoded data removed]",
      "text/plain": [
       "<Figure size 2000x400 with 5 Axes>"
      ]
     },
     "metadata": {},
     "output_type": "display_data"
    }
   ],
   "source": [
    "f, ax = plt.subplots(1, 5, figsize=(20, 4))\n",
    "for i, idx in enumerate(np.random.choice(X_train.shape[0], 5)):\n",
    "    ax[i].imshow(X_train[idx], cmap='gray', vmin=0, vmax=255)\n",
    "    ax[i].set_title(f'Label = {y_train[idx]}', fontsize=20)\n",
    "# Each number represents the grayscale intensity [0, 255]\n",
    "print(\"One Row of Pixels:\", X_train[0][0])"
   ]
  },
  {
   "cell_type": "markdown",
   "metadata": {},
   "source": [
    "Let us normalize the data and define some utility functions. We start by flattening the $28 \\times 28$ image into a vector of size $784$."
   ]
  },
  {
   "cell_type": "code",
   "execution_count": 4,
   "metadata": {},
   "outputs": [
    {
     "name": "stdout",
     "output_type": "stream",
     "text": [
      "Original Shape: torch.Size([7200, 28, 28])\n",
      "Flatten Shape: torch.Size([7200, 784])\n"
     ]
    }
   ],
   "source": [
    "print(\"Original Shape:\", X_train.shape)\n",
    "X_train = X_train.float()  # convert to float32. Shape: (n, 28, 28)\n",
    "X_train = X_train.view(-1, 784)  # Shape: (n, 784)\n",
    "print(\"Flatten Shape:\", X_train.shape)\n",
    "mean, std = X_train.mean(axis=0), X_train.std(axis=0)  # Shape: (784,)"
   ]
  },
  {
   "cell_type": "code",
   "execution_count": 5,
   "metadata": {},
   "outputs": [
    {
     "name": "stdout",
     "output_type": "stream",
     "text": [
      "Number of Classes:  10\n"
     ]
    }
   ],
   "source": [
    "# Normalize dataset: pixel values lie between 0 and 255\n",
    "# Normalize them so the pixelwise mean is zero and standard deviation is 1\n",
    "# Normalize: add a small number to avoid divide by zero\n",
    "X_train = (X_train - mean[None, :]) / (std[None, :] + 1e-6) # Shape: (n, 784)\n",
    "\n",
    "X_test = X_test.float()  # Shape: (n', 28, 28)\n",
    "X_test = X_test.view(-1, 784)  # Shape: (n', 784)\n",
    "X_test = (X_test - mean[None, :]) / (std[None, :] + 1e-6)  # Shape: (n', 784)\n",
    "\n",
    "n_class = np.unique(y_train).shape[0]  # We have K=10 classes numbered (0, 1, ..., 9)\n",
    "print(\"Number of Classes: \", n_class)\n"
   ]
  },
  {
   "attachments": {},
   "cell_type": "markdown",
   "metadata": {},
   "source": [
    "## 1.2 Setup Code for Multilayer Perceptron"
   ]
  },
  {
   "cell_type": "code",
   "execution_count": 6,
   "metadata": {},
   "outputs": [],
   "source": [
    "# Some utility functions to compute the objective and the accuracy\n",
    "\n",
    "def mlp(X, ws, bs):\n",
    "    hidden = X # Shape: (n, d_0)\n",
    "    for w, b in zip(ws[:-1], bs[:-1]):\n",
    "        # hidden = relu(W_(r<j)x + b_(r<j))\n",
    "        hidden = torch.matmul(hidden, w) + b[None, :]  # Shape: (n, d_{j-1}) * (d_{j-1}, d_j) = (n, d_j)\n",
    "        hidden = torch.nn.functional.relu(hidden)\n",
    "    # return W_j(hidden)+ b_j\n",
    "    return torch.matmul(hidden, ws[-1]) + bs[-1][None, :]\n",
    "\n",
    "def compute_objective(ws, bs, X, y, reg_param):\n",
    "    \"\"\" Compute the multinomial logistic loss. \n",
    "        ws is a list of tensors of consistent shapes,\n",
    "        X of shape (n, d) and y of shape (n,)\n",
    "    \"\"\"\n",
    "    score = mlp(X, ws, bs)  # Shape: (n, K)\n",
    "    # PyTorch's function cross_entropy computes the multinomial logistic loss\n",
    "    # Adding L2 penalization\n",
    "    return (\n",
    "        cross_entropy(input=score, target=y, reduction='mean') \n",
    "        + 0.5 * reg_param * sum([torch.norm(w)**2 for w in ws])\n",
    "    )\n",
    "\n",
    "@torch.no_grad()\n",
    "def compute_accuracy(ws, bs, X, y):\n",
    "    \"\"\" Compute the classification accuracy\n",
    "        ws is a list of tensors of consistent shapes \n",
    "        X of shape (n, d) and y of shape (n,)\n",
    "    \"\"\"\n",
    "    score = mlp(X, ws, bs)  # shape: (n, K`)\n",
    "    predictions = torch.argmax(score, axis=1)  # class with highest score is predicted\n",
    "    return (predictions == y).sum() * 1.0 / y.shape[0]\n",
    "\n",
    "@torch.no_grad()\n",
    "def compute_logs(ws, bs, reg_param, verbose=False):\n",
    "    train_loss = compute_objective(ws, bs, X_train, y_train, reg_param)\n",
    "    test_loss = compute_objective(ws, bs, X_test, y_test, reg_param)\n",
    "    train_accuracy = compute_accuracy(ws, bs, X_train, y_train)\n",
    "    test_accuracy = compute_accuracy(ws, bs, X_test, y_test)\n",
    "    if verbose:\n",
    "        print(('Train Loss = {:.3f}, Train Accuracy = {:.3f}, ' + \n",
    "               'Test Loss = {:.3f}, Test Accuracy = {:.3f}').format(\n",
    "                train_loss.item(), train_accuracy.item(), \n",
    "                test_loss.item(), test_accuracy.item())\n",
    "    )\n",
    "    return (train_loss, train_accuracy, test_loss, test_accuracy)"
   ]
  },
  {
   "cell_type": "markdown",
   "metadata": {},
   "source": [
    "Let us again write the analogous function to make a pass of SGD."
   ]
  },
  {
   "cell_type": "code",
   "execution_count": 7,
   "metadata": {},
   "outputs": [],
   "source": [
    "def sgd_one_pass(ws, bs, X, y, reg_param, learning_rate, verbose=False):\n",
    "    num_examples = X.shape[0]\n",
    "    average_loss = 0.0\n",
    "    for i in range(num_examples):\n",
    "        idx = np.random.choice(X.shape[0])\n",
    "        # compute the objective. \n",
    "        # Note: This function requires X to be of shape (n,d). In this case, n=1 \n",
    "        objective = compute_objective(ws, bs, X[idx:idx+1], y[idx:idx+1], reg_param)\n",
    "  \n",
    "        average_loss = 0.99 * average_loss + 0.01 * objective.item()\n",
    "        if verbose and (i+1) % 100 == 0:\n",
    "            print(average_loss)\n",
    "        \n",
    "        # compute the gradient using automatic differentiation\n",
    "        all_parameters = [*ws, *bs]\n",
    "        gradients = torch.autograd.grad(outputs=objective, inputs=all_parameters)\n",
    "        \n",
    "        # perform SGD update. IMPORTANT: Make the update inplace!\n",
    "        with torch.no_grad():\n",
    "            for (var, g) in zip(all_parameters, gradients):\n",
    "                var -= learning_rate * g\n",
    "    return ws, bs"
   ]
  },
  {
   "attachments": {},
   "cell_type": "markdown",
   "metadata": {},
   "source": [
    "### Finding divergent learning rate"
   ]
  },
  {
   "cell_type": "markdown",
   "metadata": {},
   "source": [
    "Next, we find the divergence learning rate. The procedure to find the divergent learning is the same as previously.\n",
    "\n",
    "The one difference, however, is that *initializing the weights at zero will no longer work*.\n",
    "This is because the gradient at $w = 0$ is exactly zero. (Exercise: work this out!)\n",
    "\n",
    "For now, we shall initialize the weights randomly with a small weight. We shall come back to how to initialize the weights."
   ]
  },
  {
   "cell_type": "code",
   "execution_count": 8,
   "metadata": {
    "scrolled": true
   },
   "outputs": [
    {
     "name": "stdout",
     "output_type": "stream",
     "text": [
      "Train Loss = 2.303, Train Accuracy = 0.083, Test Loss = 2.303, Test Accuracy = 0.081\n",
      "1.4593142600905884\n",
      "1.9949142218871925\n",
      "2.188067020354505\n",
      "2.2588099879561176\n",
      "2.290611946372038\n",
      "2.29784252850576\n",
      "2.298251459628843\n",
      "2.3022689114689694\n",
      "2.3013212246555512\n",
      "2.3013366243676185\n",
      "2.273641095309765\n",
      "2.2023990619780016\n",
      "2.1052251461814793\n",
      "1.9964394992101289\n",
      "1.8113888867909969\n",
      "1.7110635497795577\n",
      "1.5537666915471835\n",
      "1.515839637021591\n",
      "1.4008447646453017\n",
      "1.3048771435893178\n",
      "1.2129712166297217\n",
      "1.208677220414481\n",
      "1.1924148641706331\n",
      "1.109098700237786\n",
      "1.046789134773034\n",
      "1.0422357532297868\n",
      "1.0553602352584353\n",
      "1.0166973874568466\n",
      "0.9415350292287106\n",
      "0.8873618077357698\n",
      "0.8667913225738217\n",
      "0.8574689866704245\n",
      "0.9122643184625764\n",
      "0.9592756108671847\n",
      "0.8002219425188856\n",
      "0.7543871703638302\n",
      "0.7015963619207822\n",
      "0.6940636688420437\n",
      "0.7570049385452527\n",
      "0.6979633008625136\n",
      "0.7850056933312417\n",
      "0.731782277495419\n",
      "0.7702286937201989\n",
      "0.6414480255687051\n",
      "0.7308996819251501\n",
      "0.7082830437137063\n",
      "0.6955889525400134\n",
      "0.6384277574972598\n",
      "0.6880374114921065\n",
      "0.5517258818891749\n",
      "0.7120681878440923\n",
      "0.6610140673326961\n",
      "0.7292134555836706\n",
      "0.5896283548304291\n",
      "0.5610030954686253\n",
      "0.6359506228986085\n",
      "0.5737673478477281\n",
      "0.6180557084256635\n",
      "0.5935946535992819\n",
      "0.5881775666175962\n",
      "0.5350389687640629\n",
      "0.5070294980932453\n",
      "0.6331328059223679\n",
      "0.6068051104911794\n",
      "0.5418412500825228\n",
      "0.6121665125993357\n",
      "0.6584530532802195\n",
      "0.5192699303762519\n",
      "0.5903157911359224\n",
      "0.47648202164821946\n",
      "0.5494387921325923\n",
      "0.612998071452489\n",
      "Train Loss = 0.586, Train Accuracy = 0.774, Test Loss = 0.640, Test Accuracy = 0.758\n"
     ]
    }
   ],
   "source": [
    "# Try .1 .01 .005\n",
    "learning_rate = 0.005\n",
    "reg_param = 0.0\n",
    "\n",
    "hidden_size = 16 # Specifying hidden layer size as required by the assignment\n",
    "ws = [1e-6 * torch.randn(784, hidden_size, requires_grad=True),\n",
    "      1e-6 * torch.randn(hidden_size, n_class, requires_grad=True)]\n",
    "bs = [torch.zeros(hidden_size, requires_grad=True),\n",
    "      torch.zeros(n_class, requires_grad=True)]\n",
    "\n",
    "_ = compute_logs(ws, bs, reg_param, verbose=True)\n",
    "\n",
    "\n",
    "ws, bs = sgd_one_pass(ws, bs, X_train, y_train, reg_param, learning_rate, verbose=True)\n",
    "_ = compute_logs(ws, bs, reg_param, verbose=True)\n"
   ]
  },
  {
   "cell_type": "code",
   "execution_count": 9,
   "metadata": {
    "scrolled": true
   },
   "outputs": [],
   "source": [
    "divergent_learning_rate = 5e-3\n",
    "\n",
    "def train_model(learning_rate=divergent_learning_rate, hidden_size=16):\n",
    "\n",
    "      logs = []\n",
    "\n",
    "      ws = [1e-6 * torch.randn(784, hidden_size, requires_grad=True),\n",
    "            1e-6 * torch.randn(hidden_size, n_class, requires_grad=True)]\n",
    "      bs = [torch.zeros(hidden_size, requires_grad=True),\n",
    "            torch.zeros(n_class, requires_grad=True)]\n",
    "      logs.append(compute_logs(ws, bs, reg_param, verbose=True))\n",
    "\n",
    "      for j in range(10):\n",
    "            print(j+1, end=', ')\n",
    "            ws, bs = sgd_one_pass(ws, bs, X_train, y_train, reg_param, learning_rate, verbose=False)\n",
    "            logs.append(compute_logs(ws, bs, reg_param, verbose=True))\n",
    "\n",
    "      logs = np.asarray(logs)\n",
    "\n",
    "      f, ax = plt.subplots(1, 2, figsize=(10, 4))\n",
    "      ax[0].plot(logs[:, 0], label='Train')\n",
    "      ax[0].plot(logs[:, 2], label='Test')\n",
    "      ax[0].set_title('Loss', fontsize=18)\n",
    "      ax[0].set_xlabel('#Passes', fontsize=18)\n",
    "\n",
    "      ax[1].plot(logs[:, 1], label='Train')\n",
    "      ax[1].plot(logs[:, 3], label='Test')\n",
    "      ax[1].set_title('Accuracy', fontsize=18)\n",
    "      ax[1].set_xlabel('#Passes', fontsize=18)\n",
    "\n",
    "      ax[0].legend(fontsize=18)\n"
   ]
  },
  {
   "cell_type": "code",
   "execution_count": 10,
   "metadata": {},
   "outputs": [
    {
     "name": "stdout",
     "output_type": "stream",
     "text": [
      "Train Loss = 2.303, Train Accuracy = 0.098, Test Loss = 2.303, Test Accuracy = 0.096\n",
      "1, Train Loss = 0.566, Train Accuracy = 0.799, Test Loss = 0.625, Test Accuracy = 0.775\n",
      "2, Train Loss = 0.436, Train Accuracy = 0.844, Test Loss = 0.551, Test Accuracy = 0.814\n",
      "3, Train Loss = 0.450, Train Accuracy = 0.834, Test Loss = 0.595, Test Accuracy = 0.796\n",
      "4, Train Loss = 0.369, Train Accuracy = 0.869, Test Loss = 0.569, Test Accuracy = 0.819\n",
      "5, Train Loss = 0.334, Train Accuracy = 0.881, Test Loss = 0.571, Test Accuracy = 0.818\n",
      "6, Train Loss = 0.339, Train Accuracy = 0.874, Test Loss = 0.581, Test Accuracy = 0.814\n",
      "7, Train Loss = 0.345, Train Accuracy = 0.874, Test Loss = 0.610, Test Accuracy = 0.807\n",
      "8, Train Loss = 0.285, Train Accuracy = 0.899, Test Loss = 0.579, Test Accuracy = 0.824\n",
      "9, Train Loss = 0.328, Train Accuracy = 0.879, Test Loss = 0.655, Test Accuracy = 0.803\n",
      "10, Train Loss = 0.272, Train Accuracy = 0.905, Test Loss = 0.656, Test Accuracy = 0.826\n"
     ]
    },
    {
     "data": {
      "image/png": "[encoded data removed]",
      "text/plain": [
       "<Figure size 1000x400 with 2 Axes>"
      ]
     },
     "metadata": {},
     "output_type": "display_data"
    }
   ],
   "source": [
    "train_model()"
   ]
  }
 ],
 "metadata": {
  "kernelspec": {
   "display_name": "data598",
   "language": "python",
   "name": "python3"
  },
  "language_info": {
   "codemirror_mode": {
    "name": "ipython",
    "version": 3
   },
   "file_extension": ".py",
   "mimetype": "text/x-python",
   "name": "python",
   "nbconvert_exporter": "python",
   "pygments_lexer": "ipython3",
   "version": "3.8.15"
  },
  "orig_nbformat": 4,
  "vscode": {
   "interpreter": {
    "hash": "86858d5f84902b050d54a6bd9c0fb878f86a1dbd7a1ae5d42a558ee921f88707"
   }
  }
 },
 "nbformat": 4,
 "nbformat_minor": 2
}
