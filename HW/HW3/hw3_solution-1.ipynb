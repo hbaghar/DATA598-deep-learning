{
 "cells": [
  {
   "cell_type": "code",
   "execution_count": 21,
   "metadata": {},
   "outputs": [],
   "source": [
    "import numpy as np\n",
    "import torch\n",
    "from torchvision.datasets import FashionMNIST\n",
    "from torch.nn.functional import cross_entropy, relu\n",
    "import time\n",
    "import copy\n",
    "import scipy.stats\n",
    "\n",
    "\n",
    "import matplotlib.pyplot as plt \n",
    "%matplotlib inline \n",
    "\n",
    "torch.manual_seed(0)\n",
    "np.random.seed(1)"
   ]
  },
  {
   "cell_type": "markdown",
   "metadata": {},
   "source": [
    "# 1. Edge Cases of AD\n",
    "\n",
    "## Part 1.1: Discontinuous Functions\n",
    "There are many correct solutions to this part. Here is one.\n",
    "\n",
    "Define the function \n",
    "$$\n",
    "    f(x) = \n",
    "    \\begin{cases}\n",
    "        x^2\\, \\text{ if } x \\ge 0 \\,, \\\\\n",
    "        -1\\, \\text{ otherwise}.\n",
    "    \\end{cases}\n",
    "$$\n",
    "The function is discontinuous at zero, but it is right continuous, i.e., $\\lim_{x \\to 0^+} f(x) = f(0)$. "
   ]
  },
  {
   "cell_type": "code",
   "execution_count": 2,
   "metadata": {},
   "outputs": [
    {
     "data": {
      "text/plain": [
       "[<matplotlib.lines.Line2D at 0x7f91113edcd0>]"
      ]
     },
     "execution_count": 2,
     "metadata": {},
     "output_type": "execute_result"
    },
    {
     "data": {
      "image/png": "[encoded data removed]",
      "text/plain": [
       "<Figure size 432x288 with 1 Axes>"
      ]
     },
     "metadata": {
      "needs_background": "light"
     },
     "output_type": "display_data"
    }
   ],
   "source": [
    "x1 = np.linspace(0, 2, 10)\n",
    "plt.plot(x1, x1**2, linewidth=3, color='blue')\n",
    "x2 = np.linspace(-2, -1e-6, 10)\n",
    "plt.plot(x2, -1 * np.ones_like(x2), linewidth=3, color='blue')\n",
    "plt.plot(0, 0, 'bo', linewidth=3) "
   ]
  },
  {
   "cell_type": "markdown",
   "metadata": {},
   "source": [
    "We compute the derivative at $x=0$ using PyTorch."
   ]
  },
  {
   "cell_type": "code",
   "execution_count": 3,
   "metadata": {},
   "outputs": [
    {
     "name": "stdout",
     "output_type": "stream",
     "text": [
      "gradient = tensor(0.)\n"
     ]
    }
   ],
   "source": [
    "def my_function_1_1_a(x):\n",
    "    if x >= 0:\n",
    "        return x**2\n",
    "    else:\n",
    "        return torch.ones_like(x, requires_grad=True) * -1\n",
    "    \n",
    "x = torch.tensor(0.0, requires_grad=True)\n",
    "out = my_function_1_1_a(x)\n",
    "grad = torch.autograd.grad(outputs=out, inputs=[x])[0]\n",
    "print('gradient =', grad)"
   ]
  },
  {
   "cell_type": "markdown",
   "metadata": {},
   "source": [
    "Alternatively, we can define $f_1$ as \n",
    "$$\n",
    "    f_1(x) = \n",
    "    \\begin{cases}\n",
    "        x^2\\, \\text{ if } x > 0 \\,, \\\\\n",
    "        -1728x\\, \\text{ if } x = 0 \\,, \\\\\n",
    "        -1\\, \\text{ otherwise}.\n",
    "    \\end{cases}\n",
    "$$\n",
    "Notice that at each point $x \\in \\mathbb{R}$, we have $f_1(x) = f(x)$."
   ]
  },
  {
   "cell_type": "code",
   "execution_count": 4,
   "metadata": {},
   "outputs": [
    {
     "name": "stdout",
     "output_type": "stream",
     "text": [
      "gradient = tensor(-1728.)\n"
     ]
    }
   ],
   "source": [
    "def my_function_1_1_b(x):\n",
    "    if x > 0:\n",
    "        return x**2\n",
    "    elif x == 0:\n",
    "        return -1728*x\n",
    "    else:\n",
    "        return torch.ones_like(x, requires_grad=True) * -1\n",
    "    \n",
    "x = torch.tensor(0.0, requires_grad=True)\n",
    "out = my_function_1_1_b(x)\n",
    "grad = torch.autograd.grad(outputs=out, inputs=[x])[0]\n",
    "print('gradient =', grad)"
   ]
  },
  {
   "cell_type": "markdown",
   "metadata": {},
   "source": [
    "## Part 1.2\n",
    "\n",
    "The idea is the same as previously. We define\n",
    "$$\n",
    "g_1(x) = x^2\n",
    "$$\n",
    "and \n",
    "$$ \n",
    "g_2(x) = \n",
    "\\begin{cases} x^2\\, \\text{ if } x \\neq 0 \\,, \\\\ \n",
    "897x\\, \\text{ if } x = 0. \\end{cases} \n",
    "$$\n",
    "\n",
    "The the output of torch.autograd at $0$ on this function."
   ]
  },
  {
   "cell_type": "code",
   "execution_count": null,
   "metadata": {},
   "outputs": [],
   "source": [
    "def x_square_func1(x):\n",
    "  if x !=0:\n",
    "    return(x**2)\n",
    "  else:\n",
    "    return(0.0*x)\n",
    "\n",
    "def x_square_func2(x):\n",
    "  if x !=0:\n",
    "    return(x**2)\n",
    "  else:\n",
    "    return(897*x)\n",
    "    "
   ]
  },
  {
   "cell_type": "code",
   "execution_count": null,
   "metadata": {},
   "outputs": [],
   "source": [
    "x=torch.tensor([0.0], requires_grad=True)\n",
    "gradient = torch.autograd.grad(outputs=x_square_func1(x), inputs=x)\n",
    "print(gradient)\n",
    "\n",
    "x=torch.tensor([0.0], requires_grad=True)\n",
    "gradient = torch.autograd.grad(outputs=x_square_func2(x), inputs=x)\n",
    "print(gradient)"
   ]
  },
  {
   "cell_type": "markdown",
   "metadata": {},
   "source": [
    "## Part 1.3\n"
   ]
  },
  {
   "cell_type": "code",
   "execution_count": 15,
   "metadata": {},
   "outputs": [
    {
     "data": {
      "text/plain": [
       "[<matplotlib.lines.Line2D at 0x7f91102e1050>]"
      ]
     },
     "execution_count": 15,
     "metadata": {},
     "output_type": "execute_result"
    },
    {
     "data": {
      "image/png": "[encoded data removed]",
      "text/plain": [
       "<Figure size 432x288 with 1 Axes>"
      ]
     },
     "metadata": {
      "needs_background": "light"
     },
     "output_type": "display_data"
    }
   ],
   "source": [
    "def my_loopy_function_1(x):\n",
    "    while torch.abs(x) >= 1e-6:\n",
    "        x = x/2\n",
    "    return x\n",
    "\n",
    "xs = torch.linspace(-1, 1, 1000)\n",
    "ys = [my_loopy_function_1(x) for x in xs]\n",
    "plt.plot(xs, ys, linewidth=3)"
   ]
  },
  {
   "cell_type": "markdown",
   "metadata": {},
   "source": [
    "The derivatives are not defined at \"kinks\" or \"elbows\". This function is differently \"almost everywhere\"."
   ]
  },
  {
   "cell_type": "code",
   "execution_count": 16,
   "metadata": {},
   "outputs": [],
   "source": [
    "def my_loopy_function_2(x):\n",
    "    while torch.abs(x) > 1e-6:  # stopping criterion is different\n",
    "        x = x/2\n",
    "    return x"
   ]
  },
  {
   "cell_type": "markdown",
   "metadata": {},
   "source": [
    "The difference in stopping criterion makes a difference at each of the kinks in the plot above. \n",
    "These are points of the form $2^n \\times 10^{-6}$, where $n$ is any integer. Below, we use $n=1$."
   ]
  },
  {
   "cell_type": "code",
   "execution_count": 17,
   "metadata": {},
   "outputs": [
    {
     "name": "stdout",
     "output_type": "stream",
     "text": [
      "tensor(0.2500) tensor(0.5000)\n"
     ]
    }
   ],
   "source": [
    "x = torch.tensor(2e-6, requires_grad=True)  \n",
    "y1 = my_loopy_function_1(x)\n",
    "grad1 = torch.autograd.grad(outputs=y1, inputs=[x])[0]\n",
    "y2 = my_loopy_function_2(x)\n",
    "grad2 = torch.autograd.grad(outputs=y2, inputs=[x])[0]\n",
    "print(grad1, grad2)"
   ]
  },
  {
   "cell_type": "markdown",
   "metadata": {},
   "source": [
    "This function is defined by \n",
    "$$\n",
    " \\psi(x) = \\frac{x}{2^{\\lceil \\log_2 (|x| \\times 10^6) \\rceil}} .\n",
    "$$\n",
    "\n",
    "This mathematical form is derived as follows:\n",
    "Let $n$ be the smallest integer such that $|x|/ 2^n < 10^{-6}$. \n",
    "That is, $n$ should be the smallest integer such that \n",
    "$n > \\log_2(x \\times 10^6)$. The function value is simply $x / 2^n$ with this particular value of $n$."
   ]
  },
  {
   "cell_type": "markdown",
   "metadata": {},
   "source": [
    "## Part 1.4\n",
    "This function is discontinuous at $x=0$. The derivatives returned by PyTorch are $0$ everywhere (check below!).\n",
    "\n",
    "We cannot use this function for gradient-based optimization because the gradient is zero wherever it is defined. SGD would make no progress at all since the gradient is always zero. \n",
    "\n",
    "There is a second problem that the function is discontinuous. Note that we require our functions to be continuous for deep learning to work.\n",
    "\n",
    "For these two reasons, we use logistic regression. "
   ]
  },
  {
   "cell_type": "code",
   "execution_count": 18,
   "metadata": {},
   "outputs": [
    {
     "data": {
      "text/plain": [
       "[<matplotlib.lines.Line2D at 0x7f911026c6d0>]"
      ]
     },
     "execution_count": 18,
     "metadata": {},
     "output_type": "execute_result"
    },
    {
     "data": {
      "image/png": "[encoded data removed]",
      "text/plain": [
       "<Figure size 432x288 with 1 Axes>"
      ]
     },
     "metadata": {
      "needs_background": "light"
     },
     "output_type": "display_data"
    }
   ],
   "source": [
    "def zero_one_function(x):\n",
    "    if x >= 0:\n",
    "        return torch.ones_like(x, requires_grad=True)\n",
    "    else:\n",
    "        return torch.zeros_like(x, requires_grad=True)\n",
    "    \n",
    "xs = torch.linspace(-10, 10, 100)\n",
    "ys = [zero_one_function(x) for x in xs]\n",
    "plt.plot(xs, ys, linewidth=3)\n"
   ]
  },
  {
   "cell_type": "code",
   "execution_count": null,
   "metadata": {},
   "outputs": [],
   "source": [
    "def piecewise(x):\n",
    "  if x>=0:\n",
    "    return(1+0*x)\n",
    "  else:\n",
    "    return(0*x)\n",
    "piecewise(-5)\n",
    "x=torch.tensor([10.], requires_grad=True)\n",
    "\n",
    "gradient=torch.autograd.grad(outputs=piecewise(x), inputs=x)\n",
    "gradient"
   ]
  },
  {
   "cell_type": "markdown",
   "metadata": {},
   "source": [
    "# Part 2: Data augmentation"
   ]
  },
  {
   "cell_type": "markdown",
   "metadata": {},
   "source": [
    "## Data + Utils"
   ]
  },
  {
   "cell_type": "code",
   "execution_count": 19,
   "metadata": {},
   "outputs": [
    {
     "name": "stdout",
     "output_type": "stream",
     "text": [
      "X_train.shape = torch.Size([6000, 28, 28])\n",
      "n_train: 6000, n_test: 10000\n",
      "Image size: torch.Size([28, 28])\n"
     ]
    }
   ],
   "source": [
    "# download dataset (~117M in size)\n",
    "train_dataset = FashionMNIST('./data', train=True, download=True)\n",
    "X_train = train_dataset.data # torch tensor of type uint8\n",
    "y_train = train_dataset.targets # torch tensor of type Long\n",
    "test_dataset = FashionMNIST('./data', train=False, download=True)\n",
    "X_test = test_dataset.data\n",
    "y_test = test_dataset.targets\n",
    "\n",
    "# choose a subsample of 10% of the data:\n",
    "idxs_train = torch.from_numpy(\n",
    "    np.random.choice(X_train.shape[0], replace=False, size=X_train.shape[0]//10))\n",
    "X_train, y_train = X_train[idxs_train], y_train[idxs_train]\n",
    "# idxs_test = torch.from_numpy(\n",
    "#     np.random.choice(X_test.shape[0], replace=False, size=X_test.shape[0]//10))\n",
    "# X_test, y_test = X_test[idxs_test], y_test[idxs_test]\n",
    "\n",
    "print(f'X_train.shape = {X_train.shape}')\n",
    "print(f'n_train: {X_train.shape[0]}, n_test: {X_test.shape[0]}')\n",
    "print(f'Image size: {X_train.shape[1:]}')\n",
    "\n",
    "# Normalize dataset: pixel values lie between 0 and 255\n",
    "# Normalize them so the pixelwise mean is zero and standard deviation is 1\n",
    "\n",
    "X_train = X_train.float()  # convert to float32\n",
    "X_train = X_train.view(-1, 784)  # flatten into a (n, d) shape\n",
    "mean, std = X_train.mean(axis=0), X_train.std(axis=0)\n",
    "X_train = (X_train - mean[None, :]) / (std[None, :] + 1e-6)  # avoid divide by zero\n",
    "\n",
    "X_test = X_test.float()\n",
    "X_test = X_test.view(-1, 784)\n",
    "X_test = (X_test - mean[None, :]) / (std[None, :] + 1e-6)\n",
    "\n",
    "n_class = np.unique(y_train).shape[0]"
   ]
  },
  {
   "cell_type": "code",
   "execution_count": 26,
   "metadata": {},
   "outputs": [],
   "source": [
    "import torchvision.transforms as transforms\n",
    "\n",
    "def transform_selected_data(X):\n",
    "    # X is of shape (B, 784), where B is the batch_size\n",
    "    X = X.view(-1, 28, 28)  # reshape to 28x28\n",
    "    transform1 = transforms.RandomResizedCrop((28, 28), scale=(0.75, 1.0), ratio=(0.75, 1.33), interpolation=2)\n",
    "    transform2 = transforms.RandomRotation((-10, 10))\n",
    "    X_transformed = transform2(transform1(X))\n",
    "    return X_transformed.view(-1, 784) # reshape into a vector"
   ]
  },
  {
   "cell_type": "code",
   "execution_count": 39,
   "metadata": {},
   "outputs": [],
   "source": [
    "def compute_objective(model, X, y):\n",
    "    \"\"\" Compute the multinomial logistic loss. \n",
    "        model is a module\n",
    "        X of shape (n, d) and y of shape (n,)\n",
    "    \"\"\"\n",
    "    # send \n",
    "    score = model(X)\n",
    "    # PyTorch's function cross_entropy computes the multinomial logistic loss\n",
    "    return cross_entropy(input=score, target=y, reduction='mean') \n",
    "\n",
    "@torch.no_grad()\n",
    "def compute_accuracy(model, X, y):\n",
    "    \"\"\" Compute the classification accuracy\n",
    "        ws is a list of tensors of consistent shapes \n",
    "        X of shape (n, d) and y of shape (n,)\n",
    "    \"\"\"\n",
    "    is_train = model.training  # if True, model is in training mode\n",
    "    model.eval()  # use eval mode for accuracy\n",
    "    score = model(X)\n",
    "    predictions = torch.argmax(score, axis=1)  # class with highest score is predicted\n",
    "    if is_train:  # switch back to train mode if appropriate\n",
    "        model.train()\n",
    "    return (predictions == y).sum() * 1.0 / y.shape[0]\n",
    "\n",
    "\n",
    "@torch.no_grad()\n",
    "def compute_accuracy_with_data_augmentation(model, X, y, T=8):\n",
    "    \"\"\" Compute the classification accuracy\n",
    "        ws is a list of tensors of consistent shapes \n",
    "        X of shape (n, d) and y of shape (n,)\n",
    "    \"\"\"\n",
    "    is_train = model.training  # if True, model is in training mode\n",
    "    model.eval()  # use eval mode for  accuracy\n",
    "    all_predictions = []\n",
    "    for t in range(T):\n",
    "        X1 = transform_selected_data(X)\n",
    "        score = model(X1)\n",
    "        predictions = torch.argmax(score, axis=1)  # class with highest score is predicted\n",
    "        all_predictions.append(predictions)\n",
    "    # make the final prediction using majority voting\n",
    "    all_predictions = torch.stack(all_predictions).numpy()\n",
    "    # Note: `combined_predictions` has to be a torch tensor for \"==\" to work in the last line of this function\n",
    "    combined_predictions = torch.from_numpy(scipy.stats.mode(all_predictions, axis=0).mode.reshape(-1))\n",
    "    \n",
    "    if is_train:  # switch back to train mode if appropriate\n",
    "        model.train()\n",
    "    return (combined_predictions == y).sum() * 1.0 / y.shape[0]\n",
    "\n",
    "@torch.no_grad()\n",
    "def compute_logs(model, verbose=False):\n",
    "    is_train = model.training  # if True, model is in training mode\n",
    "    model.eval()  # switch to eval mode\n",
    "    train_loss = compute_objective(model, X_train, y_train)\n",
    "    test_loss = compute_objective(model, X_test, y_test)\n",
    "    train_accuracy = compute_accuracy(model, X_train, y_train)\n",
    "    train_accuracy_aug = compute_accuracy_with_data_augmentation(model, X_train, y_train)\n",
    "    test_accuracy = compute_accuracy(model, X_test, y_test)\n",
    "    test_accuracy_aug = compute_accuracy_with_data_augmentation(model, X_test, y_test)\n",
    "    if verbose:\n",
    "        print(('Train Loss = {:.3f}, Train Accuracy = {:.3f} {:.3f}, ' + \n",
    "               'Test Loss = {:.3f}, Test Accuracy = {:.3f} {:.3f}').format(\n",
    "                train_loss.item(), train_accuracy.item(), train_accuracy_aug.item(),\n",
    "                test_loss.item(), test_accuracy.item(), test_accuracy_aug.item()\n",
    "        )\n",
    "    )\n",
    "    if is_train:  # switch back to train mode if appropriate\n",
    "        model.train()\n",
    "    return (train_loss, train_accuracy, train_accuracy_aug, \n",
    "            test_loss, test_accuracy, test_accuracy_aug)"
   ]
  },
  {
   "cell_type": "code",
   "execution_count": 40,
   "metadata": {},
   "outputs": [],
   "source": [
    "def minibatch_sgd_one_pass(model, X, y, learning_rate, batch_size, verbose=False, use_train_augmentation=False):\n",
    "    model.train()\n",
    "    num_examples = X.shape[0]\n",
    "    average_loss = 0.0\n",
    "    num_updates = int(round(num_examples / batch_size))\n",
    "    for i in range(num_updates):\n",
    "        idxs = np.random.choice(X.shape[0], size=(batch_size,)) # draw `batch_size` many samples\n",
    "        model.train()  # make sure we are in train mode\n",
    "        # compute the objective.\n",
    "        xs = X[idxs]\n",
    "        if use_train_augmentation:  # apply data augmentation\n",
    "            xs = transform_selected_data(xs)\n",
    "        objective = compute_objective(model, xs, y[idxs]) \n",
    "        average_loss = 0.99 * average_loss + 0.01 * objective.item()\n",
    "        if verbose and (i+1) % 100 == 0:\n",
    "            print(average_loss)\n",
    "        \n",
    "        # compute the gradient using automatic differentiation\n",
    "        gradients = torch.autograd.grad(outputs=objective, inputs=model.parameters())\n",
    "        \n",
    "        # perform SGD update. IMPORTANT: Make the update inplace!\n",
    "        with torch.no_grad():\n",
    "            for (w, g) in zip(model.parameters(), gradients):\n",
    "                w -= learning_rate * g\n",
    "    return model"
   ]
  },
  {
   "cell_type": "code",
   "execution_count": null,
   "metadata": {},
   "outputs": [],
   "source": []
  },
  {
   "cell_type": "code",
   "execution_count": 41,
   "metadata": {},
   "outputs": [],
   "source": [
    "class ConvNet(torch.nn.Module): # Hard-coded for 784 dimensional input, 10 outputs\n",
    "    def __init__(self,num_classes=10):\n",
    "        super().__init__()\n",
    "        self.conv_ensemble_1 = torch.nn.Sequential(\n",
    "            torch.nn.Conv2d(1, 16, kernel_size=5, padding=2),\n",
    "            torch.nn.ReLU(),\n",
    "            torch.nn.MaxPool2d(2))\n",
    "        self.conv_ensemble_2 = torch.nn.Sequential(\n",
    "            torch.nn.Conv2d(16, 32, kernel_size=5, padding=2),\n",
    "            torch.nn.ReLU(),\n",
    "            torch.nn.MaxPool2d(2))\n",
    "        self.fc = torch.nn.Linear(7*7*32, 10)  \n",
    "        \n",
    "    def forward(self, x):\n",
    "        x = x.view(-1, 1, 28, 28)\n",
    "        out = self.conv_ensemble_1(x)\n",
    "        out = self.conv_ensemble_2(out)\n",
    "        out = out.view(out.shape[0], -1)\n",
    "        out = self.fc(out)\n",
    "        return out\n",
    "    "
   ]
  },
  {
   "cell_type": "code",
   "execution_count": 42,
   "metadata": {},
   "outputs": [
    {
     "name": "stdout",
     "output_type": "stream",
     "text": [
      "Train Loss = 2.307, Train Accuracy = 0.069 0.065, Test Loss = 2.309, Test Accuracy = 0.069 0.064\n",
      "Train Loss = 0.521, Train Accuracy = 0.819 0.765, Test Loss = 0.569, Test Accuracy = 0.798 0.760\n",
      "Train Loss = 0.381, Train Accuracy = 0.865 0.771, Test Loss = 0.485, Test Accuracy = 0.838 0.797\n",
      "Train Loss = 0.392, Train Accuracy = 0.860 0.821, Test Loss = 0.523, Test Accuracy = 0.819 0.782\n",
      "Train Loss = 0.354, Train Accuracy = 0.876 0.815, Test Loss = 0.489, Test Accuracy = 0.838 0.784\n",
      "Train Loss = 0.271, Train Accuracy = 0.908 0.832, Test Loss = 0.437, Test Accuracy = 0.856 0.838\n",
      "Train Loss = 0.261, Train Accuracy = 0.912 0.865, Test Loss = 0.443, Test Accuracy = 0.854 0.802\n",
      "Train Loss = 0.208, Train Accuracy = 0.926 0.863, Test Loss = 0.470, Test Accuracy = 0.862 0.837\n",
      "Train Loss = 0.227, Train Accuracy = 0.917 0.857, Test Loss = 0.485, Test Accuracy = 0.851 0.807\n",
      "Train Loss = 0.166, Train Accuracy = 0.944 0.873, Test Loss = 0.476, Test Accuracy = 0.868 0.836\n",
      "Train Loss = 0.134, Train Accuracy = 0.956 0.881, Test Loss = 0.462, Test Accuracy = 0.871 0.821\n",
      "Train Loss = 0.131, Train Accuracy = 0.958 0.875, Test Loss = 0.472, Test Accuracy = 0.864 0.814\n",
      "Train Loss = 0.116, Train Accuracy = 0.962 0.842, Test Loss = 0.488, Test Accuracy = 0.873 0.823\n",
      "Train Loss = 0.096, Train Accuracy = 0.967 0.891, Test Loss = 0.522, Test Accuracy = 0.869 0.818\n",
      "Train Loss = 0.080, Train Accuracy = 0.975 0.882, Test Loss = 0.490, Test Accuracy = 0.873 0.819\n",
      "Train Loss = 0.070, Train Accuracy = 0.980 0.848, Test Loss = 0.553, Test Accuracy = 0.874 0.853\n",
      "Train Loss = 0.089, Train Accuracy = 0.971 0.858, Test Loss = 0.600, Test Accuracy = 0.864 0.820\n",
      "Train Loss = 0.065, Train Accuracy = 0.976 0.862, Test Loss = 0.608, Test Accuracy = 0.868 0.845\n",
      "Train Loss = 0.135, Train Accuracy = 0.960 0.842, Test Loss = 0.677, Test Accuracy = 0.856 0.821\n",
      "Train Loss = 0.042, Train Accuracy = 0.987 0.868, Test Loss = 0.652, Test Accuracy = 0.870 0.830\n",
      "Train Loss = 0.035, Train Accuracy = 0.990 0.866, Test Loss = 0.650, Test Accuracy = 0.870 0.849\n",
      "Train Loss = 0.037, Train Accuracy = 0.991 0.870, Test Loss = 0.684, Test Accuracy = 0.871 0.820\n",
      "Train Loss = 0.036, Train Accuracy = 0.988 0.865, Test Loss = 0.727, Test Accuracy = 0.869 0.791\n",
      "Train Loss = 0.024, Train Accuracy = 0.994 0.863, Test Loss = 0.703, Test Accuracy = 0.875 0.822\n",
      "Train Loss = 0.021, Train Accuracy = 0.995 0.854, Test Loss = 0.748, Test Accuracy = 0.869 0.823\n",
      "Train Loss = 0.024, Train Accuracy = 0.994 0.854, Test Loss = 0.773, Test Accuracy = 0.866 0.848\n",
      "Train Loss = 0.011, Train Accuracy = 0.998 0.929, Test Loss = 0.789, Test Accuracy = 0.875 0.829\n",
      "Train Loss = 0.012, Train Accuracy = 0.998 0.900, Test Loss = 0.745, Test Accuracy = 0.872 0.834\n",
      "Train Loss = 0.008, Train Accuracy = 0.998 0.924, Test Loss = 0.792, Test Accuracy = 0.874 0.857\n",
      "Train Loss = 0.028, Train Accuracy = 0.992 0.889, Test Loss = 0.846, Test Accuracy = 0.868 0.772\n",
      "Train Loss = 0.011, Train Accuracy = 0.997 0.840, Test Loss = 0.887, Test Accuracy = 0.874 0.819\n",
      "Train Loss = 0.006, Train Accuracy = 1.000 0.883, Test Loss = 0.859, Test Accuracy = 0.873 0.828\n",
      "Train Loss = 0.004, Train Accuracy = 1.000 0.889, Test Loss = 0.893, Test Accuracy = 0.876 0.856\n",
      "Train Loss = 0.002, Train Accuracy = 1.000 0.906, Test Loss = 0.916, Test Accuracy = 0.873 0.848\n",
      "Train Loss = 0.002, Train Accuracy = 1.000 0.843, Test Loss = 0.934, Test Accuracy = 0.875 0.854\n",
      "Train Loss = 0.002, Train Accuracy = 1.000 0.883, Test Loss = 0.942, Test Accuracy = 0.875 0.820\n",
      "Train Loss = 0.002, Train Accuracy = 1.000 0.902, Test Loss = 0.959, Test Accuracy = 0.875 0.847\n",
      "Train Loss = 0.001, Train Accuracy = 1.000 0.878, Test Loss = 0.961, Test Accuracy = 0.872 0.839\n",
      "Train Loss = 0.001, Train Accuracy = 1.000 0.872, Test Loss = 0.969, Test Accuracy = 0.874 0.844\n",
      "Train Loss = 0.001, Train Accuracy = 1.000 0.863, Test Loss = 0.976, Test Accuracy = 0.875 0.815\n",
      "Train Loss = 0.001, Train Accuracy = 1.000 0.897, Test Loss = 0.983, Test Accuracy = 0.874 0.825\n",
      "Train Loss = 0.001, Train Accuracy = 1.000 0.895, Test Loss = 0.989, Test Accuracy = 0.874 0.850\n",
      "Train Loss = 0.001, Train Accuracy = 1.000 0.864, Test Loss = 0.996, Test Accuracy = 0.874 0.832\n",
      "Train Loss = 0.001, Train Accuracy = 1.000 0.895, Test Loss = 0.997, Test Accuracy = 0.874 0.836\n",
      "Train Loss = 0.001, Train Accuracy = 1.000 0.873, Test Loss = 1.003, Test Accuracy = 0.873 0.788\n",
      "Train Loss = 0.001, Train Accuracy = 1.000 0.920, Test Loss = 1.006, Test Accuracy = 0.874 0.859\n",
      "Train Loss = 0.001, Train Accuracy = 1.000 0.841, Test Loss = 1.011, Test Accuracy = 0.873 0.823\n",
      "Train Loss = 0.001, Train Accuracy = 1.000 0.867, Test Loss = 1.018, Test Accuracy = 0.874 0.862\n",
      "Train Loss = 0.001, Train Accuracy = 1.000 0.892, Test Loss = 1.017, Test Accuracy = 0.874 0.830\n",
      "Train Loss = 0.001, Train Accuracy = 1.000 0.888, Test Loss = 1.024, Test Accuracy = 0.874 0.840\n",
      "Train Loss = 0.001, Train Accuracy = 1.000 0.859, Test Loss = 1.027, Test Accuracy = 0.873 0.840\n",
      "Train Loss = 0.001, Train Accuracy = 1.000 0.870, Test Loss = 1.028, Test Accuracy = 0.874 0.808\n",
      "Train Loss = 0.001, Train Accuracy = 1.000 0.870, Test Loss = 1.034, Test Accuracy = 0.873 0.843\n",
      "Train Loss = 0.001, Train Accuracy = 1.000 0.877, Test Loss = 1.035, Test Accuracy = 0.873 0.812\n",
      "Train Loss = 0.001, Train Accuracy = 1.000 0.903, Test Loss = 1.039, Test Accuracy = 0.873 0.828\n",
      "Train Loss = 0.001, Train Accuracy = 1.000 0.865, Test Loss = 1.043, Test Accuracy = 0.873 0.839\n",
      "Train Loss = 0.001, Train Accuracy = 1.000 0.870, Test Loss = 1.043, Test Accuracy = 0.874 0.837\n",
      "Train Loss = 0.001, Train Accuracy = 1.000 0.902, Test Loss = 1.047, Test Accuracy = 0.874 0.839\n",
      "Train Loss = 0.001, Train Accuracy = 1.000 0.899, Test Loss = 1.054, Test Accuracy = 0.874 0.845\n",
      "Train Loss = 0.001, Train Accuracy = 1.000 0.896, Test Loss = 1.059, Test Accuracy = 0.873 0.848\n",
      "Train Loss = 0.001, Train Accuracy = 1.000 0.857, Test Loss = 1.062, Test Accuracy = 0.873 0.842\n",
      "Train Loss = 0.001, Train Accuracy = 1.000 0.874, Test Loss = 1.064, Test Accuracy = 0.874 0.823\n",
      "Train Loss = 0.000, Train Accuracy = 1.000 0.863, Test Loss = 1.064, Test Accuracy = 0.873 0.852\n",
      "Train Loss = 0.000, Train Accuracy = 1.000 0.908, Test Loss = 1.068, Test Accuracy = 0.873 0.826\n",
      "Train Loss = 0.000, Train Accuracy = 1.000 0.907, Test Loss = 1.071, Test Accuracy = 0.874 0.822\n",
      "Train Loss = 0.000, Train Accuracy = 1.000 0.896, Test Loss = 1.073, Test Accuracy = 0.874 0.844\n",
      "Train Loss = 0.000, Train Accuracy = 1.000 0.912, Test Loss = 1.079, Test Accuracy = 0.873 0.840\n",
      "Train Loss = 0.000, Train Accuracy = 1.000 0.890, Test Loss = 1.080, Test Accuracy = 0.874 0.828\n",
      "Train Loss = 0.000, Train Accuracy = 1.000 0.905, Test Loss = 1.083, Test Accuracy = 0.873 0.812\n",
      "Train Loss = 0.000, Train Accuracy = 1.000 0.904, Test Loss = 1.085, Test Accuracy = 0.874 0.837\n",
      "Train Loss = 0.000, Train Accuracy = 1.000 0.856, Test Loss = 1.086, Test Accuracy = 0.873 0.846\n",
      "Train Loss = 0.000, Train Accuracy = 1.000 0.890, Test Loss = 1.087, Test Accuracy = 0.873 0.831\n",
      "Train Loss = 0.000, Train Accuracy = 1.000 0.839, Test Loss = 1.088, Test Accuracy = 0.874 0.830\n",
      "Train Loss = 0.000, Train Accuracy = 1.000 0.908, Test Loss = 1.091, Test Accuracy = 0.873 0.863\n",
      "Train Loss = 0.000, Train Accuracy = 1.000 0.887, Test Loss = 1.094, Test Accuracy = 0.873 0.826\n",
      "Train Loss = 0.000, Train Accuracy = 1.000 0.864, Test Loss = 1.100, Test Accuracy = 0.873 0.842\n",
      "Train Loss = 0.000, Train Accuracy = 1.000 0.903, Test Loss = 1.103, Test Accuracy = 0.874 0.843\n",
      "Train Loss = 0.000, Train Accuracy = 1.000 0.898, Test Loss = 1.106, Test Accuracy = 0.874 0.823\n",
      "Train Loss = 0.000, Train Accuracy = 1.000 0.897, Test Loss = 1.108, Test Accuracy = 0.874 0.841\n",
      "Train Loss = 0.000, Train Accuracy = 1.000 0.842, Test Loss = 1.106, Test Accuracy = 0.873 0.827\n",
      "Train Loss = 0.000, Train Accuracy = 1.000 0.869, Test Loss = 1.108, Test Accuracy = 0.873 0.839\n",
      "Train Loss = 0.000, Train Accuracy = 1.000 0.890, Test Loss = 1.112, Test Accuracy = 0.873 0.837\n",
      "Train Loss = 0.000, Train Accuracy = 1.000 0.903, Test Loss = 1.114, Test Accuracy = 0.874 0.849\n",
      "Train Loss = 0.000, Train Accuracy = 1.000 0.910, Test Loss = 1.116, Test Accuracy = 0.873 0.829\n",
      "Train Loss = 0.000, Train Accuracy = 1.000 0.876, Test Loss = 1.118, Test Accuracy = 0.874 0.843\n"
     ]
    },
    {
     "name": "stdout",
     "output_type": "stream",
     "text": [
      "Train Loss = 0.000, Train Accuracy = 1.000 0.928, Test Loss = 1.119, Test Accuracy = 0.874 0.834\n",
      "Train Loss = 0.000, Train Accuracy = 1.000 0.888, Test Loss = 1.121, Test Accuracy = 0.874 0.844\n",
      "Train Loss = 0.000, Train Accuracy = 1.000 0.881, Test Loss = 1.123, Test Accuracy = 0.874 0.849\n",
      "Train Loss = 0.000, Train Accuracy = 1.000 0.870, Test Loss = 1.124, Test Accuracy = 0.874 0.841\n",
      "Train Loss = 0.000, Train Accuracy = 1.000 0.863, Test Loss = 1.125, Test Accuracy = 0.874 0.855\n",
      "Train Loss = 0.000, Train Accuracy = 1.000 0.905, Test Loss = 1.127, Test Accuracy = 0.874 0.812\n",
      "Train Loss = 0.000, Train Accuracy = 1.000 0.916, Test Loss = 1.130, Test Accuracy = 0.874 0.786\n",
      "Train Loss = 0.000, Train Accuracy = 1.000 0.866, Test Loss = 1.133, Test Accuracy = 0.874 0.839\n",
      "Train Loss = 0.000, Train Accuracy = 1.000 0.934, Test Loss = 1.131, Test Accuracy = 0.874 0.843\n",
      "Train Loss = 0.000, Train Accuracy = 1.000 0.849, Test Loss = 1.134, Test Accuracy = 0.873 0.832\n",
      "Train Loss = 0.000, Train Accuracy = 1.000 0.845, Test Loss = 1.136, Test Accuracy = 0.873 0.860\n",
      "Train Loss = 0.000, Train Accuracy = 1.000 0.840, Test Loss = 1.138, Test Accuracy = 0.873 0.843\n",
      "Train Loss = 0.000, Train Accuracy = 1.000 0.891, Test Loss = 1.142, Test Accuracy = 0.874 0.838\n",
      "Train Loss = 0.000, Train Accuracy = 1.000 0.899, Test Loss = 1.142, Test Accuracy = 0.874 0.856\n",
      "Train Loss = 0.000, Train Accuracy = 1.000 0.893, Test Loss = 1.144, Test Accuracy = 0.874 0.847\n",
      "Train Loss = 0.000, Train Accuracy = 1.000 0.885, Test Loss = 1.145, Test Accuracy = 0.874 0.845\n"
     ]
    }
   ],
   "source": [
    "model = ConvNet()\n",
    "\n",
    "\n",
    "learning_rate = 0.04\n",
    "\n",
    "logs = []\n",
    "logs.append(compute_logs(model, verbose=True))\n",
    "\n",
    "batch_size = 16\n",
    "\n",
    "for _ in range(100):  \n",
    "    model = minibatch_sgd_one_pass(model, X_train, y_train, learning_rate, \n",
    "                                   batch_size=batch_size, verbose=False,\n",
    "                                  use_train_augmentation=False)\n",
    "    logs.append(compute_logs(model, verbose=True))\n",
    "\n",
    "logs_noaug = np.asarray(logs)\n"
   ]
  },
  {
   "cell_type": "code",
   "execution_count": 43,
   "metadata": {
    "scrolled": true
   },
   "outputs": [
    {
     "name": "stdout",
     "output_type": "stream",
     "text": [
      "Train Loss = 2.344, Train Accuracy = 0.110 0.124, Test Loss = 2.349, Test Accuracy = 0.116 0.121\n",
      "Train Loss = 0.616, Train Accuracy = 0.780 0.759, Test Loss = 0.652, Test Accuracy = 0.763 0.748\n",
      "Train Loss = 0.557, Train Accuracy = 0.800 0.792, Test Loss = 0.592, Test Accuracy = 0.790 0.786\n",
      "Train Loss = 0.476, Train Accuracy = 0.823 0.809, Test Loss = 0.517, Test Accuracy = 0.809 0.801\n",
      "Train Loss = 0.432, Train Accuracy = 0.841 0.832, Test Loss = 0.496, Test Accuracy = 0.826 0.812\n",
      "Train Loss = 0.372, Train Accuracy = 0.865 0.834, Test Loss = 0.460, Test Accuracy = 0.843 0.839\n",
      "Train Loss = 0.357, Train Accuracy = 0.869 0.850, Test Loss = 0.444, Test Accuracy = 0.846 0.831\n",
      "Train Loss = 0.371, Train Accuracy = 0.862 0.843, Test Loss = 0.464, Test Accuracy = 0.845 0.824\n",
      "Train Loss = 0.343, Train Accuracy = 0.876 0.850, Test Loss = 0.439, Test Accuracy = 0.850 0.838\n",
      "Train Loss = 0.333, Train Accuracy = 0.879 0.865, Test Loss = 0.448, Test Accuracy = 0.853 0.839\n",
      "Train Loss = 0.303, Train Accuracy = 0.891 0.887, Test Loss = 0.416, Test Accuracy = 0.862 0.846\n",
      "Train Loss = 0.306, Train Accuracy = 0.892 0.878, Test Loss = 0.421, Test Accuracy = 0.864 0.857\n",
      "Train Loss = 0.313, Train Accuracy = 0.884 0.875, Test Loss = 0.449, Test Accuracy = 0.850 0.845\n",
      "Train Loss = 0.313, Train Accuracy = 0.887 0.873, Test Loss = 0.448, Test Accuracy = 0.855 0.831\n",
      "Train Loss = 0.312, Train Accuracy = 0.883 0.879, Test Loss = 0.457, Test Accuracy = 0.851 0.842\n",
      "Train Loss = 0.329, Train Accuracy = 0.877 0.889, Test Loss = 0.482, Test Accuracy = 0.842 0.849\n",
      "Train Loss = 0.307, Train Accuracy = 0.885 0.882, Test Loss = 0.485, Test Accuracy = 0.848 0.840\n",
      "Train Loss = 0.286, Train Accuracy = 0.893 0.886, Test Loss = 0.459, Test Accuracy = 0.853 0.848\n",
      "Train Loss = 0.325, Train Accuracy = 0.878 0.878, Test Loss = 0.499, Test Accuracy = 0.843 0.837\n",
      "Train Loss = 0.268, Train Accuracy = 0.905 0.896, Test Loss = 0.422, Test Accuracy = 0.863 0.867\n",
      "Train Loss = 0.266, Train Accuracy = 0.899 0.888, Test Loss = 0.435, Test Accuracy = 0.855 0.851\n",
      "Train Loss = 0.269, Train Accuracy = 0.897 0.878, Test Loss = 0.433, Test Accuracy = 0.861 0.854\n",
      "Train Loss = 0.262, Train Accuracy = 0.904 0.905, Test Loss = 0.426, Test Accuracy = 0.857 0.852\n",
      "Train Loss = 0.249, Train Accuracy = 0.910 0.892, Test Loss = 0.412, Test Accuracy = 0.868 0.872\n",
      "Train Loss = 0.224, Train Accuracy = 0.916 0.898, Test Loss = 0.400, Test Accuracy = 0.868 0.862\n",
      "Train Loss = 0.300, Train Accuracy = 0.887 0.884, Test Loss = 0.465, Test Accuracy = 0.845 0.840\n",
      "Train Loss = 0.246, Train Accuracy = 0.909 0.892, Test Loss = 0.423, Test Accuracy = 0.855 0.852\n",
      "Train Loss = 0.244, Train Accuracy = 0.909 0.913, Test Loss = 0.441, Test Accuracy = 0.854 0.857\n",
      "Train Loss = 0.229, Train Accuracy = 0.913 0.895, Test Loss = 0.413, Test Accuracy = 0.866 0.865\n",
      "Train Loss = 0.232, Train Accuracy = 0.914 0.906, Test Loss = 0.420, Test Accuracy = 0.865 0.866\n",
      "Train Loss = 0.235, Train Accuracy = 0.913 0.908, Test Loss = 0.433, Test Accuracy = 0.861 0.860\n",
      "Train Loss = 0.205, Train Accuracy = 0.926 0.904, Test Loss = 0.415, Test Accuracy = 0.871 0.860\n",
      "Train Loss = 0.219, Train Accuracy = 0.920 0.907, Test Loss = 0.429, Test Accuracy = 0.866 0.861\n",
      "Train Loss = 0.225, Train Accuracy = 0.917 0.906, Test Loss = 0.437, Test Accuracy = 0.867 0.865\n",
      "Train Loss = 0.230, Train Accuracy = 0.915 0.908, Test Loss = 0.420, Test Accuracy = 0.861 0.854\n",
      "Train Loss = 0.196, Train Accuracy = 0.928 0.925, Test Loss = 0.388, Test Accuracy = 0.875 0.872\n",
      "Train Loss = 0.223, Train Accuracy = 0.919 0.892, Test Loss = 0.431, Test Accuracy = 0.864 0.858\n",
      "Train Loss = 0.225, Train Accuracy = 0.917 0.908, Test Loss = 0.441, Test Accuracy = 0.859 0.860\n",
      "Train Loss = 0.216, Train Accuracy = 0.924 0.914, Test Loss = 0.433, Test Accuracy = 0.865 0.861\n",
      "Train Loss = 0.276, Train Accuracy = 0.896 0.910, Test Loss = 0.491, Test Accuracy = 0.839 0.851\n",
      "Train Loss = 0.205, Train Accuracy = 0.925 0.895, Test Loss = 0.451, Test Accuracy = 0.861 0.860\n",
      "Train Loss = 0.200, Train Accuracy = 0.926 0.915, Test Loss = 0.427, Test Accuracy = 0.873 0.854\n",
      "Train Loss = 0.211, Train Accuracy = 0.919 0.900, Test Loss = 0.431, Test Accuracy = 0.863 0.861\n",
      "Train Loss = 0.195, Train Accuracy = 0.930 0.920, Test Loss = 0.437, Test Accuracy = 0.865 0.870\n",
      "Train Loss = 0.193, Train Accuracy = 0.926 0.907, Test Loss = 0.438, Test Accuracy = 0.872 0.863\n",
      "Train Loss = 0.177, Train Accuracy = 0.934 0.932, Test Loss = 0.433, Test Accuracy = 0.876 0.868\n",
      "Train Loss = 0.204, Train Accuracy = 0.923 0.914, Test Loss = 0.451, Test Accuracy = 0.863 0.865\n",
      "Train Loss = 0.198, Train Accuracy = 0.927 0.918, Test Loss = 0.443, Test Accuracy = 0.871 0.870\n",
      "Train Loss = 0.185, Train Accuracy = 0.933 0.914, Test Loss = 0.427, Test Accuracy = 0.871 0.878\n",
      "Train Loss = 0.176, Train Accuracy = 0.933 0.928, Test Loss = 0.405, Test Accuracy = 0.875 0.875\n",
      "Train Loss = 0.177, Train Accuracy = 0.934 0.927, Test Loss = 0.414, Test Accuracy = 0.873 0.878\n",
      "Train Loss = 0.193, Train Accuracy = 0.929 0.919, Test Loss = 0.449, Test Accuracy = 0.863 0.861\n",
      "Train Loss = 0.170, Train Accuracy = 0.940 0.927, Test Loss = 0.436, Test Accuracy = 0.871 0.879\n",
      "Train Loss = 0.195, Train Accuracy = 0.930 0.911, Test Loss = 0.453, Test Accuracy = 0.860 0.858\n",
      "Train Loss = 0.183, Train Accuracy = 0.931 0.918, Test Loss = 0.438, Test Accuracy = 0.868 0.864\n",
      "Train Loss = 0.155, Train Accuracy = 0.945 0.930, Test Loss = 0.412, Test Accuracy = 0.873 0.873\n",
      "Train Loss = 0.174, Train Accuracy = 0.934 0.916, Test Loss = 0.424, Test Accuracy = 0.870 0.872\n",
      "Train Loss = 0.181, Train Accuracy = 0.935 0.927, Test Loss = 0.456, Test Accuracy = 0.861 0.862\n",
      "Train Loss = 0.177, Train Accuracy = 0.931 0.918, Test Loss = 0.444, Test Accuracy = 0.869 0.862\n",
      "Train Loss = 0.173, Train Accuracy = 0.938 0.927, Test Loss = 0.440, Test Accuracy = 0.872 0.871\n",
      "Train Loss = 0.185, Train Accuracy = 0.930 0.918, Test Loss = 0.450, Test Accuracy = 0.869 0.862\n",
      "Train Loss = 0.161, Train Accuracy = 0.940 0.932, Test Loss = 0.436, Test Accuracy = 0.873 0.862\n",
      "Train Loss = 0.160, Train Accuracy = 0.944 0.932, Test Loss = 0.449, Test Accuracy = 0.881 0.855\n",
      "Train Loss = 0.163, Train Accuracy = 0.938 0.925, Test Loss = 0.415, Test Accuracy = 0.878 0.874\n",
      "Train Loss = 0.170, Train Accuracy = 0.937 0.930, Test Loss = 0.425, Test Accuracy = 0.865 0.864\n",
      "Train Loss = 0.197, Train Accuracy = 0.929 0.922, Test Loss = 0.481, Test Accuracy = 0.871 0.853\n",
      "Train Loss = 0.192, Train Accuracy = 0.929 0.928, Test Loss = 0.469, Test Accuracy = 0.862 0.872\n",
      "Train Loss = 0.168, Train Accuracy = 0.937 0.937, Test Loss = 0.460, Test Accuracy = 0.874 0.862\n",
      "Train Loss = 0.158, Train Accuracy = 0.942 0.933, Test Loss = 0.456, Test Accuracy = 0.869 0.869\n",
      "Train Loss = 0.156, Train Accuracy = 0.943 0.937, Test Loss = 0.432, Test Accuracy = 0.870 0.869\n",
      "Train Loss = 0.142, Train Accuracy = 0.949 0.938, Test Loss = 0.442, Test Accuracy = 0.871 0.867\n",
      "Train Loss = 0.181, Train Accuracy = 0.936 0.903, Test Loss = 0.465, Test Accuracy = 0.867 0.858\n",
      "Train Loss = 0.168, Train Accuracy = 0.933 0.931, Test Loss = 0.472, Test Accuracy = 0.862 0.867\n",
      "Train Loss = 0.174, Train Accuracy = 0.933 0.934, Test Loss = 0.470, Test Accuracy = 0.866 0.863\n",
      "Train Loss = 0.181, Train Accuracy = 0.934 0.929, Test Loss = 0.497, Test Accuracy = 0.858 0.860\n",
      "Train Loss = 0.165, Train Accuracy = 0.940 0.933, Test Loss = 0.466, Test Accuracy = 0.869 0.863\n",
      "Train Loss = 0.174, Train Accuracy = 0.939 0.925, Test Loss = 0.491, Test Accuracy = 0.859 0.859\n",
      "Train Loss = 0.161, Train Accuracy = 0.938 0.919, Test Loss = 0.448, Test Accuracy = 0.868 0.874\n",
      "Train Loss = 0.148, Train Accuracy = 0.946 0.924, Test Loss = 0.453, Test Accuracy = 0.873 0.871\n",
      "Train Loss = 0.161, Train Accuracy = 0.940 0.937, Test Loss = 0.465, Test Accuracy = 0.869 0.864\n",
      "Train Loss = 0.154, Train Accuracy = 0.945 0.943, Test Loss = 0.467, Test Accuracy = 0.867 0.875\n",
      "Train Loss = 0.143, Train Accuracy = 0.949 0.925, Test Loss = 0.452, Test Accuracy = 0.876 0.872\n",
      "Train Loss = 0.156, Train Accuracy = 0.941 0.931, Test Loss = 0.450, Test Accuracy = 0.872 0.874\n",
      "Train Loss = 0.160, Train Accuracy = 0.944 0.924, Test Loss = 0.470, Test Accuracy = 0.862 0.867\n",
      "Train Loss = 0.139, Train Accuracy = 0.949 0.944, Test Loss = 0.461, Test Accuracy = 0.876 0.874\n"
     ]
    },
    {
     "name": "stdout",
     "output_type": "stream",
     "text": [
      "Train Loss = 0.160, Train Accuracy = 0.938 0.926, Test Loss = 0.498, Test Accuracy = 0.861 0.862\n",
      "Train Loss = 0.147, Train Accuracy = 0.944 0.943, Test Loss = 0.447, Test Accuracy = 0.871 0.874\n",
      "Train Loss = 0.142, Train Accuracy = 0.950 0.936, Test Loss = 0.480, Test Accuracy = 0.870 0.870\n",
      "Train Loss = 0.144, Train Accuracy = 0.947 0.941, Test Loss = 0.462, Test Accuracy = 0.873 0.871\n",
      "Train Loss = 0.150, Train Accuracy = 0.943 0.932, Test Loss = 0.471, Test Accuracy = 0.864 0.869\n",
      "Train Loss = 0.138, Train Accuracy = 0.948 0.926, Test Loss = 0.481, Test Accuracy = 0.871 0.869\n",
      "Train Loss = 0.129, Train Accuracy = 0.953 0.948, Test Loss = 0.463, Test Accuracy = 0.874 0.876\n",
      "Train Loss = 0.155, Train Accuracy = 0.946 0.936, Test Loss = 0.486, Test Accuracy = 0.863 0.869\n",
      "Train Loss = 0.161, Train Accuracy = 0.941 0.939, Test Loss = 0.522, Test Accuracy = 0.861 0.873\n",
      "Train Loss = 0.135, Train Accuracy = 0.952 0.942, Test Loss = 0.485, Test Accuracy = 0.878 0.875\n",
      "Train Loss = 0.168, Train Accuracy = 0.933 0.944, Test Loss = 0.532, Test Accuracy = 0.856 0.870\n",
      "Train Loss = 0.161, Train Accuracy = 0.937 0.925, Test Loss = 0.517, Test Accuracy = 0.859 0.859\n",
      "Train Loss = 0.126, Train Accuracy = 0.956 0.942, Test Loss = 0.474, Test Accuracy = 0.873 0.879\n",
      "Train Loss = 0.143, Train Accuracy = 0.946 0.934, Test Loss = 0.526, Test Accuracy = 0.868 0.870\n",
      "Train Loss = 0.143, Train Accuracy = 0.948 0.940, Test Loss = 0.508, Test Accuracy = 0.868 0.873\n",
      "Train Loss = 0.175, Train Accuracy = 0.933 0.938, Test Loss = 0.606, Test Accuracy = 0.851 0.864\n"
     ]
    }
   ],
   "source": [
    "model = ConvNet()\n",
    "\n",
    "\n",
    "learning_rate = 0.04\n",
    "\n",
    "logs = []\n",
    "logs.append(compute_logs(model, verbose=True))\n",
    "\n",
    "batch_size = 16\n",
    "\n",
    "for _ in range(100):  # run multiple passes because our sub-sampled dataset is too small\n",
    "    model = minibatch_sgd_one_pass(model, X_train, y_train, learning_rate, \n",
    "                                   batch_size=batch_size, verbose=False,\n",
    "                                  use_train_augmentation=True)\n",
    "    logs.append(compute_logs(model, verbose=True))\n",
    "\n",
    "logs_aug = np.asarray(logs)\n"
   ]
  },
  {
   "cell_type": "code",
   "execution_count": 51,
   "metadata": {},
   "outputs": [
    {
     "data": {
      "text/plain": [
       "Text(0.5, 1.0, 'Test Loss')"
      ]
     },
     "execution_count": 51,
     "metadata": {},
     "output_type": "execute_result"
    },
    {
     "data": {
      "image/png": "[encoded data removed]",
      "text/plain": [
       "<Figure size 720x288 with 2 Axes>"
      ]
     },
     "metadata": {
      "needs_background": "light"
     },
     "output_type": "display_data"
    }
   ],
   "source": [
    "# Loss plots: Note that test augmentation does not impact train loss plots at all\n",
    "\n",
    "f, ax = plt.subplots(1, 2, figsize=(10, 4))\n",
    "ax[0].plot(logs_noaug[1:, 0], linewidth=3, label=\"No Augmentation\")\n",
    "ax[1].plot(logs_noaug[0:, 3], linewidth=3)\n",
    "\n",
    "ax[0].plot(logs_aug[1:, 0], linewidth=3, label=\"Train Augmentation\")\n",
    "ax[1].plot(logs_aug[0:, 3], linewidth=3)\n",
    "ax[0].legend(fontsize=18)\n",
    "\n",
    "for a in ax:\n",
    "    a.set_xlabel('#Passes', fontsize=18)\n",
    "    a.set_ylabel('loss', fontsize=18)\n",
    "ax[0].set_title('Train Loss', fontsize=18)\n",
    "ax[1].set_title('Test Loss', fontsize=18)\n"
   ]
  },
  {
   "cell_type": "code",
   "execution_count": 65,
   "metadata": {},
   "outputs": [
    {
     "data": {
      "image/png": "[encoded data removed]",
      "text/plain": [
       "<Figure size 720x288 with 2 Axes>"
      ]
     },
     "metadata": {
      "needs_background": "light"
     },
     "output_type": "display_data"
    }
   ],
   "source": [
    "f, ax = plt.subplots(1, 2, figsize=(10, 4))\n",
    "ax[0].plot(logs_noaug[1:, 1], linewidth=3, label=\"No Train/ No Test\")\n",
    "ax[0].plot(logs_noaug[1:, 2], linewidth=3, label=\"No Train/ Yes Test\")\n",
    "ax[1].plot(logs_noaug[1:, 4], linewidth=3)\n",
    "ax[1].plot(logs_noaug[1:, 5], linewidth=3)\n",
    "\n",
    "ax[0].plot(logs_aug[1:, 1], linewidth=3, label=\"Yes Train/ No Test\")\n",
    "ax[0].plot(logs_aug[1:, 2], linewidth=3, label=\"Yes Train/ Yes Test\")\n",
    "ax[1].plot(logs_aug[1:, 4], linewidth=3)\n",
    "ax[1].plot(logs_aug[1:, 5], linewidth=3)\n",
    "ax[0].legend(fontsize=18, loc='upper center', bbox_to_anchor=(0.75, -0.2),\n",
    "          fancybox=True, shadow=True, ncol=2)\n",
    "\n",
    "for a in ax:\n",
    "    a.set_xlabel('#Passes', fontsize=18)\n",
    "    a.set_ylabel('accuracy', fontsize=18)\n",
    "ax[0].set_title('Train Accuracy', fontsize=18)\n",
    "ax[1].set_title('Test Accuracy', fontsize=18)\n",
    "\n",
    "plt.tight_layout()"
   ]
  },
  {
   "cell_type": "markdown",
   "metadata": {},
   "source": [
    "**NOTE**: The options with data augmentation during training require more training passes for convergence.\n",
    "\n",
    "In this dataset, most images are centered. For real-world images, data augmentations lead to a substantial increase in accuracy."
   ]
  },
  {
   "cell_type": "markdown",
   "metadata": {},
   "source": [
    "# 3. Bonus\n",
    "\n",
    "Below shows the process for B=1, all other batch sizes are as follows. "
   ]
  },
  {
   "cell_type": "code",
   "execution_count": 3,
   "metadata": {},
   "outputs": [
    {
     "name": "stdout",
     "output_type": "stream",
     "text": [
      "X_train.shape = torch.Size([6000, 28, 28])\n",
      "n_train: 6000, n_test: 10000\n",
      "Image size: torch.Size([28, 28])\n"
     ]
    },
    {
     "data": {
      "image/png": "[encoded data removed]",
      "text/plain": [
       "<Figure size 2000x400 with 5 Axes>"
      ]
     },
     "metadata": {},
     "output_type": "display_data"
    }
   ],
   "source": [
    "from torchvision.datasets import FashionMNIST\n",
    "import matplotlib.pyplot as plt\n",
    "import torch\n",
    "import numpy as np\n",
    "\n",
    "# download dataset (~117M in size)\n",
    "train_dataset = FashionMNIST('./data', train=True, download=True)\n",
    "X_train = train_dataset.data # torch tensor of type uint8\n",
    "y_train = train_dataset.targets # torch tensor of type Long\n",
    "test_dataset = FashionMNIST('./data', train=False, download=True)\n",
    "X_test = test_dataset.data\n",
    "y_test = test_dataset.targets\n",
    "\n",
    "# choose a subsample of 10% of the data:\n",
    "idxs_train = torch.from_numpy(\n",
    "    np.random.choice(X_train.shape[0], replace=False, size=X_train.shape[0]//10)).long()\n",
    "X_train, y_train = X_train[idxs_train], y_train[idxs_train]\n",
    "# idxs_test = torch.from_numpy(\n",
    "#     np.random.choice(X_test.shape[0], replace=False, size=X_test.shape[0]//10))\n",
    "# X_test, y_test = X_test[idxs_test], y_test[idxs_test]\n",
    "\n",
    "print(f'X_train.shape = {X_train.shape}')\n",
    "print(f'n_train: {X_train.shape[0]}, n_test: {X_test.shape[0]}')\n",
    "print(f'Image size: {X_train.shape[1:]}')\n",
    "\n",
    "f, ax = plt.subplots(1, 5, figsize=(20, 4))\n",
    "for i, idx in enumerate(np.random.choice(X_train.shape[0], 5)):\n",
    "    ax[i].imshow(X_train[idx], cmap='gray', vmin=0, vmax=255)\n",
    "    ax[i].set_title(f'Label = {y_train[idx]}', fontsize=20)\n",
    "    \n",
    "# Normalize dataset: pixel values lie between 0 and 255\n",
    "# Normalize them so the pixelwise mean is zero and standard deviation is 1\n",
    "\n",
    "X_train = X_train.float()  # convert to float32\n",
    "X_train = X_train.view(-1, 784)\n",
    "mean, std = X_train.mean(axis=0), X_train.std(axis=0)\n",
    "X_train = (X_train - mean[None, :]) / (std[None, :] + 1e-6)  # avoid divide by zero\n",
    "\n",
    "X_test = X_test.float()\n",
    "X_test = X_test.view(-1, 784)\n",
    "X_test = (X_test - mean[None, :]) / (std[None, :] + 1e-6)\n",
    "\n",
    "n_class = np.unique(y_train).shape[0]"
   ]
  },
  {
   "cell_type": "code",
   "execution_count": 4,
   "metadata": {},
   "outputs": [],
   "source": [
    "from torch.nn.functional import cross_entropy\n",
    "\n",
    "def compute_objective(mlp, X, y):\n",
    "    \"\"\" Compute the multinomial logistic loss. \n",
    "        mlp is a module\n",
    "        X of shape (n, d) and y of shape (n,)\n",
    "    \"\"\"\n",
    "    # send \n",
    "    score = mlp(X)\n",
    "    # PyTorch's function cross_entropy computes the multinomial logistic loss\n",
    "    return cross_entropy(input=score, target=y, reduction='mean') \n",
    "\n",
    "@torch.no_grad()\n",
    "def compute_accuracy(mlp, X, y):\n",
    "    \"\"\" Compute the  accuracy\n",
    "        ws is a list of tensors of consistent shapes \n",
    "        X of shape (n, d) and y of shape (n,)\n",
    "    \"\"\"\n",
    "    score = mlp(X)\n",
    "    predictions = torch.argmax(score, axis=1)  # class with highest score is predicted\n",
    "    return (predictions == y).sum() * 1.0 / y.shape[0]\n",
    "\n",
    "@torch.no_grad()\n",
    "def compute_logs(mlp, verbose=False):\n",
    "    train_loss = compute_objective(mlp, X_train, y_train)\n",
    "    test_loss = compute_objective(mlp, X_test, y_test)\n",
    "    train_accuracy = compute_accuracy(mlp, X_train, y_train)\n",
    "    test_accuracy = compute_accuracy(mlp, X_test, y_test)\n",
    "    if verbose:\n",
    "        print(('Train Loss = {:.3f}, Train Accuracy = {:.3f}, ' + \n",
    "               'Test Loss = {:.3f}, Test Accuracy = {:.3f}').format(\n",
    "                train_loss.item(), train_accuracy.item(), \n",
    "                test_loss.item(), test_accuracy.item())\n",
    "    )\n",
    "    return (train_loss, train_accuracy, test_loss, test_accuracy)\n",
    "\n",
    "def sgd_one_pass(mlp, X, y, learning_rate, verbose=False):\n",
    "    num_examples = X.shape[0]\n",
    "    average_loss = 0.0\n",
    "    for i in range(num_examples):\n",
    "        idx = np.random.choice(X.shape[0])\n",
    "        # compute the objective. \n",
    "        # Note: This function requires X to be of shape (n,d). In this case, n=1 \n",
    "        objective = compute_objective(mlp, X[idx:idx+1], y[idx:idx+1]) \n",
    "        average_loss = 0.99 * average_loss + 0.01 * objective.item()\n",
    "        if verbose and (i+1) % 100 == 0:\n",
    "            print(average_loss)\n",
    "        \n",
    "        # compute the gradient using automatic differentiation\n",
    "        gradients = torch.autograd.grad(outputs=objective, inputs=mlp.parameters())\n",
    "        \n",
    "        # perform SGD update. IMPORTANT: Make the update inplace!\n",
    "        with torch.no_grad():\n",
    "            for (w, g) in zip(mlp.parameters(), gradients):\n",
    "                w -= learning_rate * g\n",
    "    return mlp"
   ]
  },
  {
   "cell_type": "code",
   "execution_count": 8,
   "metadata": {},
   "outputs": [],
   "source": [
    "import torch\n",
    "import numpy as np\n",
    "\n",
    "class LinearModule(torch.nn.Module):  #  1. sub-class torch.nn.Module\n",
    "    # This way, the new LinearModule class extends torch.nn.Module and \n",
    "    # inherits all the functions of torch.nn.Module.\n",
    "    \n",
    "    # 2. pass in any number of arguments used to define the module to the constructor\n",
    "    def __init__(self, input_dim, output_dim): # we pass in input and output dimensions\n",
    "        super().__init__()  # call the constructor of the super class\n",
    "        # This initializes the torch.nn.Module class which sets up \n",
    "        # attributes such as `.parameters()` required for the code to work.\n",
    "        \n",
    "        # 3. Declare all parameters using `torch.nn.Parameter`\n",
    "        self.weight = torch.nn.Parameter(torch.randn(input_dim, output_dim) * 1/output_dim)\n",
    "        self.bias = torch.nn.Parameter(torch.zeros(output_dim))\n",
    "        # At this point, theta = (W, b), where W is represented by self.weight and b by self.bias\n",
    "        \n",
    "    # 4. Define the forward function f(x; theta), where x denotes the inputs\n",
    "    def forward(self, inputs):\n",
    "        # we expect `inputs` to be of shape (n, input_dim), where n is the number of inputs\n",
    "        assert len(inputs.shape) == 2 and inputs.shape[1] == self.weight.shape[0]\n",
    "        # Apply `f(x; theta) = W^T x + b` to each row of `inputs`\n",
    "        return torch.stack([torch.matmul(self.weight.t(), x) + self.bias for x in inputs])\n",
    "        \n",
    "    # NOTE: we have used only library functions here, so we do not need to supply gradient computations here\n",
    "    # Automatic differentiation does the rest for us"
   ]
  },
  {
   "cell_type": "code",
   "execution_count": 9,
   "metadata": {},
   "outputs": [],
   "source": [
    "# we use our own definition of the ReLU function\n",
    "def relu_function(x): # x is an arbitrary tensor\n",
    "    return torch.where(x >= 0, x, torch.zeros_like(x)) # same behavior as np.where\n",
    "\n",
    "class TwoLayerPerceptron(torch.nn.Module):  # sub-class `torch.nn.Module`\n",
    "    def __init__(self, input_dim, hidden_width, output_dim):\n",
    "        super().__init__()  # initialize super-class (Required for correctness!)\n",
    "        # register parameters or sub-modules in the constructor\n",
    "        self.input_to_hidden = LinearModule(input_dim, hidden_width)\n",
    "        self.hidden_to_output = LinearModule(hidden_width, output_dim)\n",
    "        \n",
    "    def forward(self, x): # compute the function f(x; theta) for input x\n",
    "        hidden = self.input_to_hidden(x)  # apply the first linear module\n",
    "        hidden = relu_function(hidden)  # apply the non-linearity\n",
    "        return self.hidden_to_output(hidden)  # apply the final linear module"
   ]
  },
  {
   "cell_type": "code",
   "execution_count": 14,
   "metadata": {},
   "outputs": [],
   "source": [
    "def minibatch_sgd_one_pass(mlp, X, y, learning_rate, batch_size, verbose=False):\n",
    "    num_examples = X.shape[0]\n",
    "    average_loss = 0.0\n",
    "    num_updates = int(round(50 * num_examples / batch_size))\n",
    "    for i in range(num_updates):\n",
    "        idxs = np.random.choice(X.shape[0], size=(batch_size,)) # draw `batch_size` many samples\n",
    "        # compute the objective. \n",
    "        objective = compute_objective(mlp, X[idxs], y[idxs]) \n",
    "        average_loss = 0.99 * average_loss + 0.01 * objective.item()\n",
    "        if verbose and (i+1) % 100 == 0:\n",
    "            print(average_loss)\n",
    "        \n",
    "        # compute the gradient using automatic differentiation\n",
    "        gradients = torch.autograd.grad(outputs=objective, inputs=mlp.parameters())\n",
    "        \n",
    "        # perform SGD update. IMPORTANT: Make the update inplace!\n",
    "        with torch.no_grad():\n",
    "            for (w, g) in zip(mlp.parameters(), gradients):\n",
    "                w -= learning_rate * g\n",
    "    return mlp"
   ]
  },
  {
   "cell_type": "code",
   "execution_count": 25,
   "metadata": {},
   "outputs": [
    {
     "name": "stdout",
     "output_type": "stream",
     "text": [
      "Train Loss = 2.419, Train Accuracy = 0.074, Test Loss = 2.420, Test Accuracy = 0.071\n",
      "0\n",
      "Train Loss = 0.028, Train Accuracy = 0.997, Test Loss = 0.704, Test Accuracy = 0.840\n",
      "1\n",
      "Train Loss = 0.006, Train Accuracy = 1.000, Test Loss = 0.869, Test Accuracy = 0.841\n",
      "2\n",
      "Train Loss = 0.003, Train Accuracy = 1.000, Test Loss = 0.958, Test Accuracy = 0.840\n",
      "3\n",
      "Train Loss = 0.002, Train Accuracy = 1.000, Test Loss = 1.016, Test Accuracy = 0.839\n",
      "4\n",
      "Train Loss = 0.001, Train Accuracy = 1.000, Test Loss = 1.060, Test Accuracy = 0.839\n",
      "5\n",
      "Train Loss = 0.001, Train Accuracy = 1.000, Test Loss = 1.094, Test Accuracy = 0.839\n",
      "6\n",
      "Train Loss = 0.001, Train Accuracy = 1.000, Test Loss = 1.122, Test Accuracy = 0.839\n",
      "7\n",
      "Train Loss = 0.001, Train Accuracy = 1.000, Test Loss = 1.147, Test Accuracy = 0.839\n",
      "8\n",
      "Train Loss = 0.001, Train Accuracy = 1.000, Test Loss = 1.168, Test Accuracy = 0.839\n",
      "9\n",
      "Train Loss = 0.001, Train Accuracy = 1.000, Test Loss = 1.186, Test Accuracy = 0.838\n",
      "10\n",
      "Train Loss = 0.000, Train Accuracy = 1.000, Test Loss = 1.203, Test Accuracy = 0.839\n",
      "11\n",
      "Train Loss = 0.000, Train Accuracy = 1.000, Test Loss = 1.218, Test Accuracy = 0.838\n",
      "12\n",
      "Train Loss = 0.000, Train Accuracy = 1.000, Test Loss = 1.232, Test Accuracy = 0.838\n",
      "13\n",
      "Train Loss = 0.000, Train Accuracy = 1.000, Test Loss = 1.246, Test Accuracy = 0.838\n",
      "14\n",
      "Train Loss = 0.000, Train Accuracy = 1.000, Test Loss = 1.258, Test Accuracy = 0.839\n",
      "15\n",
      "Train Loss = 0.000, Train Accuracy = 1.000, Test Loss = 1.270, Test Accuracy = 0.839\n",
      "16\n",
      "Train Loss = 0.000, Train Accuracy = 1.000, Test Loss = 1.279, Test Accuracy = 0.839\n",
      "17\n",
      "Train Loss = 0.000, Train Accuracy = 1.000, Test Loss = 1.289, Test Accuracy = 0.838\n",
      "18\n",
      "Train Loss = 0.000, Train Accuracy = 1.000, Test Loss = 1.299, Test Accuracy = 0.839\n",
      "19\n",
      "Train Loss = 0.000, Train Accuracy = 1.000, Test Loss = 1.307, Test Accuracy = 0.838\n",
      "20\n",
      "Train Loss = 0.000, Train Accuracy = 1.000, Test Loss = 1.315, Test Accuracy = 0.838\n",
      "21\n",
      "Train Loss = 0.000, Train Accuracy = 1.000, Test Loss = 1.323, Test Accuracy = 0.838\n",
      "22\n",
      "Train Loss = 0.000, Train Accuracy = 1.000, Test Loss = 1.331, Test Accuracy = 0.838\n",
      "23\n",
      "Train Loss = 0.000, Train Accuracy = 1.000, Test Loss = 1.338, Test Accuracy = 0.838\n",
      "24\n",
      "Train Loss = 0.000, Train Accuracy = 1.000, Test Loss = 1.345, Test Accuracy = 0.837\n",
      "25\n",
      "Train Loss = 0.000, Train Accuracy = 1.000, Test Loss = 1.352, Test Accuracy = 0.837\n",
      "26\n",
      "Train Loss = 0.000, Train Accuracy = 1.000, Test Loss = 1.358, Test Accuracy = 0.837\n",
      "27\n",
      "Train Loss = 0.000, Train Accuracy = 1.000, Test Loss = 1.365, Test Accuracy = 0.838\n",
      "28\n",
      "Train Loss = 0.000, Train Accuracy = 1.000, Test Loss = 1.371, Test Accuracy = 0.837\n",
      "29\n",
      "Train Loss = 0.000, Train Accuracy = 1.000, Test Loss = 1.376, Test Accuracy = 0.837\n",
      "30\n",
      "Train Loss = 0.000, Train Accuracy = 1.000, Test Loss = 1.382, Test Accuracy = 0.837\n",
      "31\n",
      "Train Loss = 0.000, Train Accuracy = 1.000, Test Loss = 1.387, Test Accuracy = 0.837\n",
      "32\n",
      "Train Loss = 0.000, Train Accuracy = 1.000, Test Loss = 1.392, Test Accuracy = 0.837\n",
      "33\n",
      "Train Loss = 0.000, Train Accuracy = 1.000, Test Loss = 1.397, Test Accuracy = 0.837\n",
      "34\n",
      "Train Loss = 0.000, Train Accuracy = 1.000, Test Loss = 1.402, Test Accuracy = 0.837\n",
      "35\n",
      "Train Loss = 0.000, Train Accuracy = 1.000, Test Loss = 1.406, Test Accuracy = 0.837\n",
      "36\n",
      "Train Loss = 0.000, Train Accuracy = 1.000, Test Loss = 1.411, Test Accuracy = 0.837\n",
      "37\n",
      "Train Loss = 0.000, Train Accuracy = 1.000, Test Loss = 1.415, Test Accuracy = 0.837\n",
      "38\n",
      "Train Loss = 0.000, Train Accuracy = 1.000, Test Loss = 1.420, Test Accuracy = 0.837\n",
      "39\n",
      "Train Loss = 0.000, Train Accuracy = 1.000, Test Loss = 1.424, Test Accuracy = 0.837\n",
      "40\n",
      "Train Loss = 0.000, Train Accuracy = 1.000, Test Loss = 1.428, Test Accuracy = 0.837\n",
      "41\n",
      "Train Loss = 0.000, Train Accuracy = 1.000, Test Loss = 1.432, Test Accuracy = 0.837\n",
      "42\n",
      "Train Loss = 0.000, Train Accuracy = 1.000, Test Loss = 1.436, Test Accuracy = 0.837\n",
      "43\n",
      "Train Loss = 0.000, Train Accuracy = 1.000, Test Loss = 1.440, Test Accuracy = 0.837\n",
      "44\n",
      "Train Loss = 0.000, Train Accuracy = 1.000, Test Loss = 1.444, Test Accuracy = 0.837\n",
      "45\n",
      "Train Loss = 0.000, Train Accuracy = 1.000, Test Loss = 1.448, Test Accuracy = 0.837\n",
      "46\n",
      "Train Loss = 0.000, Train Accuracy = 1.000, Test Loss = 1.451, Test Accuracy = 0.837\n",
      "47\n",
      "Train Loss = 0.000, Train Accuracy = 1.000, Test Loss = 1.455, Test Accuracy = 0.837\n",
      "48\n",
      "Train Loss = 0.000, Train Accuracy = 1.000, Test Loss = 1.458, Test Accuracy = 0.836\n",
      "49\n",
      "Train Loss = 0.000, Train Accuracy = 1.000, Test Loss = 1.461, Test Accuracy = 0.837\n"
     ]
    }
   ],
   "source": [
    "learning_rate = 1e-3\n",
    "\n",
    "logs = []\n",
    "\n",
    "mlp = TwoLayerPerceptron(input_dim=784, hidden_width=64, output_dim=10)\n",
    "logs.append(compute_logs(mlp, verbose=True))\n",
    "\n",
    "batch_size = 1\n",
    "\n",
    "for _ in range(50):  # run multiple passes because our sub-sampled dataset is too small\n",
    "    print(_)\n",
    "    mlp = minibatch_sgd_one_pass(mlp, X_train, y_train, learning_rate, batch_size=batch_size, verbose=False)\n",
    "    logs.append(compute_logs(mlp, verbose=True))"
   ]
  },
  {
   "cell_type": "code",
   "execution_count": 26,
   "metadata": {},
   "outputs": [
    {
     "data": {
      "text/plain": [
       "<matplotlib.legend.Legend at 0x7f9fe929b970>"
      ]
     },
     "execution_count": 26,
     "metadata": {},
     "output_type": "execute_result"
    },
    {
     "data": {
      "image/png": "[encoded data removed]",
      "text/plain": [
       "<Figure size 1000x400 with 2 Axes>"
      ]
     },
     "metadata": {},
     "output_type": "display_data"
    }
   ],
   "source": [
    "logs = np.asarray(logs)\n",
    "\n",
    "f, ax = plt.subplots(1, 2, figsize=(10, 4))\n",
    "ax[0].plot(logs[:, 0], label='Train')\n",
    "ax[0].plot(logs[:, 2], label='Test')\n",
    "ax[0].set_title('Loss', fontsize=18)\n",
    "ax[0].set_xlabel('#Passes', fontsize=18)\n",
    "\n",
    "ax[1].plot(logs[:, 1], label='Train')\n",
    "ax[1].plot(logs[:, 3], label='Test')\n",
    "ax[1].set_title('Accuracy', fontsize=18)\n",
    "ax[1].set_xlabel('#Passes', fontsize=18)\n",
    "\n",
    "ax[0].legend(fontsize=18)"
   ]
  }
 ],
 "metadata": {
  "interpreter": {
   "hash": "694a2605e6c4cb7e5ecd12cf55a62475b886d9de17fe0247424478eb05601482"
  },
  "kernelspec": {
   "display_name": "Python 3.8.15",
   "language": "python",
   "name": "python3"
  },
  "language_info": {
   "codemirror_mode": {
    "name": "ipython",
    "version": 3
   },
   "file_extension": ".py",
   "mimetype": "text/x-python",
   "name": "python",
   "nbconvert_exporter": "python",
   "pygments_lexer": "ipython3",
   "version": "3.8.15"
  }
 },
 "nbformat": 4,
 "nbformat_minor": 2
}
